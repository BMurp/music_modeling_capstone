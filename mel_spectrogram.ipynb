{
 "cells": [
  {
   "cell_type": "markdown",
   "id": "a859a8c8-54eb-4dd4-bad5-5f5313a6c7dc",
   "metadata": {},
   "source": [
    "# Libraries"
   ]
  },
  {
   "cell_type": "code",
   "execution_count": 20,
   "id": "8624dbc7-aeb1-4d8d-9e53-50f278513885",
   "metadata": {},
   "outputs": [],
   "source": [
    "import pandas as pd\n",
    "import numpy as np\n",
    "import os\n",
    "import librosa\n",
    "import librosa.display\n",
    "import matplotlib.pyplot as plt\n",
    "from IPython.display import Audio"
   ]
  },
  {
   "cell_type": "markdown",
   "id": "2023ef58-a6fe-4e52-9a5b-c639d9ca515c",
   "metadata": {},
   "source": [
    "# Mel Spectrogram Generation from Audio Files\n",
    "\n",
    "This script processes audio files stored in different genre folders (e.g., rock, jazz, reggae), extracts **Mel Spectrograms** from each `.wav` file, and saves the resulting spectrograms as PNG images. The script handles multiple genres, ensures each image has a unique filename, and skips any files that encounter errors (e.g., corrupted files or unsupported formats).\n",
    "\n",
    "### Key Steps:\n",
    "1. **Iterates through each genre** in the specified list of genres (`rock`, `reggae`, etc.).\n",
    "2. **Processes each `.wav` file** in each genre folder, generating a Mel Spectrogram using the `librosa` library.\n",
    "3. **Saves each Mel Spectrogram** as a PNG file in an output folder, organized by genre.\n",
    "4. **Error Handling**: Files that fail to process (due to format issues, corruption, etc.) are skipped, and an error message is printed to the console.\n",
    "\n",
    "The generated spectrogram images can be used for audio classification, analysis, or visualization.\n"
   ]
  },
  {
   "cell_type": "code",
   "execution_count": null,
   "id": "2f054ff7-e11a-41fa-a736-20ec6ac147e3",
   "metadata": {},
   "outputs": [
    {
     "name": "stdout",
     "output_type": "stream",
     "text": [
      "Saved: mel_spectrograms/rock/rock_0.png\n",
      "Saved: mel_spectrograms/rock/rock_1.png\n",
      "Saved: mel_spectrograms/rock/rock_2.png\n",
      "Saved: mel_spectrograms/rock/rock_3.png\n",
      "Saved: mel_spectrograms/rock/rock_4.png\n",
      "Saved: mel_spectrograms/rock/rock_5.png\n",
      "Saved: mel_spectrograms/rock/rock_6.png\n",
      "Saved: mel_spectrograms/rock/rock_7.png\n",
      "Saved: mel_spectrograms/rock/rock_8.png\n",
      "Saved: mel_spectrograms/rock/rock_9.png\n",
      "Saved: mel_spectrograms/rock/rock_10.png\n",
      "Saved: mel_spectrograms/rock/rock_11.png\n",
      "Saved: mel_spectrograms/rock/rock_12.png\n",
      "Saved: mel_spectrograms/rock/rock_13.png\n",
      "Saved: mel_spectrograms/rock/rock_14.png\n",
      "Saved: mel_spectrograms/rock/rock_15.png\n",
      "Saved: mel_spectrograms/rock/rock_16.png\n",
      "Saved: mel_spectrograms/rock/rock_17.png\n",
      "Saved: mel_spectrograms/rock/rock_18.png\n",
      "Saved: mel_spectrograms/rock/rock_19.png\n",
      "Saved: mel_spectrograms/rock/rock_20.png\n",
      "Saved: mel_spectrograms/rock/rock_21.png\n",
      "Saved: mel_spectrograms/rock/rock_22.png\n",
      "Saved: mel_spectrograms/rock/rock_23.png\n"
     ]
    }
   ],
   "source": [
    "# Path to the folder that contains the 'genres' folder\n",
    "base_path = 'genres'\n",
    "\n",
    "# Directory to save the Mel Spectrogram images\n",
    "output_dir = 'mel_spectrograms'\n",
    "\n",
    "# List of genres \n",
    "genres = ['rock', 'reggae', 'pop', 'metal', 'jazz', 'hip hop', 'disco', 'country', 'classical', 'blues']\n",
    "\n",
    "# Create the output directory\n",
    "if not os.path.exists(output_dir):\n",
    "    os.makedirs(output_dir)\n",
    "\n",
    "def save_mel_spectrogram(audio_file, output_image):\n",
    "    \"\"\"Generates and saves Mel Spectrogram as an image.\"\"\"\n",
    "    try:\n",
    "        y, sr = librosa.load(audio_file, sr=None)\n",
    "        \n",
    "        # Generate Mel Spectrogram\n",
    "        mel_spec = librosa.feature.melspectrogram(y=y, sr=sr, n_mels=128)\n",
    "        mel_spec_db = librosa.power_to_db(mel_spec, ref=np.max)\n",
    "        \n",
    "        # Plot and save as image\n",
    "        plt.figure(figsize=(10, 4))\n",
    "        librosa.display.specshow(mel_spec_db, sr=sr, x_axis='time', y_axis='mel')\n",
    "        plt.colorbar(format='%+2.0f dB')\n",
    "        plt.title(f'Mel Spectrogram of {os.path.basename(audio_file)}')\n",
    "        plt.tight_layout()\n",
    "        plt.savefig(output_image)\n",
    "        plt.close()\n",
    "    except Exception as e:\n",
    "        print(f\"Error processing {audio_file}: {e}\")\n",
    "\n",
    "# Loop through each genre folder and process the WAV files\n",
    "for genre in genres:\n",
    "    genre_dir = os.path.join(base_path, genre)\n",
    "    genre_output_dir = os.path.join(output_dir, genre)\n",
    "    \n",
    "    # Create a directory for the genre\n",
    "    if not os.path.exists(genre_output_dir):\n",
    "        os.makedirs(genre_output_dir)\n",
    "    \n",
    "    # Process each WAV file in the genre folder\n",
    "    for idx, file_name in enumerate(os.listdir(genre_dir)):\n",
    "        if file_name.endswith('.wav'):\n",
    "            file_path = os.path.join(genre_dir, file_name)\n",
    "            \n",
    "            # Ensure each file has a unique filename\n",
    "            output_image_path = os.path.join(genre_output_dir, f\"{file_name.split('.')[0]}_{idx}.png\")\n",
    "            \n",
    "            # Generate and save the Mel Spectrogram\n",
    "            save_mel_spectrogram(file_path, output_image_path)\n",
    "            print(f'Saved: {output_image_path}')\n"
   ]
  },
  {
   "cell_type": "markdown",
   "id": "d8105704-f67e-40e5-868b-0394f208b13e",
   "metadata": {},
   "source": [
    "# Zipping and Downloading the Mel Spectrograms Folder in Jupyter Notebook\n",
    "\n",
    "The following steps outline how to zip the `mel_spectrograms` folder and download it to your local desktop from a Jupyter Notebook."
   ]
  },
  {
   "cell_type": "code",
   "execution_count": null,
   "id": "8c982439-23f3-452c-bd5c-c18be6188f84",
   "metadata": {},
   "outputs": [],
   "source": [
    "import shutil\n",
    "\n",
    "# Path to the folder\n",
    "folder_to_zip = 'mel_spectrograms'\n",
    "\n",
    "# Output path for the zip file\n",
    "output_zip = 'mel_spectrograms.zip'\n",
    "\n",
    "# Zip the folder\n",
    "shutil.make_archive(output_zip.replace('.zip', ''), 'zip', folder_to_zip)"
   ]
  }
 ],
 "metadata": {
  "kernelspec": {
   "display_name": "anaconda-panel-2023.05-py310",
   "language": "python",
   "name": "conda-env-anaconda-panel-2023.05-py310-py"
  },
  "language_info": {
   "codemirror_mode": {
    "name": "ipython",
    "version": 3
   },
   "file_extension": ".py",
   "mimetype": "text/x-python",
   "name": "python",
   "nbconvert_exporter": "python",
   "pygments_lexer": "ipython3",
   "version": "3.11.5"
  }
 },
 "nbformat": 4,
 "nbformat_minor": 5
}
