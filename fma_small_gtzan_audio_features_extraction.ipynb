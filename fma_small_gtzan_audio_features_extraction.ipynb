{
  "nbformat": 4,
  "nbformat_minor": 0,
  "metadata": {
    "colab": {
      "provenance": []
    },
    "kernelspec": {
      "name": "python3",
      "display_name": "Python 3"
    },
    "language_info": {
      "name": "python"
    }
  },
  "cells": [
    {
      "cell_type": "markdown",
      "source": [
        "## Libraries"
      ],
      "metadata": {
        "id": "XpIp-_IkkfMV"
      }
    },
    {
      "cell_type": "code",
      "source": [
        "import os\n",
        "import pandas as pd\n",
        "import numpy as np\n",
        "import librosa\n",
        "import matplotlib.pyplot as plt\n",
        "import numpy as np\n",
        "import IPython.display as ipd\n",
        "import warnings"
      ],
      "metadata": {
        "id": "YCmVBcvUkbrv"
      },
      "execution_count": 2,
      "outputs": []
    },
    {
      "cell_type": "markdown",
      "source": [
        "## Importing Data"
      ],
      "metadata": {
        "id": "jtwzaWx3oqW7"
      }
    },
    {
      "cell_type": "code",
      "execution_count": null,
      "metadata": {
        "id": "4c2PZFlfaJf1"
      },
      "outputs": [],
      "source": [
        "from google.colab import drive\n",
        "drive.mount('/content/drive')"
      ]
    },
    {
      "cell_type": "code",
      "source": [
        "# Define the folder path using your Drive mount and folder ID\n",
        "gtzan_folder_path = '/content/drive/MyDrive/project_data_source/gtzan_dataset/Data/genres_original'  # Adjust if the folder is nested within other folders\n",
        "\n",
        "# List all files in the folder\n",
        "for root, dirs, files in os.walk(gtzan_folder_path):\n",
        "    print(f\"Found directory: {root}\")"
      ],
      "metadata": {
        "id": "4QZ_qjcdaKPh",
        "colab": {
          "base_uri": "https://localhost:8080/"
        },
        "outputId": "dbddfc70-e48e-4d38-d924-f00cc31075b0"
      },
      "execution_count": 17,
      "outputs": [
        {
          "output_type": "stream",
          "name": "stdout",
          "text": [
            "Found directory: /content/drive/MyDrive/project_data_source/gtzan_dataset/Data/genres_original\n",
            "Found directory: /content/drive/MyDrive/project_data_source/gtzan_dataset/Data/genres_original/rock\n",
            "Found directory: /content/drive/MyDrive/project_data_source/gtzan_dataset/Data/genres_original/jazz\n",
            "Found directory: /content/drive/MyDrive/project_data_source/gtzan_dataset/Data/genres_original/reggae\n",
            "Found directory: /content/drive/MyDrive/project_data_source/gtzan_dataset/Data/genres_original/country\n",
            "Found directory: /content/drive/MyDrive/project_data_source/gtzan_dataset/Data/genres_original/classical\n",
            "Found directory: /content/drive/MyDrive/project_data_source/gtzan_dataset/Data/genres_original/hiphop\n",
            "Found directory: /content/drive/MyDrive/project_data_source/gtzan_dataset/Data/genres_original/metal\n",
            "Found directory: /content/drive/MyDrive/project_data_source/gtzan_dataset/Data/genres_original/disco\n",
            "Found directory: /content/drive/MyDrive/project_data_source/gtzan_dataset/Data/genres_original/pop\n",
            "Found directory: /content/drive/MyDrive/project_data_source/gtzan_dataset/Data/genres_original/blues\n"
          ]
        }
      ]
    },
    {
      "cell_type": "code",
      "source": [
        "# Define the folder path using your Drive mount and folder ID\n",
        "fma_folder_path = '/content/drive/MyDrive/project_data_source/free_music_archive/fma_metadata'\n",
        "\n",
        "# List all files in the folder\n",
        "for root, dirs, files in os.walk(fma_folder_path):\n",
        "    print(f\"Found directory: {root}\")\n",
        "    for file in files:\n",
        "        print(f\" - {file}\")"
      ],
      "metadata": {
        "colab": {
          "base_uri": "https://localhost:8080/"
        },
        "id": "UOaCHJ8SEcpm",
        "outputId": "d84d6810-67fb-419e-dafb-633cb4a2fa1b"
      },
      "execution_count": 5,
      "outputs": [
        {
          "output_type": "stream",
          "name": "stdout",
          "text": [
            "Found directory: /content/drive/MyDrive/project_data_source/free_music_archive/fma_metadata\n",
            " - not_found.pickle\n",
            " - checksums\n",
            " - raw_tracks.csv\n",
            " - raw_artists.csv\n",
            " - genres.csv\n",
            " - raw_albums.csv\n",
            " - features.csv\n",
            " - tracks.csv\n",
            " - echonest.csv\n",
            " - README.txt\n",
            " - raw_genres.csv\n",
            " - raw_echonest.csv\n"
          ]
        }
      ]
    },
    {
      "cell_type": "code",
      "source": [
        "# Suppress DtypeWarning to avoid unnecessary output\n",
        "warnings.simplefilter(action='ignore', category=pd.errors.DtypeWarning)\n",
        "\n",
        "# Define the folder path to the FMA metadata\n",
        "fma_folder_path = '/content/drive/MyDrive/project_data_source/free_music_archive/fma_metadata'\n",
        "\n",
        "# List all files in the folder for verification\n",
        "for root, dirs, files in os.walk(fma_folder_path):\n",
        "    print(f\"Found directory: {root}\")\n",
        "    for file in files:\n",
        "        print(f\" - {file}\")\n",
        "\n",
        "# Initialize an empty dictionary to store DataFrames\n",
        "fma_dfs = {}\n",
        "\n",
        "# Loop through the files and load each CSV into a DataFrame\n",
        "for filename in os.listdir(fma_folder_path):\n",
        "    if filename.endswith('.csv'):\n",
        "        file_path = os.path.join(fma_folder_path, filename)\n",
        "        df_name = filename[:-4]  # Remove the .csv extension for DataFrame name\n",
        "        print(f'Loading {filename}...')\n",
        "\n",
        "        try:\n",
        "            # Load the CSV file and store it in the dictionary\n",
        "            fma_dfs[df_name] = pd.read_csv(file_path, low_memory=False)\n",
        "            print(f'Successfully loaded {df_name} with {fma_dfs[df_name].shape[0]} rows.')\n",
        "        except Exception as e:\n",
        "            print(f'Error loading {filename}: {e}')"
      ],
      "metadata": {
        "colab": {
          "base_uri": "https://localhost:8080/"
        },
        "id": "ur0R9ipArlhz",
        "outputId": "628cdd39-9453-4a78-816a-55c34d5dfbe1"
      },
      "execution_count": 6,
      "outputs": [
        {
          "output_type": "stream",
          "name": "stdout",
          "text": [
            "Found directory: /content/drive/MyDrive/project_data_source/free_music_archive/fma_metadata\n",
            " - not_found.pickle\n",
            " - checksums\n",
            " - raw_tracks.csv\n",
            " - raw_artists.csv\n",
            " - genres.csv\n",
            " - raw_albums.csv\n",
            " - features.csv\n",
            " - tracks.csv\n",
            " - echonest.csv\n",
            " - README.txt\n",
            " - raw_genres.csv\n",
            " - raw_echonest.csv\n",
            "Loading raw_tracks.csv...\n",
            "Successfully loaded raw_tracks with 109727 rows.\n",
            "Loading raw_artists.csv...\n",
            "Successfully loaded raw_artists with 16916 rows.\n",
            "Loading genres.csv...\n",
            "Successfully loaded genres with 163 rows.\n",
            "Loading raw_albums.csv...\n",
            "Successfully loaded raw_albums with 15234 rows.\n",
            "Loading features.csv...\n",
            "Successfully loaded features with 106577 rows.\n",
            "Loading tracks.csv...\n",
            "Successfully loaded tracks with 106576 rows.\n",
            "Loading echonest.csv...\n",
            "Successfully loaded echonest with 13132 rows.\n",
            "Loading raw_genres.csv...\n",
            "Successfully loaded raw_genres with 164 rows.\n",
            "Loading raw_echonest.csv...\n",
            "Successfully loaded raw_echonest with 14514 rows.\n"
          ]
        }
      ]
    },
    {
      "cell_type": "code",
      "source": [
        "fma_raw_tracks_df = fma_dfs['raw_tracks']\n",
        "fma_raw_artists_df = fma_dfs['raw_artists']\n",
        "fma_raw_albums_df = fma_dfs['raw_albums']\n",
        "fma_raw_genres_df = fma_dfs['raw_genres']\n",
        "fma_features_df = fma_dfs['features']\n",
        "fma_tracks_df = fma_dfs['tracks']\n",
        "fma_echonest_df = fma_dfs['echonest']\n",
        "fma_raw_echonest_df = fma_dfs['raw_echonest']"
      ],
      "metadata": {
        "id": "QXIwnjjolZmC"
      },
      "execution_count": 7,
      "outputs": []
    },
    {
      "cell_type": "markdown",
      "source": [
        "## Feature Extraction"
      ],
      "metadata": {
        "id": "VsIVg8nAojNS"
      }
    },
    {
      "cell_type": "markdown",
      "source": [
        "### Extract audio features from fma_small Dataset"
      ],
      "metadata": {
        "id": "aJUIDLrltwM9"
      }
    },
    {
      "cell_type": "code",
      "source": [
        "# Define the path to the fma_small directory\n",
        "audio_root_folder = '/content/drive/MyDrive/project_data_source/free_music_archive/fma_small'\n",
        "\n",
        "# Function to extract features from a single audio file\n",
        "def extract_features(file_path):\n",
        "    try:\n",
        "        y, sr = librosa.load(file_path, sr=None)\n",
        "\n",
        "        # Spectral Centroid\n",
        "        spectral_centroids = librosa.feature.spectral_centroid(y=y, sr=sr)\n",
        "        spectral_centroids_mean = np.mean(spectral_centroids)\n",
        "        spectral_centroids_delta_mean = np.mean(librosa.feature.delta(spectral_centroids))\n",
        "        spectral_centroids_accelerate_mean = np.mean(librosa.feature.delta(spectral_centroids, order=2))\n",
        "\n",
        "        # Spectral Bandwidth\n",
        "        spectral_bandwidth = librosa.feature.spectral_bandwidth(y=y, sr=sr)\n",
        "        spectral_bandwidth_mean = np.mean(spectral_bandwidth)\n",
        "\n",
        "        # Spectral Rolloff\n",
        "        spectral_rolloff = librosa.feature.spectral_rolloff(y=y, sr=sr)\n",
        "        spectral_rolloff_mean = np.mean(spectral_rolloff)\n",
        "\n",
        "        # Zero Crossing Rate\n",
        "        zero_crossing_rate = librosa.feature.zero_crossing_rate(y)\n",
        "        zero_crossing_rate_mean = np.mean(zero_crossing_rate)\n",
        "\n",
        "        # RMS (Root Mean Square) Energy\n",
        "        rms = librosa.feature.rms(y=y)\n",
        "        rms_mean = np.mean(rms)\n",
        "\n",
        "        # Chroma STFT\n",
        "        chroma_stft = librosa.feature.chroma_stft(y=y, sr=sr)\n",
        "        chroma_stft_mean = np.mean(chroma_stft)\n",
        "\n",
        "        # MFCCs (Mel-Frequency Cepstral Coefficients)\n",
        "        mfccs = librosa.feature.mfcc(y=y, sr=sr, n_mfcc=13)\n",
        "        mfccs_mean = np.mean(mfccs, axis=1).mean()\n",
        "\n",
        "        # Return all features as a dictionary\n",
        "        return {\n",
        "            'spectral_centroids_mean': spectral_centroids_mean,\n",
        "            'spectral_centroids_delta_mean': spectral_centroids_delta_mean,\n",
        "            'spectral_centroids_accelerate_mean': spectral_centroids_accelerate_mean,\n",
        "            'spectral_bandwidth_mean': spectral_bandwidth_mean,\n",
        "            'spectral_rolloff_mean': spectral_rolloff_mean,\n",
        "            'zero_crossing_rate_mean': zero_crossing_rate_mean,\n",
        "            'rms_mean': rms_mean,\n",
        "            'chroma_stft_mean': chroma_stft_mean,\n",
        "            'mfccs_mean': mfccs_mean\n",
        "        }\n",
        "    except Exception as e:\n",
        "        print(f\"Error processing {file_path}: {e}\")\n",
        "        return None  # Return None if there’s an error\n",
        "\n",
        "# Initialize an empty list to store feature dictionaries\n",
        "features_list = []\n",
        "\n",
        "# Walk through all subdirectories in the fma_small folder\n",
        "for root, dirs, files in os.walk(audio_root_folder):\n",
        "    for file in files:\n",
        "        if file.endswith('.wav') or file.endswith('.mp3'):\n",
        "            file_path = os.path.join(root, file)\n",
        "            folder_name = os.path.basename(root)\n",
        "            print(f'Processing {file_path}...')\n",
        "\n",
        "            # Extract features and store them with additional metadata\n",
        "            features = extract_features(file_path)\n",
        "            if features:\n",
        "                features['track_name'] = file\n",
        "                features['folder_name'] = folder_name\n",
        "                features_list.append(features)\n",
        "\n",
        "# Convert the list of dictionaries into a DataFrame\n",
        "features_df = pd.DataFrame(features_list)\n",
        "\n",
        "# Display the DataFrame\n",
        "print(features_df)"
      ],
      "metadata": {
        "id": "EQbfJ-O-sLeP"
      },
      "execution_count": null,
      "outputs": []
    },
    {
      "cell_type": "code",
      "source": [
        "# Rename features_df to fma_features_df for clarification\n",
        "fma_features_df = features_df"
      ],
      "metadata": {
        "id": "I30sK9RZzZcu"
      },
      "execution_count": 72,
      "outputs": []
    },
    {
      "cell_type": "markdown",
      "source": [
        "### Extract audio features from GTZAN Dataset"
      ],
      "metadata": {
        "id": "7WZqTgfJtyzk"
      }
    },
    {
      "cell_type": "code",
      "source": [
        "# Initialize an empty list to store feature dictionaries\n",
        "gtzan_features_list = []\n",
        "\n",
        "# Walk through all subdirectories in the gtzan folder (each folder is a genre)\n",
        "for root, dirs, files in os.walk(gtzan_folder_path):\n",
        "    for file in files:\n",
        "        if file.endswith('.wav'):\n",
        "            file_path = os.path.join(root, file)\n",
        "            genre_name = os.path.basename(root)\n",
        "            print(f'Processing {file_path}...')\n",
        "\n",
        "            # Extract features and store them with additional metadata\n",
        "            features = extract_features(file_path)\n",
        "            if features:\n",
        "                features['track_name'] = file\n",
        "                features['genre'] = genre_name\n",
        "                gtzan_features_list.append(features)\n",
        "\n",
        "# Convert the list of dictionaries into a DataFrame\n",
        "gtzan_features_df = pd.DataFrame(gtzan_features_list)\n",
        "\n",
        "# Display the DataFrame\n",
        "print(gtzan_features_df)"
      ],
      "metadata": {
        "collapsed": true,
        "id": "gd3mMCkXxMZl"
      },
      "execution_count": null,
      "outputs": []
    },
    {
      "cell_type": "markdown",
      "source": [
        "### Combining and saving datarames to Google Drive"
      ],
      "metadata": {
        "id": "I4q8wocit5zX"
      }
    },
    {
      "cell_type": "code",
      "source": [
        "# Define the paths to save the CSV files in your Google Drive\n",
        "fma_csv_path = '/content/drive/MyDrive/project_data_source/fma_features_df.csv'\n",
        "gtzan_csv_path = '/content/drive/MyDrive/project_data_source/gtzan_features_df.csv'\n",
        "\n",
        "# Save the FMA features DataFrame\n",
        "features_df.to_csv(fma_csv_path, index=False)\n",
        "print(f'FMA features saved to {fma_csv_path}')\n",
        "\n",
        "# Save the GTZAN features DataFrame\n",
        "gtzan_features_df.to_csv(gtzan_csv_path, index=False)\n",
        "print(f'GTZAN features saved to {gtzan_csv_path}')"
      ],
      "metadata": {
        "colab": {
          "base_uri": "https://localhost:8080/"
        },
        "id": "5YgckgLPzQte",
        "outputId": "d1cfc238-f414-4f1c-be41-053eaf6d5f94"
      },
      "execution_count": 75,
      "outputs": [
        {
          "output_type": "stream",
          "name": "stdout",
          "text": [
            "FMA features saved to /content/drive/MyDrive/project_data_source/fma_features_df.csv\n",
            "GTZAN features saved to /content/drive/MyDrive/project_data_source/gtzan_features_df.csv\n"
          ]
        }
      ]
    },
    {
      "cell_type": "code",
      "source": [
        "# Add a 'source' column to each DataFrame to indicate the data source\n",
        "features_df['source'] = 'fma'\n",
        "gtzan_features_df['source'] = 'gtzan'\n",
        "\n",
        "# Concatenate the two DataFrames along the rows (axis=0)\n",
        "fma_gtzan_combined_features_df = pd.concat([features_df, gtzan_features_df], axis=0, ignore_index=True)\n",
        "\n",
        "# Display the combined DataFrame\n",
        "print(fma_gtzan_combined_features_df)\n",
        "\n",
        "# Define the path to save the combined DataFrame to Google Drive\n",
        "combined_csv_path = '/content/drive/MyDrive/project_data_source/fma_gtzan_combined_features_df.csv'\n",
        "\n",
        "# Save the combined DataFrame to a CSV file in Google Drive\n",
        "fma_gtzan_combined_features_df.to_csv(combined_csv_path, index=False)\n",
        "print(f'Combined features DataFrame saved to {combined_csv_path}')"
      ],
      "metadata": {
        "colab": {
          "base_uri": "https://localhost:8080/"
        },
        "id": "4z2Jt9qpnG_8",
        "outputId": "ffe9d527-a000-4478-c786-cc3145f03dff"
      },
      "execution_count": 80,
      "outputs": [
        {
          "output_type": "stream",
          "name": "stdout",
          "text": [
            "      spectral_centroids_mean  spectral_centroids_delta_mean  \\\n",
            "0                 2327.924921                      -0.299136   \n",
            "1                 1490.787545                      -0.869474   \n",
            "2                 2116.290527                      -0.023952   \n",
            "3                 2577.717683                      -2.472239   \n",
            "4                 2061.502272                       0.090942   \n",
            "...                       ...                            ...   \n",
            "9044              1388.632894                       0.586753   \n",
            "9045              1538.512366                      -0.278298   \n",
            "9046              1132.171811                      -0.258750   \n",
            "9047              1236.310512                       0.102478   \n",
            "9048              2310.352908                       0.313398   \n",
            "\n",
            "      spectral_centroids_accelerate_mean  spectral_bandwidth_mean  \\\n",
            "0                              -0.120772              3164.002232   \n",
            "1                               0.273862              2288.657213   \n",
            "2                               0.017704              3043.517123   \n",
            "3                               0.166155              3563.769870   \n",
            "4                               0.018196              2684.314592   \n",
            "...                                  ...                      ...   \n",
            "9044                           -0.090548              1773.036455   \n",
            "9045                           -0.015795              1703.481810   \n",
            "9046                            0.075261              1582.700463   \n",
            "9047                            0.263309              1601.978718   \n",
            "9048                            0.143360              2206.409154   \n",
            "\n",
            "      spectral_rolloff_mean  zero_crossing_rate_mean  rms_mean  \\\n",
            "0               4586.438985                 0.042890  0.283902   \n",
            "1               2987.900617                 0.029012  0.104328   \n",
            "2               4188.237163                 0.041526  0.221767   \n",
            "3               5967.966443                 0.030416  0.286982   \n",
            "4               4168.161720                 0.045421  0.144577   \n",
            "...                     ...                      ...       ...   \n",
            "9044            2754.942686                 0.057147  0.186998   \n",
            "9045            3174.357191                 0.074769  0.104985   \n",
            "9046            2065.072483                 0.048293  0.051363   \n",
            "9047            2603.544118                 0.044615  0.198227   \n",
            "9048            4829.091423                 0.128432  0.125355   \n",
            "\n",
            "      chroma_stft_mean  mfccs_mean       track_name folder_name source  genre  \n",
            "0             0.409689    6.020198       146153.mp3         146    fma    NaN  \n",
            "1             0.420413    0.295251       146019.mp3         146    fma    NaN  \n",
            "2             0.391582    5.295385       146969.mp3         146    fma    NaN  \n",
            "3             0.567723    8.405020       146685.mp3         146    fma    NaN  \n",
            "4             0.442603    2.395776       146988.mp3         146    fma    NaN  \n",
            "...                ...         ...              ...         ...    ...    ...  \n",
            "9044          0.369963    4.700749  blues.00095.wav         NaN  gtzan  blues  \n",
            "9045          0.370230   -3.179763  blues.00099.wav         NaN  gtzan  blues  \n",
            "9046          0.260603  -11.220687  blues.00096.wav         NaN  gtzan  blues  \n",
            "9047          0.375175    5.433125  blues.00097.wav         NaN  gtzan  blues  \n",
            "9048          0.443191    3.972445  blues.00098.wav         NaN  gtzan  blues  \n",
            "\n",
            "[9049 rows x 13 columns]\n",
            "Combined features DataFrame saved to /content/drive/MyDrive/project_data_source/fma_gtzan_combined_features_df.csv\n"
          ]
        }
      ]
    }
  ]
}