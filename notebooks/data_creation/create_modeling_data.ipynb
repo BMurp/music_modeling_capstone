{
 "cells": [
  {
   "cell_type": "code",
   "execution_count": 1,
   "metadata": {},
   "outputs": [],
   "source": [
    "import sys\n",
    "import os\n",
    "import numpy as np\n",
    "import pandas as pd\n",
    "sys.path.insert(0, '../../')"
   ]
  },
  {
   "cell_type": "code",
   "execution_count": 2,
   "metadata": {},
   "outputs": [],
   "source": [
    "from library.notebook_api.data_loader import CombinedDataLoader, ModelDataLoader"
   ]
  },
  {
   "cell_type": "code",
   "execution_count": 3,
   "metadata": {},
   "outputs": [],
   "source": [
    "from library.source_data.feature_extractor import AudioFeatureExtractor"
   ]
  },
  {
   "cell_type": "markdown",
   "metadata": {},
   "source": [
    "## Load initial Meta"
   ]
  },
  {
   "cell_type": "code",
   "execution_count": 4,
   "metadata": {},
   "outputs": [],
   "source": [
    "df = CombinedDataLoader().get_combined_df()#.head()\n"
   ]
  },
  {
   "cell_type": "markdown",
   "metadata": {},
   "source": [
    "## Feature Extraction on full dataset with fma_small\n",
    "\n",
    " Extract just the features into memory and then persist to parquet"
   ]
  },
  {
   "cell_type": "code",
   "execution_count": 5,
   "metadata": {},
   "outputs": [],
   "source": [
    "#instantiate the extractor with all data with non null label\n",
    "\n",
    "#This takes about 90 minutes to actually do full one \n",
    "\n",
    "#To do modify to smaller subset\n",
    "# AND create some batch processor to chunk out the steps to fit in memory\n",
    "#also - import and review bowie dataset as alternate\n",
    "\n",
    "\n",
    "full_extract = AudioFeatureExtractor(df[df.label.isnull() ==False])"
   ]
  },
  {
   "cell_type": "code",
   "execution_count": 6,
   "metadata": {},
   "outputs": [
    {
     "name": "stderr",
     "output_type": "stream",
     "text": [
      "/Users/murphybre/Desktop/UMichigan/Fall2024/siads699_capstone/music_modeling_capstone/notebooks/data_creation/../../library/source_data/feature_extractor.py:31: UserWarning: PySoundFile failed. Trying audioread instead.\n",
      "  y, sr = librosa.load(PROJECT_ABSOLUTE_PATH+file_name, sr=None)\n",
      "/Users/murphybre/Desktop/UMichigan/Fall2024/siads699_capstone/music_modeling_capstone/.venv/lib/python3.10/site-packages/librosa/core/audio.py:184: FutureWarning: librosa.core.audio.__audioread_load\n",
      "\tDeprecated as of librosa version 0.10.0.\n",
      "\tIt will be removed in librosa version 1.0.\n",
      "  y, sr_native = __audioread_load(path, offset, duration, dtype)\n"
     ]
    },
    {
     "name": "stdout",
     "output_type": "stream",
     "text": [
      "putting features to their own columns\n"
     ]
    }
   ],
   "source": [
    "#run the extraction to put results to memory\n",
    "full_extract.add_audio_data_to_df()"
   ]
  },
  {
   "cell_type": "code",
   "execution_count": 7,
   "metadata": {},
   "outputs": [
    {
     "name": "stderr",
     "output_type": "stream",
     "text": [
      "/Users/murphybre/Desktop/UMichigan/Fall2024/siads699_capstone/music_modeling_capstone/notebooks/data_creation/../../library/source_data/feature_extractor.py:54: SettingWithCopyWarning: \n",
      "A value is trying to be set on a copy of a slice from a DataFrame.\n",
      "Try using .loc[row_indexer,col_indexer] = value instead\n",
      "\n",
      "See the caveats in the documentation: https://pandas.pydata.org/pandas-docs/stable/user_guide/indexing.html#returning-a-view-versus-a-copy\n",
      "  to_save['fma_genres'] = to_save['fma_genres'].astype('string')\n",
      "/Users/murphybre/Desktop/UMichigan/Fall2024/siads699_capstone/music_modeling_capstone/notebooks/data_creation/../../library/source_data/feature_extractor.py:55: SettingWithCopyWarning: \n",
      "A value is trying to be set on a copy of a slice from a DataFrame.\n",
      "Try using .loc[row_indexer,col_indexer] = value instead\n",
      "\n",
      "See the caveats in the documentation: https://pandas.pydata.org/pandas-docs/stable/user_guide/indexing.html#returning-a-view-versus-a-copy\n",
      "  to_save['fma_genres_all'] = to_save['fma_genres'].astype('string')\n",
      "/Users/murphybre/Desktop/UMichigan/Fall2024/siads699_capstone/music_modeling_capstone/notebooks/data_creation/../../library/source_data/feature_extractor.py:58: SettingWithCopyWarning: \n",
      "A value is trying to be set on a copy of a slice from a DataFrame.\n",
      "Try using .loc[row_indexer,col_indexer] = value instead\n",
      "\n",
      "See the caveats in the documentation: https://pandas.pydata.org/pandas-docs/stable/user_guide/indexing.html#returning-a-view-versus-a-copy\n",
      "  to_save['track_id'] = to_save['track_id'].astype('string')\n"
     ]
    }
   ],
   "source": [
    "#save the results to disk in version 001 file\n",
    "full_extract.save_results('002') "
   ]
  },
  {
   "cell_type": "code",
   "execution_count": 8,
   "metadata": {},
   "outputs": [],
   "source": [
    "full_model_data = ModelDataLoader('001')"
   ]
  },
  {
   "cell_type": "code",
   "execution_count": 9,
   "metadata": {},
   "outputs": [
    {
     "data": {
      "text/plain": [
       "track_id                              8996\n",
       "dataset                               8996\n",
       "audio_path                            8996\n",
       "label                                 8996\n",
       "fma_genre_top                         8996\n",
       "fma_genres                            8996\n",
       "fma_genres_all                        8996\n",
       "sampling_rate                         8996\n",
       "features                              8996\n",
       "spectral_centroids_mean               8996\n",
       "spectral_centroids_delta_mean         8996\n",
       "spectral_centroids_accelerate_mean    8996\n",
       "spectral_bandwidth_mean               8996\n",
       "spectral_rolloff_mean                 8996\n",
       "zero_crossing_rate_mean               8996\n",
       "rms_mean                              8996\n",
       "chroma_stft_mean                      8996\n",
       "mfccs_mean                            8996\n",
       "dtype: int64"
      ]
     },
     "execution_count": 9,
     "metadata": {},
     "output_type": "execute_result"
    }
   ],
   "source": [
    "full_model_data.df.count()"
   ]
  },
  {
   "cell_type": "code",
   "execution_count": null,
   "metadata": {},
   "outputs": [],
   "source": [
    "#To do/not finished: start of batch processer which can aid in running extractor against many smaller chunks of data\n",
    "#resulting in multiple output files saved\n",
    "\n",
    "class AudioBatchProcesser():\n",
    "    def __init__(self, source_data, batch_size):\n",
    "        self.df = source_data\n",
    "        self.batch_size = batch_size \n",
    "\n",
    "    self run_feature_extraction(self):\n",
    "        batch_start = 0 \n",
    "        batch_count = len(self.df) / self. batch_size \n"
   ]
  },
  {
   "cell_type": "markdown",
   "metadata": {},
   "source": [
    "## Extraction while saving audio and features on small sample\n",
    "in this run, we saved the output of librosa load in the parquet as well.  This takes a lot of memory so only did a small example"
   ]
  },
  {
   "cell_type": "code",
   "execution_count": 4,
   "metadata": {},
   "outputs": [],
   "source": [
    "#instantiate data \n",
    "#\n",
    "gtza_test_data = df[df.dataset == 'gtzan']"
   ]
  },
  {
   "cell_type": "code",
   "execution_count": 5,
   "metadata": {},
   "outputs": [],
   "source": [
    "#instantiate extractor\n",
    "#commented in alternate return classe in get_audio_data method to include full audio\n",
    "gtza_extract = AudioFeatureExtractor(gtza_test_data.head(5))"
   ]
  },
  {
   "cell_type": "code",
   "execution_count": 6,
   "metadata": {},
   "outputs": [
    {
     "name": "stdout",
     "output_type": "stream",
     "text": [
      "Processing File  /project_data_source/gtzan_dataset/Data/genres_original/blues/blues.00000.wav\n",
      "Run Librosa Load\n",
      "extracting_features\n",
      "Processing File  /project_data_source/gtzan_dataset/Data/genres_original/blues/blues.00001.wav\n",
      "Run Librosa Load\n",
      "extracting_features\n",
      "Processing File  /project_data_source/gtzan_dataset/Data/genres_original/blues/blues.00002.wav\n",
      "Run Librosa Load\n",
      "extracting_features\n",
      "Processing File  /project_data_source/gtzan_dataset/Data/genres_original/blues/blues.00003.wav\n",
      "Run Librosa Load\n",
      "extracting_features\n",
      "Processing File  /project_data_source/gtzan_dataset/Data/genres_original/blues/blues.00004.wav\n",
      "Run Librosa Load\n",
      "extracting_features\n",
      "putting features to their own columns\n"
     ]
    }
   ],
   "source": [
    "#run extraction\n",
    "#print statement uncommented \n",
    "gtza_extract.add_audio_data_to_df()"
   ]
  },
  {
   "cell_type": "code",
   "execution_count": 7,
   "metadata": {},
   "outputs": [],
   "source": [
    "#save the results\n",
    "gtza_extract.save_results() "
   ]
  },
  {
   "cell_type": "code",
   "execution_count": 10,
   "metadata": {},
   "outputs": [],
   "source": [
    "#Load the model data for this version\n",
    "model_data = ModelDataLoader('000')"
   ]
  },
  {
   "cell_type": "code",
   "execution_count": 11,
   "metadata": {},
   "outputs": [
    {
     "data": {
      "text/html": [
       "<div>\n",
       "<style scoped>\n",
       "    .dataframe tbody tr th:only-of-type {\n",
       "        vertical-align: middle;\n",
       "    }\n",
       "\n",
       "    .dataframe tbody tr th {\n",
       "        vertical-align: top;\n",
       "    }\n",
       "\n",
       "    .dataframe thead th {\n",
       "        text-align: right;\n",
       "    }\n",
       "</style>\n",
       "<table border=\"1\" class=\"dataframe\">\n",
       "  <thead>\n",
       "    <tr style=\"text-align: right;\">\n",
       "      <th></th>\n",
       "      <th>dataset</th>\n",
       "      <th>audio_path</th>\n",
       "      <th>label</th>\n",
       "      <th>fma_genre_top</th>\n",
       "      <th>fma_genres</th>\n",
       "      <th>fma_genres_all</th>\n",
       "      <th>librosa_load</th>\n",
       "      <th>sampling_rate</th>\n",
       "      <th>features</th>\n",
       "      <th>spectral_centroids_mean</th>\n",
       "      <th>spectral_centroids_delta_mean</th>\n",
       "      <th>spectral_centroids_accelerate_mean</th>\n",
       "      <th>spectral_bandwidth_mean</th>\n",
       "      <th>spectral_rolloff_mean</th>\n",
       "      <th>zero_crossing_rate_mean</th>\n",
       "      <th>rms_mean</th>\n",
       "      <th>chroma_stft_mean</th>\n",
       "      <th>mfccs_mean</th>\n",
       "    </tr>\n",
       "    <tr>\n",
       "      <th>track_id</th>\n",
       "      <th></th>\n",
       "      <th></th>\n",
       "      <th></th>\n",
       "      <th></th>\n",
       "      <th></th>\n",
       "      <th></th>\n",
       "      <th></th>\n",
       "      <th></th>\n",
       "      <th></th>\n",
       "      <th></th>\n",
       "      <th></th>\n",
       "      <th></th>\n",
       "      <th></th>\n",
       "      <th></th>\n",
       "      <th></th>\n",
       "      <th></th>\n",
       "      <th></th>\n",
       "      <th></th>\n",
       "    </tr>\n",
       "  </thead>\n",
       "  <tbody>\n",
       "    <tr>\n",
       "      <th>blues.00000.wav</th>\n",
       "      <td>gtzan</td>\n",
       "      <td>/project_data_source/gtzan_dataset/Data/genres...</td>\n",
       "      <td>blues</td>\n",
       "      <td>n/a</td>\n",
       "      <td>n/a</td>\n",
       "      <td>n/a</td>\n",
       "      <td>[0.0073242188, 0.016601562, 0.0076293945, -0.0...</td>\n",
       "      <td>22050</td>\n",
       "      <td>[1784.1227, -0.49052292, -0.061881434, 2002.41...</td>\n",
       "      <td>1784.122681</td>\n",
       "      <td>-0.490523</td>\n",
       "      <td>-0.061881</td>\n",
       "      <td>2002.412354</td>\n",
       "      <td>3805.723145</td>\n",
       "      <td>0.083045</td>\n",
       "      <td>0.130184</td>\n",
       "      <td>0.350129</td>\n",
       "      <td>3.121230</td>\n",
       "    </tr>\n",
       "    <tr>\n",
       "      <th>blues.00001.wav</th>\n",
       "      <td>gtzan</td>\n",
       "      <td>/project_data_source/gtzan_dataset/Data/genres...</td>\n",
       "      <td>blues</td>\n",
       "      <td>n/a</td>\n",
       "      <td>n/a</td>\n",
       "      <td>n/a</td>\n",
       "      <td>[0.0034179688, 0.0043029785, 0.001373291, 0.00...</td>\n",
       "      <td>22050</td>\n",
       "      <td>[1530.2617, 0.6459638, -0.0855879, 2038.9875, ...</td>\n",
       "      <td>1530.261719</td>\n",
       "      <td>0.645964</td>\n",
       "      <td>-0.085588</td>\n",
       "      <td>2038.987549</td>\n",
       "      <td>3550.713623</td>\n",
       "      <td>0.056040</td>\n",
       "      <td>0.095908</td>\n",
       "      <td>0.340849</td>\n",
       "      <td>-0.007777</td>\n",
       "    </tr>\n",
       "    <tr>\n",
       "      <th>blues.00002.wav</th>\n",
       "      <td>gtzan</td>\n",
       "      <td>/project_data_source/gtzan_dataset/Data/genres...</td>\n",
       "      <td>blues</td>\n",
       "      <td>n/a</td>\n",
       "      <td>n/a</td>\n",
       "      <td>n/a</td>\n",
       "      <td>[0.019012451, 0.047698975, 0.029418945, -0.018...</td>\n",
       "      <td>22050</td>\n",
       "      <td>[1552.8325, 0.3400274, 0.025039379, 1747.754, ...</td>\n",
       "      <td>1552.832520</td>\n",
       "      <td>0.340027</td>\n",
       "      <td>0.025039</td>\n",
       "      <td>1747.754028</td>\n",
       "      <td>3042.410156</td>\n",
       "      <td>0.076291</td>\n",
       "      <td>0.175473</td>\n",
       "      <td>0.363538</td>\n",
       "      <td>3.364070</td>\n",
       "    </tr>\n",
       "    <tr>\n",
       "      <th>blues.00003.wav</th>\n",
       "      <td>gtzan</td>\n",
       "      <td>/project_data_source/gtzan_dataset/Data/genres...</td>\n",
       "      <td>blues</td>\n",
       "      <td>n/a</td>\n",
       "      <td>n/a</td>\n",
       "      <td>n/a</td>\n",
       "      <td>[-0.013000488, -0.03060913, -0.036071777, -0.0...</td>\n",
       "      <td>22050</td>\n",
       "      <td>[1070.1534, 0.25125474, 0.07936938, 1596.4226,...</td>\n",
       "      <td>1070.153442</td>\n",
       "      <td>0.251255</td>\n",
       "      <td>0.079369</td>\n",
       "      <td>1596.422607</td>\n",
       "      <td>2184.879150</td>\n",
       "      <td>0.033309</td>\n",
       "      <td>0.141040</td>\n",
       "      <td>0.404854</td>\n",
       "      <td>0.866870</td>\n",
       "    </tr>\n",
       "    <tr>\n",
       "      <th>blues.00004.wav</th>\n",
       "      <td>gtzan</td>\n",
       "      <td>/project_data_source/gtzan_dataset/Data/genres...</td>\n",
       "      <td>blues</td>\n",
       "      <td>n/a</td>\n",
       "      <td>n/a</td>\n",
       "      <td>n/a</td>\n",
       "      <td>[-0.0063171387, -0.009277344, -0.008331299, -0...</td>\n",
       "      <td>22050</td>\n",
       "      <td>[1835.1285, -0.17207043, -0.24526799, 1748.410...</td>\n",
       "      <td>1835.128540</td>\n",
       "      <td>-0.172070</td>\n",
       "      <td>-0.245268</td>\n",
       "      <td>1748.410767</td>\n",
       "      <td>3579.957520</td>\n",
       "      <td>0.101461</td>\n",
       "      <td>0.091501</td>\n",
       "      <td>0.308526</td>\n",
       "      <td>-9.653034</td>\n",
       "    </tr>\n",
       "  </tbody>\n",
       "</table>\n",
       "</div>"
      ],
      "text/plain": [
       "                dataset                                         audio_path  \\\n",
       "track_id                                                                     \n",
       "blues.00000.wav   gtzan  /project_data_source/gtzan_dataset/Data/genres...   \n",
       "blues.00001.wav   gtzan  /project_data_source/gtzan_dataset/Data/genres...   \n",
       "blues.00002.wav   gtzan  /project_data_source/gtzan_dataset/Data/genres...   \n",
       "blues.00003.wav   gtzan  /project_data_source/gtzan_dataset/Data/genres...   \n",
       "blues.00004.wav   gtzan  /project_data_source/gtzan_dataset/Data/genres...   \n",
       "\n",
       "                 label fma_genre_top fma_genres fma_genres_all  \\\n",
       "track_id                                                         \n",
       "blues.00000.wav  blues           n/a        n/a            n/a   \n",
       "blues.00001.wav  blues           n/a        n/a            n/a   \n",
       "blues.00002.wav  blues           n/a        n/a            n/a   \n",
       "blues.00003.wav  blues           n/a        n/a            n/a   \n",
       "blues.00004.wav  blues           n/a        n/a            n/a   \n",
       "\n",
       "                                                      librosa_load  \\\n",
       "track_id                                                             \n",
       "blues.00000.wav  [0.0073242188, 0.016601562, 0.0076293945, -0.0...   \n",
       "blues.00001.wav  [0.0034179688, 0.0043029785, 0.001373291, 0.00...   \n",
       "blues.00002.wav  [0.019012451, 0.047698975, 0.029418945, -0.018...   \n",
       "blues.00003.wav  [-0.013000488, -0.03060913, -0.036071777, -0.0...   \n",
       "blues.00004.wav  [-0.0063171387, -0.009277344, -0.008331299, -0...   \n",
       "\n",
       "                 sampling_rate  \\\n",
       "track_id                         \n",
       "blues.00000.wav          22050   \n",
       "blues.00001.wav          22050   \n",
       "blues.00002.wav          22050   \n",
       "blues.00003.wav          22050   \n",
       "blues.00004.wav          22050   \n",
       "\n",
       "                                                          features  \\\n",
       "track_id                                                             \n",
       "blues.00000.wav  [1784.1227, -0.49052292, -0.061881434, 2002.41...   \n",
       "blues.00001.wav  [1530.2617, 0.6459638, -0.0855879, 2038.9875, ...   \n",
       "blues.00002.wav  [1552.8325, 0.3400274, 0.025039379, 1747.754, ...   \n",
       "blues.00003.wav  [1070.1534, 0.25125474, 0.07936938, 1596.4226,...   \n",
       "blues.00004.wav  [1835.1285, -0.17207043, -0.24526799, 1748.410...   \n",
       "\n",
       "                 spectral_centroids_mean  spectral_centroids_delta_mean  \\\n",
       "track_id                                                                  \n",
       "blues.00000.wav              1784.122681                      -0.490523   \n",
       "blues.00001.wav              1530.261719                       0.645964   \n",
       "blues.00002.wav              1552.832520                       0.340027   \n",
       "blues.00003.wav              1070.153442                       0.251255   \n",
       "blues.00004.wav              1835.128540                      -0.172070   \n",
       "\n",
       "                 spectral_centroids_accelerate_mean  spectral_bandwidth_mean  \\\n",
       "track_id                                                                       \n",
       "blues.00000.wav                           -0.061881              2002.412354   \n",
       "blues.00001.wav                           -0.085588              2038.987549   \n",
       "blues.00002.wav                            0.025039              1747.754028   \n",
       "blues.00003.wav                            0.079369              1596.422607   \n",
       "blues.00004.wav                           -0.245268              1748.410767   \n",
       "\n",
       "                 spectral_rolloff_mean  zero_crossing_rate_mean  rms_mean  \\\n",
       "track_id                                                                    \n",
       "blues.00000.wav            3805.723145                 0.083045  0.130184   \n",
       "blues.00001.wav            3550.713623                 0.056040  0.095908   \n",
       "blues.00002.wav            3042.410156                 0.076291  0.175473   \n",
       "blues.00003.wav            2184.879150                 0.033309  0.141040   \n",
       "blues.00004.wav            3579.957520                 0.101461  0.091501   \n",
       "\n",
       "                 chroma_stft_mean  mfccs_mean  \n",
       "track_id                                       \n",
       "blues.00000.wav          0.350129    3.121230  \n",
       "blues.00001.wav          0.340849   -0.007777  \n",
       "blues.00002.wav          0.363538    3.364070  \n",
       "blues.00003.wav          0.404854    0.866870  \n",
       "blues.00004.wav          0.308526   -9.653034  "
      ]
     },
     "execution_count": 11,
     "metadata": {},
     "output_type": "execute_result"
    }
   ],
   "source": [
    "#Note full librosa_load output array was also saved in this parquet\n",
    "model_data.df"
   ]
  }
 ],
 "metadata": {
  "language_info": {
   "name": "python"
  }
 },
 "nbformat": 4,
 "nbformat_minor": 2
}
