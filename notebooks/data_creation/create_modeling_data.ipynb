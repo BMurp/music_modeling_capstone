{
 "cells": [
  {
   "cell_type": "code",
   "execution_count": 1,
   "metadata": {},
   "outputs": [],
   "source": [
    "import sys\n",
    "import numpy as np\n",
    "import pandas as pd\n",
    "from multiprocessing import Process\n",
    "sys.path.insert(0, '../../')"
   ]
  },
  {
   "cell_type": "code",
   "execution_count": 2,
   "metadata": {},
   "outputs": [],
   "source": [
    "from library.notebook_api.data_loader import CombinedDataLoader, ModelDataLoader"
   ]
  },
  {
   "cell_type": "code",
   "execution_count": 3,
   "metadata": {},
   "outputs": [],
   "source": [
    "from library.source_data.feature_extractor import AudioFeatureExtractor\n",
    "from library.source_data.parallel_processor import AudioParallelProcessor\n"
   ]
  },
  {
   "cell_type": "markdown",
   "metadata": {},
   "source": [
    "## Feature Extraction fma_large"
   ]
  },
  {
   "cell_type": "markdown",
   "metadata": {},
   "source": [
    "### Load Metadata\n",
    "pass the optional fma_audio size argument to Combined data loader to reference the fma_medium file directory "
   ]
  },
  {
   "cell_type": "code",
   "execution_count": 4,
   "metadata": {},
   "outputs": [
    {
     "name": "stdout",
     "output_type": "stream",
     "text": [
      "tracks in meta 107574\n",
      "tracks with files available in project_data_path:  107574\n",
      "tracks with top level genres available 50598\n",
      "tracks with genres and files (df_filtered) 50598\n"
     ]
    }
   ],
   "source": [
    "#instantate data_loader and the dataframes it makes available \n",
    "data_loader = CombinedDataLoader('large')\n",
    "df = data_loader.df\n",
    "df_files_available = data_loader.df_files_available\n",
    "df_genres_available = data_loader.df_genres_available\n",
    "df_filtered = data_loader.df_filtered"
   ]
  },
  {
   "cell_type": "markdown",
   "metadata": {},
   "source": [
    "### Add To Existing Feautres\n",
    "In this case we already have features based on previous runs from fma_small in model input version 3. Instead of writing out a new version,  we'll figure out the incremental files in fma_medium, and then write out more features for these files to the same version. "
   ]
  },
  {
   "cell_type": "code",
   "execution_count": 5,
   "metadata": {},
   "outputs": [
    {
     "name": "stdout",
     "output_type": "stream",
     "text": [
      "24620 files left to process \n"
     ]
    }
   ],
   "source": [
    "#get dataframe of current existing track ids from ModelDataLoader\n",
    "current_v3 = ModelDataLoader('003')\n",
    "curret_v3_df = current_v3.df\n",
    "current_track_list = curret_v3_df[['track_id','file_available']].copy()\n",
    "#rename file_available column to differentiate it \n",
    "current_track_list.rename(columns={'file_available':'file_available_in_input'}, inplace=True)\n",
    "#join this to medium source data to figure out tracks we don't have \n",
    "df_filtered_with_current_track_list = pd.merge(df_filtered,current_track_list,on='track_id',how='left')\n",
    "#boolean indexer for the incremental files\n",
    "incremental = (df_filtered_with_current_track_list['file_available_in_input'].isnull()) &(df_filtered_with_current_track_list['file_available'] ==1)\n",
    "\n",
    "df_filtered_incremental = df_filtered_with_current_track_list[incremental].copy()\n",
    "\n",
    "print(len(df_filtered_incremental), 'files left to process ')\n"
   ]
  },
  {
   "cell_type": "code",
   "execution_count": 7,
   "metadata": {},
   "outputs": [],
   "source": [
    "#instantiate a few more parallel processes to add more features for incrental files to existing version \n",
    "batch2 = AudioParallelProcessor(df_filtered_incremental.iloc[0:3000],version = '003', batch=9, threads = 4)\n",
    "batch3 = AudioParallelProcessor(df_filtered_incremental.iloc[3001:6000],version = '003', batch=10, threads = 4)\n",
    "batch4 = AudioParallelProcessor(df_filtered_incremental.iloc[6001:9000],version = '003', batch=11, threads = 4)\n"
   ]
  },
  {
   "cell_type": "code",
   "execution_count": null,
   "metadata": {},
   "outputs": [
    {
     "name": "stdout",
     "output_type": "stream",
     "text": [
      "populate thread process for thread 1  0 750 750\n",
      "populate thread process for thread 2  751 1500 749\n",
      "populate thread process for thread 3  1501 2250 749\n",
      "populate thread process for thread 4  2251 3000 749\n",
      "start process thread 1\n",
      "start process thread 2\n",
      "start process thread 3\n",
      "start process thread 4\n"
     ]
    },
    {
     "name": "stderr",
     "output_type": "stream",
     "text": [
      "/Users/murphybre/Desktop/UMichigan/Fall2024/siads699_capstone/music_modeling_capstone/notebooks/data_creation/../../library/source_data/feature_extractor.py:124: FutureWarning: librosa.beat.tempo\n",
      "\tThis function was moved to 'librosa.feature.rhythm.tempo' in librosa version 0.10.0.\n",
      "\tThis alias will be removed in librosa version 1.0.\n",
      "  tempo = librosa.beat.tempo(onset_envelope=onset_env, sr=sr)[0]\n",
      "/Users/murphybre/Desktop/UMichigan/Fall2024/siads699_capstone/music_modeling_capstone/notebooks/data_creation/../../library/source_data/feature_extractor.py:124: FutureWarning: librosa.beat.tempo\n",
      "\tThis function was moved to 'librosa.feature.rhythm.tempo' in librosa version 0.10.0.\n",
      "\tThis alias will be removed in librosa version 1.0.\n",
      "  tempo = librosa.beat.tempo(onset_envelope=onset_env, sr=sr)[0]\n",
      "/Users/murphybre/Desktop/UMichigan/Fall2024/siads699_capstone/music_modeling_capstone/notebooks/data_creation/../../library/source_data/feature_extractor.py:124: FutureWarning: librosa.beat.tempo\n",
      "\tThis function was moved to 'librosa.feature.rhythm.tempo' in librosa version 0.10.0.\n",
      "\tThis alias will be removed in librosa version 1.0.\n",
      "  tempo = librosa.beat.tempo(onset_envelope=onset_env, sr=sr)[0]\n",
      "/Users/murphybre/Desktop/UMichigan/Fall2024/siads699_capstone/music_modeling_capstone/notebooks/data_creation/../../library/source_data/feature_extractor.py:124: FutureWarning: librosa.beat.tempo\n",
      "\tThis function was moved to 'librosa.feature.rhythm.tempo' in librosa version 0.10.0.\n",
      "\tThis alias will be removed in librosa version 1.0.\n",
      "  tempo = librosa.beat.tempo(onset_envelope=onset_env, sr=sr)[0]\n"
     ]
    }
   ],
   "source": [
    "\n",
    "batch2.execute()"
   ]
  },
  {
   "cell_type": "code",
   "execution_count": null,
   "metadata": {},
   "outputs": [
    {
     "name": "stdout",
     "output_type": "stream",
     "text": [
      "populate thread process for thread 1  0 499 499\n",
      "populate thread process for thread 2  500 998 498\n",
      "populate thread process for thread 3  999 1497 498\n",
      "populate thread process for thread 4  1498 1999 501\n",
      "start process thread 1\n"
     ]
    },
    {
     "name": "stdout",
     "output_type": "stream",
     "text": [
      "start process thread 2\n",
      "start process thread 3\n",
      "start process thread 4\n"
     ]
    },
    {
     "name": "stderr",
     "output_type": "stream",
     "text": [
      "/Users/murphybre/Desktop/UMichigan/Fall2024/siads699_capstone/music_modeling_capstone/notebooks/data_creation/../../library/source_data/feature_extractor.py:124: FutureWarning: librosa.beat.tempo\n",
      "\tThis function was moved to 'librosa.feature.rhythm.tempo' in librosa version 0.10.0.\n",
      "\tThis alias will be removed in librosa version 1.0.\n",
      "  tempo = librosa.beat.tempo(onset_envelope=onset_env, sr=sr)[0]\n",
      "/Users/murphybre/Desktop/UMichigan/Fall2024/siads699_capstone/music_modeling_capstone/notebooks/data_creation/../../library/source_data/feature_extractor.py:124: FutureWarning: librosa.beat.tempo\n",
      "\tThis function was moved to 'librosa.feature.rhythm.tempo' in librosa version 0.10.0.\n",
      "\tThis alias will be removed in librosa version 1.0.\n",
      "  tempo = librosa.beat.tempo(onset_envelope=onset_env, sr=sr)[0]\n",
      "/Users/murphybre/Desktop/UMichigan/Fall2024/siads699_capstone/music_modeling_capstone/notebooks/data_creation/../../library/source_data/feature_extractor.py:124: FutureWarning: librosa.beat.tempo\n",
      "\tThis function was moved to 'librosa.feature.rhythm.tempo' in librosa version 0.10.0.\n",
      "\tThis alias will be removed in librosa version 1.0.\n",
      "  tempo = librosa.beat.tempo(onset_envelope=onset_env, sr=sr)[0]\n",
      "/Users/murphybre/Desktop/UMichigan/Fall2024/siads699_capstone/music_modeling_capstone/notebooks/data_creation/../../library/source_data/feature_extractor.py:124: FutureWarning: librosa.beat.tempo\n",
      "\tThis function was moved to 'librosa.feature.rhythm.tempo' in librosa version 0.10.0.\n",
      "\tThis alias will be removed in librosa version 1.0.\n",
      "  tempo = librosa.beat.tempo(onset_envelope=onset_env, sr=sr)[0]\n",
      "[src/libmpg123/layer3.c:INT123_do_layer3():1841] error: dequantization failed!\n",
      "[src/libmpg123/parse.c:do_readahead():1099] warning: Cannot read next header, a one-frame stream? Duh...\n",
      "/Users/murphybre/Desktop/UMichigan/Fall2024/siads699_capstone/music_modeling_capstone/notebooks/data_creation/../../library/source_data/feature_extractor.py:41: UserWarning: PySoundFile failed. Trying audioread instead.\n",
      "  y, sr = librosa.load(PROJECT_ABSOLUTE_PATH+file_name, sr=None)\n",
      "/Users/murphybre/Desktop/UMichigan/Fall2024/siads699_capstone/music_modeling_capstone/.venv/lib/python3.10/site-packages/librosa/core/audio.py:184: FutureWarning: librosa.core.audio.__audioread_load\n",
      "\tDeprecated as of librosa version 0.10.0.\n",
      "\tIt will be removed in librosa version 1.0.\n",
      "  y, sr_native = __audioread_load(path, offset, duration, dtype)\n",
      "/Users/murphybre/Desktop/UMichigan/Fall2024/siads699_capstone/music_modeling_capstone/notebooks/data_creation/../../library/source_data/feature_extractor.py:64: SettingWithCopyWarning: \n",
      "A value is trying to be set on a copy of a slice from a DataFrame.\n",
      "Try using .loc[row_indexer,col_indexer] = value instead\n",
      "\n",
      "See the caveats in the documentation: https://pandas.pydata.org/pandas-docs/stable/user_guide/indexing.html#returning-a-view-versus-a-copy\n",
      "  to_save['fma_genres'] = to_save['fma_genres'].astype('string')\n",
      "/Users/murphybre/Desktop/UMichigan/Fall2024/siads699_capstone/music_modeling_capstone/notebooks/data_creation/../../library/source_data/feature_extractor.py:65: SettingWithCopyWarning: \n",
      "A value is trying to be set on a copy of a slice from a DataFrame.\n",
      "Try using .loc[row_indexer,col_indexer] = value instead\n",
      "\n",
      "See the caveats in the documentation: https://pandas.pydata.org/pandas-docs/stable/user_guide/indexing.html#returning-a-view-versus-a-copy\n",
      "  to_save['fma_genres_all'] = to_save['fma_genres'].astype('string')\n",
      "/Users/murphybre/Desktop/UMichigan/Fall2024/siads699_capstone/music_modeling_capstone/notebooks/data_creation/../../library/source_data/feature_extractor.py:68: SettingWithCopyWarning: \n",
      "A value is trying to be set on a copy of a slice from a DataFrame.\n",
      "Try using .loc[row_indexer,col_indexer] = value instead\n",
      "\n",
      "See the caveats in the documentation: https://pandas.pydata.org/pandas-docs/stable/user_guide/indexing.html#returning-a-view-versus-a-copy\n",
      "  to_save['track_id'] = to_save['track_id'].astype('string')\n"
     ]
    }
   ],
   "source": [
    "batch3.execute()"
   ]
  },
  {
   "cell_type": "code",
   "execution_count": null,
   "metadata": {},
   "outputs": [
    {
     "name": "stdout",
     "output_type": "stream",
     "text": [
      "populate thread process for thread 1  0 499 499\n",
      "populate thread process for thread 2  500 998 498\n",
      "populate thread process for thread 3  999 1497 498\n",
      "populate thread process for thread 4  1498 1999 501\n",
      "start process thread 1\n"
     ]
    },
    {
     "name": "stdout",
     "output_type": "stream",
     "text": [
      "start process thread 2\n",
      "start process thread 3\n",
      "start process thread 4\n"
     ]
    },
    {
     "name": "stderr",
     "output_type": "stream",
     "text": [
      "/Users/murphybre/Desktop/UMichigan/Fall2024/siads699_capstone/music_modeling_capstone/notebooks/data_creation/../../library/source_data/feature_extractor.py:124: FutureWarning: librosa.beat.tempo\n",
      "\tThis function was moved to 'librosa.feature.rhythm.tempo' in librosa version 0.10.0.\n",
      "\tThis alias will be removed in librosa version 1.0.\n",
      "  tempo = librosa.beat.tempo(onset_envelope=onset_env, sr=sr)[0]\n",
      "/Users/murphybre/Desktop/UMichigan/Fall2024/siads699_capstone/music_modeling_capstone/notebooks/data_creation/../../library/source_data/feature_extractor.py:124: FutureWarning: librosa.beat.tempo\n",
      "\tThis function was moved to 'librosa.feature.rhythm.tempo' in librosa version 0.10.0.\n",
      "\tThis alias will be removed in librosa version 1.0.\n",
      "  tempo = librosa.beat.tempo(onset_envelope=onset_env, sr=sr)[0]\n",
      "/Users/murphybre/Desktop/UMichigan/Fall2024/siads699_capstone/music_modeling_capstone/notebooks/data_creation/../../library/source_data/feature_extractor.py:124: FutureWarning: librosa.beat.tempo\n",
      "\tThis function was moved to 'librosa.feature.rhythm.tempo' in librosa version 0.10.0.\n",
      "\tThis alias will be removed in librosa version 1.0.\n",
      "  tempo = librosa.beat.tempo(onset_envelope=onset_env, sr=sr)[0]\n",
      "/Users/murphybre/Desktop/UMichigan/Fall2024/siads699_capstone/music_modeling_capstone/notebooks/data_creation/../../library/source_data/feature_extractor.py:124: FutureWarning: librosa.beat.tempo\n",
      "\tThis function was moved to 'librosa.feature.rhythm.tempo' in librosa version 0.10.0.\n",
      "\tThis alias will be removed in librosa version 1.0.\n",
      "  tempo = librosa.beat.tempo(onset_envelope=onset_env, sr=sr)[0]\n",
      "[src/libmpg123/parse.c:do_readahead():1099] warning: Cannot read next header, a one-frame stream? Duh...\n",
      "/Users/murphybre/Desktop/UMichigan/Fall2024/siads699_capstone/music_modeling_capstone/notebooks/data_creation/../../library/source_data/feature_extractor.py:41: UserWarning: PySoundFile failed. Trying audioread instead.\n",
      "  y, sr = librosa.load(PROJECT_ABSOLUTE_PATH+file_name, sr=None)\n",
      "/Users/murphybre/Desktop/UMichigan/Fall2024/siads699_capstone/music_modeling_capstone/.venv/lib/python3.10/site-packages/librosa/core/audio.py:184: FutureWarning: librosa.core.audio.__audioread_load\n",
      "\tDeprecated as of librosa version 0.10.0.\n",
      "\tIt will be removed in librosa version 1.0.\n",
      "  y, sr_native = __audioread_load(path, offset, duration, dtype)\n",
      "[src/libmpg123/parse.c:do_readahead():1099] warning: Cannot read next header, a one-frame stream? Duh...\n",
      "[src/libmpg123/parse.c:do_readahead():1099] warning: Cannot read next header, a one-frame stream? Duh...\n",
      "Note: Illegal Audio-MPEG-Header 0x00000000 at offset 187493.\n",
      "Note: Trying to resync...\n",
      "Note: Skipped 1024 bytes in input.\n",
      "[src/libmpg123/parse.c:wetwork():1365] error: Giving up resync after 1024 bytes - your stream is not nice... (maybe increasing resync limit could help).\n",
      "Note: Illegal Audio-MPEG-Header 0x00000000 at offset 106439.\n",
      "Note: Trying to resync...\n",
      "Note: Skipped 1024 bytes in input.\n",
      "[src/libmpg123/parse.c:wetwork():1365] error: Giving up resync after 1024 bytes - your stream is not nice... (maybe increasing resync limit could help).\n",
      "[src/libmpg123/parse.c:do_readahead():1099] warning: Cannot read next header, a one-frame stream? Duh...\n",
      "[src/libmpg123/parse.c:do_readahead():1099] warning: Cannot read next header, a one-frame stream? Duh...\n",
      "/Users/murphybre/Desktop/UMichigan/Fall2024/siads699_capstone/music_modeling_capstone/notebooks/data_creation/../../library/source_data/feature_extractor.py:41: UserWarning: PySoundFile failed. Trying audioread instead.\n",
      "  y, sr = librosa.load(PROJECT_ABSOLUTE_PATH+file_name, sr=None)\n",
      "/Users/murphybre/Desktop/UMichigan/Fall2024/siads699_capstone/music_modeling_capstone/.venv/lib/python3.10/site-packages/librosa/core/audio.py:184: FutureWarning: librosa.core.audio.__audioread_load\n",
      "\tDeprecated as of librosa version 0.10.0.\n",
      "\tIt will be removed in librosa version 1.0.\n",
      "  y, sr_native = __audioread_load(path, offset, duration, dtype)\n",
      "[src/libmpg123/layer3.c:INT123_do_layer3():1801] error: dequantization failed!\n",
      "[src/libmpg123/parse.c:do_readahead():1099] warning: Cannot read next header, a one-frame stream? Duh...\n",
      "/Users/murphybre/Desktop/UMichigan/Fall2024/siads699_capstone/music_modeling_capstone/notebooks/data_creation/../../library/source_data/feature_extractor.py:64: SettingWithCopyWarning: \n",
      "A value is trying to be set on a copy of a slice from a DataFrame.\n",
      "Try using .loc[row_indexer,col_indexer] = value instead\n",
      "\n",
      "See the caveats in the documentation: https://pandas.pydata.org/pandas-docs/stable/user_guide/indexing.html#returning-a-view-versus-a-copy\n",
      "  to_save['fma_genres'] = to_save['fma_genres'].astype('string')\n",
      "/Users/murphybre/Desktop/UMichigan/Fall2024/siads699_capstone/music_modeling_capstone/notebooks/data_creation/../../library/source_data/feature_extractor.py:65: SettingWithCopyWarning: \n",
      "A value is trying to be set on a copy of a slice from a DataFrame.\n",
      "Try using .loc[row_indexer,col_indexer] = value instead\n",
      "\n",
      "See the caveats in the documentation: https://pandas.pydata.org/pandas-docs/stable/user_guide/indexing.html#returning-a-view-versus-a-copy\n",
      "  to_save['fma_genres_all'] = to_save['fma_genres'].astype('string')\n",
      "/Users/murphybre/Desktop/UMichigan/Fall2024/siads699_capstone/music_modeling_capstone/notebooks/data_creation/../../library/source_data/feature_extractor.py:68: SettingWithCopyWarning: \n",
      "A value is trying to be set on a copy of a slice from a DataFrame.\n",
      "Try using .loc[row_indexer,col_indexer] = value instead\n",
      "\n",
      "See the caveats in the documentation: https://pandas.pydata.org/pandas-docs/stable/user_guide/indexing.html#returning-a-view-versus-a-copy\n",
      "  to_save['track_id'] = to_save['track_id'].astype('string')\n",
      "/Users/murphybre/Desktop/UMichigan/Fall2024/siads699_capstone/music_modeling_capstone/notebooks/data_creation/../../library/source_data/feature_extractor.py:64: SettingWithCopyWarning: \n",
      "A value is trying to be set on a copy of a slice from a DataFrame.\n",
      "Try using .loc[row_indexer,col_indexer] = value instead\n",
      "\n",
      "See the caveats in the documentation: https://pandas.pydata.org/pandas-docs/stable/user_guide/indexing.html#returning-a-view-versus-a-copy\n",
      "  to_save['fma_genres'] = to_save['fma_genres'].astype('string')\n",
      "/Users/murphybre/Desktop/UMichigan/Fall2024/siads699_capstone/music_modeling_capstone/notebooks/data_creation/../../library/source_data/feature_extractor.py:65: SettingWithCopyWarning: \n",
      "A value is trying to be set on a copy of a slice from a DataFrame.\n",
      "Try using .loc[row_indexer,col_indexer] = value instead\n",
      "\n",
      "See the caveats in the documentation: https://pandas.pydata.org/pandas-docs/stable/user_guide/indexing.html#returning-a-view-versus-a-copy\n",
      "  to_save['fma_genres_all'] = to_save['fma_genres'].astype('string')\n",
      "/Users/murphybre/Desktop/UMichigan/Fall2024/siads699_capstone/music_modeling_capstone/notebooks/data_creation/../../library/source_data/feature_extractor.py:68: SettingWithCopyWarning: \n",
      "A value is trying to be set on a copy of a slice from a DataFrame.\n",
      "Try using .loc[row_indexer,col_indexer] = value instead\n",
      "\n",
      "See the caveats in the documentation: https://pandas.pydata.org/pandas-docs/stable/user_guide/indexing.html#returning-a-view-versus-a-copy\n",
      "  to_save['track_id'] = to_save['track_id'].astype('string')\n"
     ]
    }
   ],
   "source": [
    "batch4.execute()"
   ]
  },
  {
   "cell_type": "code",
   "execution_count": 22,
   "metadata": {},
   "outputs": [
    {
     "data": {
      "text/plain": [
       "index                                 25978\n",
       "track_id                              25978\n",
       "dataset                               25978\n",
       "audio_path                            25978\n",
       "label                                 25978\n",
       "fma_genre_top                         25978\n",
       "fma_genres                            25978\n",
       "fma_genres_all                        25978\n",
       "file_available                        25978\n",
       "sampling_rate                         25978\n",
       "features                              25978\n",
       "spectral_centroids_mean               25978\n",
       "spectral_centroids_delta_mean         25978\n",
       "spectral_centroids_accelerate_mean    25978\n",
       "spectral_bandwidth_mean               25978\n",
       "spectral_rolloff_mean                 25978\n",
       "zero_crossing_rate_mean               25978\n",
       "rms_mean                              25978\n",
       "chroma_stft_mean                      25978\n",
       "mfccs_mean                            25978\n",
       "onset                                 25978\n",
       "tempo                                 25978\n",
       "contrast                              25978\n",
       "tonnetz                               25978\n",
       "mfccs_min                             25978\n",
       "mfccs_max                             25978\n",
       "dtype: int64"
      ]
     },
     "execution_count": 22,
     "metadata": {},
     "output_type": "execute_result"
    }
   ],
   "source": [
    "ModelDataLoader('003').df.count()"
   ]
  },
  {
   "cell_type": "code",
   "execution_count": 27,
   "metadata": {},
   "outputs": [
    {
     "data": {
      "text/plain": [
       "label\n",
       "rock                  7295\n",
       "electronic            6310\n",
       "hiphop                2297\n",
       "experimental          2250\n",
       "folk                  1518\n",
       "instrumental          1349\n",
       "pop                   1286\n",
       "international         1118\n",
       "classical              719\n",
       "oldtime / historic     509\n",
       "jazz                   483\n",
       "country                277\n",
       "soulrnb                254\n",
       "blues                  174\n",
       "spoken                 118\n",
       "easy listening          21\n",
       "Name: label, dtype: int64"
      ]
     },
     "execution_count": 27,
     "metadata": {},
     "output_type": "execute_result"
    }
   ],
   "source": [
    "ModelDataLoader('003').df.groupby('label')['label'].count().sort_values(ascending=False)"
   ]
  },
  {
   "cell_type": "markdown",
   "metadata": {},
   "source": [
    "## Feature Extraction fma_mall"
   ]
  },
  {
   "cell_type": "markdown",
   "metadata": {},
   "source": [
    "### Load Initial Meta"
   ]
  },
  {
   "cell_type": "code",
   "execution_count": 4,
   "metadata": {},
   "outputs": [
    {
     "name": "stdout",
     "output_type": "stream",
     "text": [
      "tracks in meta 107574\n",
      "tracks with files available in project_data_path:  26000\n",
      "tracks with top level genres available 50598\n",
      "tracks with genres and files (df_filtered) 26000\n"
     ]
    },
    {
     "name": "stderr",
     "output_type": "stream",
     "text": [
      "/Users/murphybre/Desktop/UMichigan/Fall2024/siads699_capstone/music_modeling_capstone/notebooks/data_creation/../../library/notebook_api/data_loader.py:23: UserWarning: Boolean Series key will be reindexed to match DataFrame index.\n",
      "  self.df_filtered = self.df_files_available[self.df.label.isnull() ==False ]\n"
     ]
    }
   ],
   "source": [
    "#instantate data_loader and the dataframes it makes available \n",
    "data_loader = CombinedDataLoader()\n",
    "df = data_loader.df\n",
    "df_files_available = data_loader.df_files_available\n",
    "df_genres_available = data_loader.df_genres_available\n",
    "df_filtered = data_loader.df_filtered"
   ]
  },
  {
   "cell_type": "code",
   "execution_count": 5,
   "metadata": {},
   "outputs": [
    {
     "data": {
      "text/plain": [
       "track_id          26000\n",
       "dataset           26000\n",
       "audio_path        26000\n",
       "label             26000\n",
       "fma_genre_top     26000\n",
       "fma_genres        26000\n",
       "fma_genres_all    26000\n",
       "file_available    26000\n",
       "dtype: int64"
      ]
     },
     "execution_count": 5,
     "metadata": {},
     "output_type": "execute_result"
    }
   ],
   "source": [
    "df_filtered.count()"
   ]
  },
  {
   "cell_type": "markdown",
   "metadata": {},
   "source": [
    "### Running A Single Batch of parallel processes\n",
    "Latest approach is to process via a parallel processor which runs multiple extraction tasks in parallel \n",
    "and puts outputs to separate parquet folders that are all loadable with data_loader. In this example we'll run just one batch on the full fma_small data.  It takes about an hour with 6 threads, but time varies on the CPU"
   ]
  },
  {
   "cell_type": "code",
   "execution_count": 6,
   "metadata": {},
   "outputs": [],
   "source": [
    "#instantiate source data df to process\n",
    "#batch_input = df_filtered.sample(100).copy() #subset of full data for demostration\n",
    "batch_input = df_filtered.copy()#full data \n",
    "\n",
    "#instantate a parallel processing batch \n",
    "batch = AudioParallelProcessor(batch_input,version = '003', batch=1, threads = 6)"
   ]
  },
  {
   "cell_type": "code",
   "execution_count": 7,
   "metadata": {},
   "outputs": [
    {
     "name": "stdout",
     "output_type": "stream",
     "text": [
      "populate thread process for thread 1  0 16 16\n",
      "populate thread process for thread 2  17 32 15\n",
      "populate thread process for thread 3  33 48 15\n",
      "populate thread process for thread 4  49 64 15\n",
      "populate thread process for thread 5  65 80 15\n",
      "populate thread process for thread 6  81 100 19\n",
      "start process thread 1\n",
      "start process thread 2\n",
      "start process thread 3\n",
      "start process thread 4\n",
      "start process thread 5\n",
      "start process thread 6\n"
     ]
    },
    {
     "name": "stderr",
     "output_type": "stream",
     "text": [
      "/Users/murphybre/Desktop/UMichigan/Fall2024/siads699_capstone/music_modeling_capstone/notebooks/data_creation/../../library/source_data/feature_extractor.py:122: FutureWarning: librosa.beat.tempo\n",
      "\tThis function was moved to 'librosa.feature.rhythm.tempo' in librosa version 0.10.0.\n",
      "\tThis alias will be removed in librosa version 1.0.\n",
      "  tempo = librosa.beat.tempo(onset_envelope=onset_env, sr=sr)[0]\n",
      "/Users/murphybre/Desktop/UMichigan/Fall2024/siads699_capstone/music_modeling_capstone/notebooks/data_creation/../../library/source_data/feature_extractor.py:122: FutureWarning: librosa.beat.tempo\n",
      "\tThis function was moved to 'librosa.feature.rhythm.tempo' in librosa version 0.10.0.\n",
      "\tThis alias will be removed in librosa version 1.0.\n",
      "  tempo = librosa.beat.tempo(onset_envelope=onset_env, sr=sr)[0]\n",
      "/Users/murphybre/Desktop/UMichigan/Fall2024/siads699_capstone/music_modeling_capstone/notebooks/data_creation/../../library/source_data/feature_extractor.py:122: FutureWarning: librosa.beat.tempo\n",
      "\tThis function was moved to 'librosa.feature.rhythm.tempo' in librosa version 0.10.0.\n",
      "\tThis alias will be removed in librosa version 1.0.\n",
      "  tempo = librosa.beat.tempo(onset_envelope=onset_env, sr=sr)[0]\n",
      "/Users/murphybre/Desktop/UMichigan/Fall2024/siads699_capstone/music_modeling_capstone/notebooks/data_creation/../../library/source_data/feature_extractor.py:122: FutureWarning: librosa.beat.tempo\n",
      "\tThis function was moved to 'librosa.feature.rhythm.tempo' in librosa version 0.10.0.\n",
      "\tThis alias will be removed in librosa version 1.0.\n",
      "  tempo = librosa.beat.tempo(onset_envelope=onset_env, sr=sr)[0]\n",
      "/Users/murphybre/Desktop/UMichigan/Fall2024/siads699_capstone/music_modeling_capstone/notebooks/data_creation/../../library/source_data/feature_extractor.py:122: FutureWarning: librosa.beat.tempo\n",
      "\tThis function was moved to 'librosa.feature.rhythm.tempo' in librosa version 0.10.0.\n",
      "\tThis alias will be removed in librosa version 1.0.\n",
      "  tempo = librosa.beat.tempo(onset_envelope=onset_env, sr=sr)[0]\n",
      "/Users/murphybre/Desktop/UMichigan/Fall2024/siads699_capstone/music_modeling_capstone/notebooks/data_creation/../../library/source_data/feature_extractor.py:122: FutureWarning: librosa.beat.tempo\n",
      "\tThis function was moved to 'librosa.feature.rhythm.tempo' in librosa version 0.10.0.\n",
      "\tThis alias will be removed in librosa version 1.0.\n",
      "  tempo = librosa.beat.tempo(onset_envelope=onset_env, sr=sr)[0]\n"
     ]
    }
   ],
   "source": [
    "#sample with 100 and 6 threads \n",
    "#execute the parallel processes \n",
    "batch.execute()"
   ]
  },
  {
   "cell_type": "markdown",
   "metadata": {},
   "source": [
    "### Load Data to validate "
   ]
  },
  {
   "cell_type": "code",
   "execution_count": 9,
   "metadata": {},
   "outputs": [],
   "source": [
    "full_model_data = ModelDataLoader('003')"
   ]
  },
  {
   "cell_type": "code",
   "execution_count": 10,
   "metadata": {},
   "outputs": [
    {
     "data": {
      "text/plain": [
       "index                                 8991\n",
       "track_id                              8991\n",
       "dataset                               8991\n",
       "audio_path                            8991\n",
       "label                                 8991\n",
       "fma_genre_top                         8991\n",
       "fma_genres                            8991\n",
       "fma_genres_all                        8991\n",
       "file_available                        8991\n",
       "sampling_rate                         8991\n",
       "features                              8991\n",
       "spectral_centroids_mean               8991\n",
       "spectral_centroids_delta_mean         8991\n",
       "spectral_centroids_accelerate_mean    8991\n",
       "spectral_bandwidth_mean               8991\n",
       "spectral_rolloff_mean                 8991\n",
       "zero_crossing_rate_mean               8991\n",
       "rms_mean                              8991\n",
       "chroma_stft_mean                      8991\n",
       "mfccs_mean                            8991\n",
       "onset                                 8991\n",
       "tempo                                 8991\n",
       "contrast                              8991\n",
       "tonnetz                               8991\n",
       "mfccs_min                             8991\n",
       "mfccs_max                             8991\n",
       "dtype: int64"
      ]
     },
     "execution_count": 10,
     "metadata": {},
     "output_type": "execute_result"
    }
   ],
   "source": [
    "full_model_data.df.count()"
   ]
  },
  {
   "cell_type": "code",
   "execution_count": 7,
   "metadata": {},
   "outputs": [
    {
     "data": {
      "text/html": [
       "<div>\n",
       "<style scoped>\n",
       "    .dataframe tbody tr th:only-of-type {\n",
       "        vertical-align: middle;\n",
       "    }\n",
       "\n",
       "    .dataframe tbody tr th {\n",
       "        vertical-align: top;\n",
       "    }\n",
       "\n",
       "    .dataframe thead th {\n",
       "        text-align: right;\n",
       "    }\n",
       "</style>\n",
       "<table border=\"1\" class=\"dataframe\">\n",
       "  <thead>\n",
       "    <tr style=\"text-align: right;\">\n",
       "      <th></th>\n",
       "      <th>index</th>\n",
       "      <th>track_id</th>\n",
       "      <th>dataset</th>\n",
       "      <th>audio_path</th>\n",
       "      <th>label</th>\n",
       "      <th>fma_genre_top</th>\n",
       "      <th>fma_genres</th>\n",
       "      <th>fma_genres_all</th>\n",
       "      <th>file_available</th>\n",
       "      <th>sampling_rate</th>\n",
       "      <th>...</th>\n",
       "      <th>zero_crossing_rate_mean</th>\n",
       "      <th>rms_mean</th>\n",
       "      <th>chroma_stft_mean</th>\n",
       "      <th>mfccs_mean</th>\n",
       "      <th>onset</th>\n",
       "      <th>tempo</th>\n",
       "      <th>contrast</th>\n",
       "      <th>tonnetz</th>\n",
       "      <th>mfccs_min</th>\n",
       "      <th>mfccs_max</th>\n",
       "    </tr>\n",
       "  </thead>\n",
       "  <tbody>\n",
       "    <tr>\n",
       "      <th>0</th>\n",
       "      <td>0</td>\n",
       "      <td>000002</td>\n",
       "      <td>fma</td>\n",
       "      <td>/project_data_source/free_music_archive/fma_sm...</td>\n",
       "      <td>hiphop</td>\n",
       "      <td>Hip-Hop</td>\n",
       "      <td>[21]</td>\n",
       "      <td>[21]</td>\n",
       "      <td>1.0</td>\n",
       "      <td>44100</td>\n",
       "      <td>...</td>\n",
       "      <td>0.098364</td>\n",
       "      <td>0.141225</td>\n",
       "      <td>0.424169</td>\n",
       "      <td>-1.742610</td>\n",
       "      <td>1.403928</td>\n",
       "      <td>166.708664</td>\n",
       "      <td>21.300203</td>\n",
       "      <td>0.022087</td>\n",
       "      <td>-505.499176</td>\n",
       "      <td>196.868652</td>\n",
       "    </tr>\n",
       "    <tr>\n",
       "      <th>1</th>\n",
       "      <td>2</td>\n",
       "      <td>000005</td>\n",
       "      <td>fma</td>\n",
       "      <td>/project_data_source/free_music_archive/fma_sm...</td>\n",
       "      <td>hiphop</td>\n",
       "      <td>Hip-Hop</td>\n",
       "      <td>[21]</td>\n",
       "      <td>[21]</td>\n",
       "      <td>1.0</td>\n",
       "      <td>44100</td>\n",
       "      <td>...</td>\n",
       "      <td>0.059334</td>\n",
       "      <td>0.145243</td>\n",
       "      <td>0.475249</td>\n",
       "      <td>1.318397</td>\n",
       "      <td>1.384270</td>\n",
       "      <td>99.384018</td>\n",
       "      <td>21.096722</td>\n",
       "      <td>0.005648</td>\n",
       "      <td>-528.116272</td>\n",
       "      <td>209.443054</td>\n",
       "    </tr>\n",
       "    <tr>\n",
       "      <th>2</th>\n",
       "      <td>3</td>\n",
       "      <td>000010</td>\n",
       "      <td>fma</td>\n",
       "      <td>/project_data_source/free_music_archive/fma_sm...</td>\n",
       "      <td>pop</td>\n",
       "      <td>Pop</td>\n",
       "      <td>[10]</td>\n",
       "      <td>[10]</td>\n",
       "      <td>1.0</td>\n",
       "      <td>44100</td>\n",
       "      <td>...</td>\n",
       "      <td>0.080989</td>\n",
       "      <td>0.186656</td>\n",
       "      <td>0.430406</td>\n",
       "      <td>2.244156</td>\n",
       "      <td>1.123551</td>\n",
       "      <td>112.347145</td>\n",
       "      <td>20.852177</td>\n",
       "      <td>-0.033316</td>\n",
       "      <td>-537.197205</td>\n",
       "      <td>229.155151</td>\n",
       "    </tr>\n",
       "    <tr>\n",
       "      <th>3</th>\n",
       "      <td>15</td>\n",
       "      <td>000140</td>\n",
       "      <td>fma</td>\n",
       "      <td>/project_data_source/free_music_archive/fma_sm...</td>\n",
       "      <td>folk</td>\n",
       "      <td>Folk</td>\n",
       "      <td>[17]</td>\n",
       "      <td>[17]</td>\n",
       "      <td>1.0</td>\n",
       "      <td>44100</td>\n",
       "      <td>...</td>\n",
       "      <td>0.027256</td>\n",
       "      <td>0.068459</td>\n",
       "      <td>0.450882</td>\n",
       "      <td>-3.624865</td>\n",
       "      <td>1.135973</td>\n",
       "      <td>107.666016</td>\n",
       "      <td>21.727451</td>\n",
       "      <td>0.012266</td>\n",
       "      <td>-592.895813</td>\n",
       "      <td>199.950806</td>\n",
       "    </tr>\n",
       "    <tr>\n",
       "      <th>4</th>\n",
       "      <td>16</td>\n",
       "      <td>000141</td>\n",
       "      <td>fma</td>\n",
       "      <td>/project_data_source/free_music_archive/fma_sm...</td>\n",
       "      <td>folk</td>\n",
       "      <td>Folk</td>\n",
       "      <td>[17]</td>\n",
       "      <td>[17]</td>\n",
       "      <td>1.0</td>\n",
       "      <td>44100</td>\n",
       "      <td>...</td>\n",
       "      <td>0.034120</td>\n",
       "      <td>0.100852</td>\n",
       "      <td>0.341356</td>\n",
       "      <td>-4.471582</td>\n",
       "      <td>0.881413</td>\n",
       "      <td>120.185318</td>\n",
       "      <td>23.654802</td>\n",
       "      <td>-0.003315</td>\n",
       "      <td>-536.546936</td>\n",
       "      <td>222.208649</td>\n",
       "    </tr>\n",
       "  </tbody>\n",
       "</table>\n",
       "<p>5 rows × 26 columns</p>\n",
       "</div>"
      ],
      "text/plain": [
       "   index track_id dataset                                         audio_path  \\\n",
       "0      0   000002     fma  /project_data_source/free_music_archive/fma_sm...   \n",
       "1      2   000005     fma  /project_data_source/free_music_archive/fma_sm...   \n",
       "2      3   000010     fma  /project_data_source/free_music_archive/fma_sm...   \n",
       "3     15   000140     fma  /project_data_source/free_music_archive/fma_sm...   \n",
       "4     16   000141     fma  /project_data_source/free_music_archive/fma_sm...   \n",
       "\n",
       "    label fma_genre_top fma_genres fma_genres_all  file_available  \\\n",
       "0  hiphop       Hip-Hop       [21]           [21]             1.0   \n",
       "1  hiphop       Hip-Hop       [21]           [21]             1.0   \n",
       "2     pop           Pop       [10]           [10]             1.0   \n",
       "3    folk          Folk       [17]           [17]             1.0   \n",
       "4    folk          Folk       [17]           [17]             1.0   \n",
       "\n",
       "   sampling_rate  ... zero_crossing_rate_mean  rms_mean  chroma_stft_mean  \\\n",
       "0          44100  ...                0.098364  0.141225          0.424169   \n",
       "1          44100  ...                0.059334  0.145243          0.475249   \n",
       "2          44100  ...                0.080989  0.186656          0.430406   \n",
       "3          44100  ...                0.027256  0.068459          0.450882   \n",
       "4          44100  ...                0.034120  0.100852          0.341356   \n",
       "\n",
       "   mfccs_mean     onset       tempo   contrast   tonnetz   mfccs_min  \\\n",
       "0   -1.742610  1.403928  166.708664  21.300203  0.022087 -505.499176   \n",
       "1    1.318397  1.384270   99.384018  21.096722  0.005648 -528.116272   \n",
       "2    2.244156  1.123551  112.347145  20.852177 -0.033316 -537.197205   \n",
       "3   -3.624865  1.135973  107.666016  21.727451  0.012266 -592.895813   \n",
       "4   -4.471582  0.881413  120.185318  23.654802 -0.003315 -536.546936   \n",
       "\n",
       "    mfccs_max  \n",
       "0  196.868652  \n",
       "1  209.443054  \n",
       "2  229.155151  \n",
       "3  199.950806  \n",
       "4  222.208649  \n",
       "\n",
       "[5 rows x 26 columns]"
      ]
     },
     "execution_count": 7,
     "metadata": {},
     "output_type": "execute_result"
    }
   ],
   "source": [
    "full_model_data.df.head()"
   ]
  },
  {
   "cell_type": "markdown",
   "metadata": {},
   "source": [
    "### Extraction while saving audio and features on small sample\n",
    "in this run, we saved the output of librosa load in the parquet as well.  This takes a lot of memory so only did a small example.   This is also a demo of using AudioFeatureExtractor directly for a single extraction on a subset of the data.  "
   ]
  },
  {
   "cell_type": "code",
   "execution_count": 4,
   "metadata": {},
   "outputs": [],
   "source": [
    "#instantiate data \n",
    "\n",
    "gtza_test_data = df_filtered[df_filtered.dataset == 'gtzan']"
   ]
  },
  {
   "cell_type": "code",
   "execution_count": 5,
   "metadata": {},
   "outputs": [],
   "source": [
    "#instantiate extractor\n",
    "#commented in alternate return classe in get_audio_data method to include full audio\n",
    "gtza_extract = AudioFeatureExtractor(gtza_test_data.head(5))"
   ]
  },
  {
   "cell_type": "code",
   "execution_count": 6,
   "metadata": {},
   "outputs": [
    {
     "name": "stdout",
     "output_type": "stream",
     "text": [
      "Processing File  /project_data_source/gtzan_dataset/Data/genres_original/blues/blues.00000.wav\n",
      "Run Librosa Load\n",
      "extracting_features\n",
      "Processing File  /project_data_source/gtzan_dataset/Data/genres_original/blues/blues.00001.wav\n",
      "Run Librosa Load\n",
      "extracting_features\n",
      "Processing File  /project_data_source/gtzan_dataset/Data/genres_original/blues/blues.00002.wav\n",
      "Run Librosa Load\n",
      "extracting_features\n",
      "Processing File  /project_data_source/gtzan_dataset/Data/genres_original/blues/blues.00003.wav\n",
      "Run Librosa Load\n",
      "extracting_features\n",
      "Processing File  /project_data_source/gtzan_dataset/Data/genres_original/blues/blues.00004.wav\n",
      "Run Librosa Load\n",
      "extracting_features\n",
      "putting features to their own columns\n"
     ]
    }
   ],
   "source": [
    "#run extraction\n",
    "#print statement uncommented \n",
    "gtza_extract.add_audio_data_to_df()"
   ]
  },
  {
   "cell_type": "code",
   "execution_count": 7,
   "metadata": {},
   "outputs": [],
   "source": [
    "#save the results\n",
    "gtza_extract.save_results() "
   ]
  },
  {
   "cell_type": "code",
   "execution_count": 10,
   "metadata": {},
   "outputs": [],
   "source": [
    "#Load the model data for this version\n",
    "model_data = ModelDataLoader('000')"
   ]
  },
  {
   "cell_type": "code",
   "execution_count": 11,
   "metadata": {},
   "outputs": [
    {
     "data": {
      "text/html": [
       "<div>\n",
       "<style scoped>\n",
       "    .dataframe tbody tr th:only-of-type {\n",
       "        vertical-align: middle;\n",
       "    }\n",
       "\n",
       "    .dataframe tbody tr th {\n",
       "        vertical-align: top;\n",
       "    }\n",
       "\n",
       "    .dataframe thead th {\n",
       "        text-align: right;\n",
       "    }\n",
       "</style>\n",
       "<table border=\"1\" class=\"dataframe\">\n",
       "  <thead>\n",
       "    <tr style=\"text-align: right;\">\n",
       "      <th></th>\n",
       "      <th>dataset</th>\n",
       "      <th>audio_path</th>\n",
       "      <th>label</th>\n",
       "      <th>fma_genre_top</th>\n",
       "      <th>fma_genres</th>\n",
       "      <th>fma_genres_all</th>\n",
       "      <th>librosa_load</th>\n",
       "      <th>sampling_rate</th>\n",
       "      <th>features</th>\n",
       "      <th>spectral_centroids_mean</th>\n",
       "      <th>spectral_centroids_delta_mean</th>\n",
       "      <th>spectral_centroids_accelerate_mean</th>\n",
       "      <th>spectral_bandwidth_mean</th>\n",
       "      <th>spectral_rolloff_mean</th>\n",
       "      <th>zero_crossing_rate_mean</th>\n",
       "      <th>rms_mean</th>\n",
       "      <th>chroma_stft_mean</th>\n",
       "      <th>mfccs_mean</th>\n",
       "    </tr>\n",
       "    <tr>\n",
       "      <th>track_id</th>\n",
       "      <th></th>\n",
       "      <th></th>\n",
       "      <th></th>\n",
       "      <th></th>\n",
       "      <th></th>\n",
       "      <th></th>\n",
       "      <th></th>\n",
       "      <th></th>\n",
       "      <th></th>\n",
       "      <th></th>\n",
       "      <th></th>\n",
       "      <th></th>\n",
       "      <th></th>\n",
       "      <th></th>\n",
       "      <th></th>\n",
       "      <th></th>\n",
       "      <th></th>\n",
       "      <th></th>\n",
       "    </tr>\n",
       "  </thead>\n",
       "  <tbody>\n",
       "    <tr>\n",
       "      <th>blues.00000.wav</th>\n",
       "      <td>gtzan</td>\n",
       "      <td>/project_data_source/gtzan_dataset/Data/genres...</td>\n",
       "      <td>blues</td>\n",
       "      <td>n/a</td>\n",
       "      <td>n/a</td>\n",
       "      <td>n/a</td>\n",
       "      <td>[0.0073242188, 0.016601562, 0.0076293945, -0.0...</td>\n",
       "      <td>22050</td>\n",
       "      <td>[1784.1227, -0.49052292, -0.061881434, 2002.41...</td>\n",
       "      <td>1784.122681</td>\n",
       "      <td>-0.490523</td>\n",
       "      <td>-0.061881</td>\n",
       "      <td>2002.412354</td>\n",
       "      <td>3805.723145</td>\n",
       "      <td>0.083045</td>\n",
       "      <td>0.130184</td>\n",
       "      <td>0.350129</td>\n",
       "      <td>3.121230</td>\n",
       "    </tr>\n",
       "    <tr>\n",
       "      <th>blues.00001.wav</th>\n",
       "      <td>gtzan</td>\n",
       "      <td>/project_data_source/gtzan_dataset/Data/genres...</td>\n",
       "      <td>blues</td>\n",
       "      <td>n/a</td>\n",
       "      <td>n/a</td>\n",
       "      <td>n/a</td>\n",
       "      <td>[0.0034179688, 0.0043029785, 0.001373291, 0.00...</td>\n",
       "      <td>22050</td>\n",
       "      <td>[1530.2617, 0.6459638, -0.0855879, 2038.9875, ...</td>\n",
       "      <td>1530.261719</td>\n",
       "      <td>0.645964</td>\n",
       "      <td>-0.085588</td>\n",
       "      <td>2038.987549</td>\n",
       "      <td>3550.713623</td>\n",
       "      <td>0.056040</td>\n",
       "      <td>0.095908</td>\n",
       "      <td>0.340849</td>\n",
       "      <td>-0.007777</td>\n",
       "    </tr>\n",
       "    <tr>\n",
       "      <th>blues.00002.wav</th>\n",
       "      <td>gtzan</td>\n",
       "      <td>/project_data_source/gtzan_dataset/Data/genres...</td>\n",
       "      <td>blues</td>\n",
       "      <td>n/a</td>\n",
       "      <td>n/a</td>\n",
       "      <td>n/a</td>\n",
       "      <td>[0.019012451, 0.047698975, 0.029418945, -0.018...</td>\n",
       "      <td>22050</td>\n",
       "      <td>[1552.8325, 0.3400274, 0.025039379, 1747.754, ...</td>\n",
       "      <td>1552.832520</td>\n",
       "      <td>0.340027</td>\n",
       "      <td>0.025039</td>\n",
       "      <td>1747.754028</td>\n",
       "      <td>3042.410156</td>\n",
       "      <td>0.076291</td>\n",
       "      <td>0.175473</td>\n",
       "      <td>0.363538</td>\n",
       "      <td>3.364070</td>\n",
       "    </tr>\n",
       "    <tr>\n",
       "      <th>blues.00003.wav</th>\n",
       "      <td>gtzan</td>\n",
       "      <td>/project_data_source/gtzan_dataset/Data/genres...</td>\n",
       "      <td>blues</td>\n",
       "      <td>n/a</td>\n",
       "      <td>n/a</td>\n",
       "      <td>n/a</td>\n",
       "      <td>[-0.013000488, -0.03060913, -0.036071777, -0.0...</td>\n",
       "      <td>22050</td>\n",
       "      <td>[1070.1534, 0.25125474, 0.07936938, 1596.4226,...</td>\n",
       "      <td>1070.153442</td>\n",
       "      <td>0.251255</td>\n",
       "      <td>0.079369</td>\n",
       "      <td>1596.422607</td>\n",
       "      <td>2184.879150</td>\n",
       "      <td>0.033309</td>\n",
       "      <td>0.141040</td>\n",
       "      <td>0.404854</td>\n",
       "      <td>0.866870</td>\n",
       "    </tr>\n",
       "    <tr>\n",
       "      <th>blues.00004.wav</th>\n",
       "      <td>gtzan</td>\n",
       "      <td>/project_data_source/gtzan_dataset/Data/genres...</td>\n",
       "      <td>blues</td>\n",
       "      <td>n/a</td>\n",
       "      <td>n/a</td>\n",
       "      <td>n/a</td>\n",
       "      <td>[-0.0063171387, -0.009277344, -0.008331299, -0...</td>\n",
       "      <td>22050</td>\n",
       "      <td>[1835.1285, -0.17207043, -0.24526799, 1748.410...</td>\n",
       "      <td>1835.128540</td>\n",
       "      <td>-0.172070</td>\n",
       "      <td>-0.245268</td>\n",
       "      <td>1748.410767</td>\n",
       "      <td>3579.957520</td>\n",
       "      <td>0.101461</td>\n",
       "      <td>0.091501</td>\n",
       "      <td>0.308526</td>\n",
       "      <td>-9.653034</td>\n",
       "    </tr>\n",
       "  </tbody>\n",
       "</table>\n",
       "</div>"
      ],
      "text/plain": [
       "                dataset                                         audio_path  \\\n",
       "track_id                                                                     \n",
       "blues.00000.wav   gtzan  /project_data_source/gtzan_dataset/Data/genres...   \n",
       "blues.00001.wav   gtzan  /project_data_source/gtzan_dataset/Data/genres...   \n",
       "blues.00002.wav   gtzan  /project_data_source/gtzan_dataset/Data/genres...   \n",
       "blues.00003.wav   gtzan  /project_data_source/gtzan_dataset/Data/genres...   \n",
       "blues.00004.wav   gtzan  /project_data_source/gtzan_dataset/Data/genres...   \n",
       "\n",
       "                 label fma_genre_top fma_genres fma_genres_all  \\\n",
       "track_id                                                         \n",
       "blues.00000.wav  blues           n/a        n/a            n/a   \n",
       "blues.00001.wav  blues           n/a        n/a            n/a   \n",
       "blues.00002.wav  blues           n/a        n/a            n/a   \n",
       "blues.00003.wav  blues           n/a        n/a            n/a   \n",
       "blues.00004.wav  blues           n/a        n/a            n/a   \n",
       "\n",
       "                                                      librosa_load  \\\n",
       "track_id                                                             \n",
       "blues.00000.wav  [0.0073242188, 0.016601562, 0.0076293945, -0.0...   \n",
       "blues.00001.wav  [0.0034179688, 0.0043029785, 0.001373291, 0.00...   \n",
       "blues.00002.wav  [0.019012451, 0.047698975, 0.029418945, -0.018...   \n",
       "blues.00003.wav  [-0.013000488, -0.03060913, -0.036071777, -0.0...   \n",
       "blues.00004.wav  [-0.0063171387, -0.009277344, -0.008331299, -0...   \n",
       "\n",
       "                 sampling_rate  \\\n",
       "track_id                         \n",
       "blues.00000.wav          22050   \n",
       "blues.00001.wav          22050   \n",
       "blues.00002.wav          22050   \n",
       "blues.00003.wav          22050   \n",
       "blues.00004.wav          22050   \n",
       "\n",
       "                                                          features  \\\n",
       "track_id                                                             \n",
       "blues.00000.wav  [1784.1227, -0.49052292, -0.061881434, 2002.41...   \n",
       "blues.00001.wav  [1530.2617, 0.6459638, -0.0855879, 2038.9875, ...   \n",
       "blues.00002.wav  [1552.8325, 0.3400274, 0.025039379, 1747.754, ...   \n",
       "blues.00003.wav  [1070.1534, 0.25125474, 0.07936938, 1596.4226,...   \n",
       "blues.00004.wav  [1835.1285, -0.17207043, -0.24526799, 1748.410...   \n",
       "\n",
       "                 spectral_centroids_mean  spectral_centroids_delta_mean  \\\n",
       "track_id                                                                  \n",
       "blues.00000.wav              1784.122681                      -0.490523   \n",
       "blues.00001.wav              1530.261719                       0.645964   \n",
       "blues.00002.wav              1552.832520                       0.340027   \n",
       "blues.00003.wav              1070.153442                       0.251255   \n",
       "blues.00004.wav              1835.128540                      -0.172070   \n",
       "\n",
       "                 spectral_centroids_accelerate_mean  spectral_bandwidth_mean  \\\n",
       "track_id                                                                       \n",
       "blues.00000.wav                           -0.061881              2002.412354   \n",
       "blues.00001.wav                           -0.085588              2038.987549   \n",
       "blues.00002.wav                            0.025039              1747.754028   \n",
       "blues.00003.wav                            0.079369              1596.422607   \n",
       "blues.00004.wav                           -0.245268              1748.410767   \n",
       "\n",
       "                 spectral_rolloff_mean  zero_crossing_rate_mean  rms_mean  \\\n",
       "track_id                                                                    \n",
       "blues.00000.wav            3805.723145                 0.083045  0.130184   \n",
       "blues.00001.wav            3550.713623                 0.056040  0.095908   \n",
       "blues.00002.wav            3042.410156                 0.076291  0.175473   \n",
       "blues.00003.wav            2184.879150                 0.033309  0.141040   \n",
       "blues.00004.wav            3579.957520                 0.101461  0.091501   \n",
       "\n",
       "                 chroma_stft_mean  mfccs_mean  \n",
       "track_id                                       \n",
       "blues.00000.wav          0.350129    3.121230  \n",
       "blues.00001.wav          0.340849   -0.007777  \n",
       "blues.00002.wav          0.363538    3.364070  \n",
       "blues.00003.wav          0.404854    0.866870  \n",
       "blues.00004.wav          0.308526   -9.653034  "
      ]
     },
     "execution_count": 11,
     "metadata": {},
     "output_type": "execute_result"
    }
   ],
   "source": [
    "#Note full librosa_load output array was also saved in this parquet\n",
    "model_data.df"
   ]
  }
 ],
 "metadata": {
  "kernelspec": {
   "display_name": ".venv",
   "language": "python",
   "name": "python3"
  },
  "language_info": {
   "codemirror_mode": {
    "name": "ipython",
    "version": 3
   },
   "file_extension": ".py",
   "mimetype": "text/x-python",
   "name": "python",
   "nbconvert_exporter": "python",
   "pygments_lexer": "ipython3",
   "version": "3.10.15"
  }
 },
 "nbformat": 4,
 "nbformat_minor": 2
}
