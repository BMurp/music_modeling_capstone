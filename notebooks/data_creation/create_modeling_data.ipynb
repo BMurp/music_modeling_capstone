{
 "cells": [
  {
   "cell_type": "code",
   "execution_count": 1,
   "metadata": {},
   "outputs": [],
   "source": [
    "import sys\n",
    "import os\n",
    "sys.path.insert(0, '../../')"
   ]
  },
  {
   "cell_type": "code",
   "execution_count": 3,
   "metadata": {},
   "outputs": [
    {
     "name": "stdout",
     "output_type": "stream",
     "text": [
      "<class 'library.notebook_api.data_loader.CombinedDataLoader'>\n"
     ]
    }
   ],
   "source": [
    "from library.notebook_api.data_loader import CombinedDataLoader"
   ]
  },
  {
   "cell_type": "code",
   "execution_count": 5,
   "metadata": {},
   "outputs": [],
   "source": [
    "data = CombinedDataLoader()"
   ]
  },
  {
   "cell_type": "code",
   "execution_count": 7,
   "metadata": {},
   "outputs": [],
   "source": [
    "df = data.get_combined_df()"
   ]
  },
  {
   "cell_type": "code",
   "execution_count": 8,
   "metadata": {},
   "outputs": [
    {
     "data": {
      "text/html": [
       "<div>\n",
       "<style scoped>\n",
       "    .dataframe tbody tr th:only-of-type {\n",
       "        vertical-align: middle;\n",
       "    }\n",
       "\n",
       "    .dataframe tbody tr th {\n",
       "        vertical-align: top;\n",
       "    }\n",
       "\n",
       "    .dataframe thead th {\n",
       "        text-align: right;\n",
       "    }\n",
       "</style>\n",
       "<table border=\"1\" class=\"dataframe\">\n",
       "  <thead>\n",
       "    <tr style=\"text-align: right;\">\n",
       "      <th></th>\n",
       "      <th>dataset</th>\n",
       "      <th>audio_path</th>\n",
       "      <th>label</th>\n",
       "      <th>fma_genre_top</th>\n",
       "      <th>fma_genres</th>\n",
       "      <th>fma_genres_all</th>\n",
       "    </tr>\n",
       "    <tr>\n",
       "      <th>track_id</th>\n",
       "      <th></th>\n",
       "      <th></th>\n",
       "      <th></th>\n",
       "      <th></th>\n",
       "      <th></th>\n",
       "      <th></th>\n",
       "    </tr>\n",
       "  </thead>\n",
       "  <tbody>\n",
       "    <tr>\n",
       "      <th>2</th>\n",
       "      <td>fma</td>\n",
       "      <td>/Users/murphybre/Desktop/UMichigan/Fall2024/si...</td>\n",
       "      <td>hiphop</td>\n",
       "      <td>Hip-Hop</td>\n",
       "      <td>[21]</td>\n",
       "      <td>[21]</td>\n",
       "    </tr>\n",
       "    <tr>\n",
       "      <th>3</th>\n",
       "      <td>fma</td>\n",
       "      <td>/Users/murphybre/Desktop/UMichigan/Fall2024/si...</td>\n",
       "      <td>hiphop</td>\n",
       "      <td>Hip-Hop</td>\n",
       "      <td>[21]</td>\n",
       "      <td>[21]</td>\n",
       "    </tr>\n",
       "    <tr>\n",
       "      <th>5</th>\n",
       "      <td>fma</td>\n",
       "      <td>/Users/murphybre/Desktop/UMichigan/Fall2024/si...</td>\n",
       "      <td>hiphop</td>\n",
       "      <td>Hip-Hop</td>\n",
       "      <td>[21]</td>\n",
       "      <td>[21]</td>\n",
       "    </tr>\n",
       "    <tr>\n",
       "      <th>10</th>\n",
       "      <td>fma</td>\n",
       "      <td>/Users/murphybre/Desktop/UMichigan/Fall2024/si...</td>\n",
       "      <td>pop</td>\n",
       "      <td>Pop</td>\n",
       "      <td>[10]</td>\n",
       "      <td>[10]</td>\n",
       "    </tr>\n",
       "    <tr>\n",
       "      <th>20</th>\n",
       "      <td>fma</td>\n",
       "      <td>/Users/murphybre/Desktop/UMichigan/Fall2024/si...</td>\n",
       "      <td>NaN</td>\n",
       "      <td>NaN</td>\n",
       "      <td>[76, 103]</td>\n",
       "      <td>[17, 10, 76, 103]</td>\n",
       "    </tr>\n",
       "  </tbody>\n",
       "</table>\n",
       "</div>"
      ],
      "text/plain": [
       "         dataset                                         audio_path   label  \\\n",
       "track_id                                                                      \n",
       "2            fma  /Users/murphybre/Desktop/UMichigan/Fall2024/si...  hiphop   \n",
       "3            fma  /Users/murphybre/Desktop/UMichigan/Fall2024/si...  hiphop   \n",
       "5            fma  /Users/murphybre/Desktop/UMichigan/Fall2024/si...  hiphop   \n",
       "10           fma  /Users/murphybre/Desktop/UMichigan/Fall2024/si...     pop   \n",
       "20           fma  /Users/murphybre/Desktop/UMichigan/Fall2024/si...     NaN   \n",
       "\n",
       "         fma_genre_top fma_genres     fma_genres_all  \n",
       "track_id                                              \n",
       "2              Hip-Hop       [21]               [21]  \n",
       "3              Hip-Hop       [21]               [21]  \n",
       "5              Hip-Hop       [21]               [21]  \n",
       "10                 Pop       [10]               [10]  \n",
       "20                 NaN  [76, 103]  [17, 10, 76, 103]  "
      ]
     },
     "execution_count": 8,
     "metadata": {},
     "output_type": "execute_result"
    }
   ],
   "source": [
    "df.head()"
   ]
  },
  {
   "cell_type": "code",
   "execution_count": null,
   "metadata": {},
   "outputs": [],
   "source": []
  }
 ],
 "metadata": {
  "language_info": {
   "name": "python"
  }
 },
 "nbformat": 4,
 "nbformat_minor": 2
}
