{
 "cells": [
  {
   "cell_type": "markdown",
   "metadata": {},
   "source": [
    "# Design How to Combine the data sources\n"
   ]
  },
  {
   "cell_type": "code",
   "execution_count": 83,
   "metadata": {},
   "outputs": [],
   "source": [
    "import pandas as pd\n",
    "import fma_modules.utils as fma_utils\n",
    "import librosa\n"
   ]
  },
  {
   "cell_type": "markdown",
   "metadata": {},
   "source": [
    "### Data Combining\n",
    "we should have a data source with harmonized ids and meta for each audio file as well as labels "
   ]
  },
  {
   "cell_type": "code",
   "execution_count": 180,
   "metadata": {},
   "outputs": [],
   "source": [
    "class DataSource():\n",
    "    '''Base class for datasource information\n",
    "    Attributes:\n",
    "        metadata_path:  the path to data csv files\n",
    "        audio_path: the path to audio files\n",
    "        columns: the defined list of columns to include in dataframe\n",
    "    \n",
    "    \n",
    "    '''\n",
    "    def __init__(self,metadata_path, audio_path):\n",
    "        self.metadata_path = metadata_path \n",
    "        self.audio_path = audio_path\n",
    "        self.columns = ['dataset',\n",
    "                        'audio_path',\n",
    "                        'label',\n",
    "                        'fma_genre_top',\n",
    "                        'fma_genres',\n",
    "                        'fma_genres_all']\n",
    "        return \n",
    "    \n",
    "    def get_file_meta(self):\n",
    "        '''Returns standardized /harmonized dataframe'''\n",
    "\n",
    "\n",
    "        return \n",
    "    \n",
    "    def get_audio_paths(self):\n",
    "        '''Returns series of audio paths '''\n",
    "        return\n",
    "\n",
    "        \n",
    "class FreeMusicArchive(DataSource):\n",
    "    '''Specifics of Free Music Archive Data Source'''\n",
    "\n",
    "    def __init__(self, metadata_path, audio_path):\n",
    "        DataSource.__init__(self, metadata_path, audio_path)\n",
    "        self.tracks = tracks =fma_utils.load(self.metadata_path + 'tracks.csv')\n",
    "\n",
    "    def get_file_meta(self):\n",
    "        track_meta = self.tracks['track']\n",
    "        id_and_labels = (track_meta[['genre_top','genres','genres_all']]\n",
    "                         .rename(columns={'genre_top': 'fma_genre_top',\n",
    "                                          'genres': 'fma_genres',\n",
    "                                          'genres_all': 'fma_genres_all'\n",
    "                                          \n",
    "                                          })\n",
    "                         )\n",
    "        id_and_labels['dataset']= 'fma'\n",
    "        id_and_labels['audio_path'] = self.get_audio_paths()\n",
    "        id_and_labels['label'] = id_and_labels['fma_genre_top']\n",
    "\n",
    "        \n",
    "        return id_and_labels[self.columns]\n",
    "    \n",
    "    def get_audio_paths(self):\n",
    "        return (self.tracks.index\n",
    "                    .to_series()\n",
    "                    .map(lambda index: fma_utils.get_audio_path(self.audio_path, index))\n",
    "                )\n",
    "\n",
    "\n",
    "class GTZAN(DataSource):\n",
    "    '''Specifics of GTZAN data source'''\n",
    "\n",
    "    def __init__(self, metadata_path, audio_path):\n",
    "        DataSource.__init__(self, metadata_path, audio_path)\n",
    "        self.features_30_sec = pd.read_csv(metadata_path+ 'features_30_sec.csv')\n",
    "        return\n",
    "    def get_file_meta(self):      \n",
    "        id_and_labels = self.features_30_sec[['filename','label']].reset_index()\n",
    "        id_and_labels['track_id'] = id_and_labels['filename']\n",
    "\n",
    "        id_and_labels['dataset']= 'gtzan'\n",
    "\n",
    "        id_and_labels['audio_path'] = self.audio_path +'/'+ id_and_labels.label + '/' + id_and_labels.filename\n",
    "\n",
    "        harmonized = id_and_labels.set_index('track_id')\n",
    "        harmonized['fma_genre_top'] = 'n/a'\n",
    "        harmonized['fma_genres'] = 'n/a'\n",
    "        harmonized['fma_genres_all'] = 'n/a'\n",
    "\n",
    "        return harmonized[self.columns]\n",
    "    \n",
    "\n",
    "class CombinedDataLoader():\n",
    "    '''Loads each data source and provides acccess to unioned result\n",
    "    Attributes:\n",
    "        df:  The unioned result of common columns of fma and gtzan datasources\n",
    "   \n",
    "    \n",
    "    \n",
    "    '''\n",
    "    def __init__(self):\n",
    "        self.FMA_MEATADATA_PATH =\"project_data_source/free_music_archive/fma_metadata/\"\n",
    "        self.FMA_AUDIO_PATH = \"project_data_source/free_music_archive/fma_small/\"\n",
    "        self.fma = FreeMusicArchive(self.FMA_MEATADATA_PATH,self.FMA_AUDIO_PATH)\n",
    "        self.GTZAN_MEATADATA_PATH = \"project_data_source/gtzan_dataset/Data/\"\n",
    "        self.GTZAN_AUDIO_PATH = \"project_data_source/gtzan_dataset/Data/genres_original\"\n",
    "        self.gtzan = GTZAN(self.GTZAN_MEATADATA_PATH,self.GTZAN_AUDIO_PATH)\n",
    "        self.df = self.get_combined_df()\n",
    "        return \n",
    "    def get_combined_df(self):\n",
    "        \n",
    "        return pd.concat([data.get_file_meta() for data in [self.fma,self.gtzan]])\n",
    "    \n",
    "\n",
    "\n",
    "    "
   ]
  },
  {
   "cell_type": "markdown",
   "metadata": {},
   "source": [
    "### Audio Extraction Class\n",
    "the combined dataframe can be the source for an audio feature extraction process where we load files into libraries like librosa and leverage the libraries extact numerical features. \n",
    "the features could be put back into the dataframe or written out somewhere. "
   ]
  },
  {
   "cell_type": "code",
   "execution_count": 174,
   "metadata": {},
   "outputs": [],
   "source": [
    "class AudioFeatureExtractor():\n",
    "    '''interface for audio feature extraction libraries\n",
    "    takes a dataframe of the source data as input\n",
    "    provides method for adding extracted audio data and features to dataframe\n",
    "\n",
    "    Attributes:\n",
    "        source_data: should be based on CombinedDataLoader.df, a subset of rows can be passed for testing\n",
    "        df : current state of the data frame \n",
    "   \n",
    "\n",
    "    \n",
    "    '''\n",
    "    def __init__(self,source_data):\n",
    "        self.df = source_data.copy()\n",
    "        return\n",
    "    \n",
    "    def get_audio_data(self,file_name):\n",
    "        try:\n",
    "            y, sr = librosa.load(file_name)\n",
    "        except:\n",
    "            return 0\n",
    "        return y, sr\n",
    "    \n",
    "    def add_audio_data_to_df(self):\n",
    "        self.df['audio_data'] = self.df['audio_path'].apply(self.get_audio_data)\n",
    "\n",
    "        return \n",
    "    \n",
    "    "
   ]
  },
  {
   "cell_type": "markdown",
   "metadata": {},
   "source": [
    "### Bring in Data"
   ]
  },
  {
   "cell_type": "code",
   "execution_count": 181,
   "metadata": {},
   "outputs": [],
   "source": [
    "data = CombinedDataLoader()"
   ]
  },
  {
   "cell_type": "code",
   "execution_count": 182,
   "metadata": {},
   "outputs": [],
   "source": [
    "combined = data.df"
   ]
  },
  {
   "cell_type": "code",
   "execution_count": 183,
   "metadata": {},
   "outputs": [
    {
     "data": {
      "text/plain": [
       "dataset\n",
       "fma      106574\n",
       "gtzan      1000\n",
       "Name: audio_path, dtype: int64"
      ]
     },
     "execution_count": 183,
     "metadata": {},
     "output_type": "execute_result"
    }
   ],
   "source": [
    "combined.groupby('dataset')['audio_path'].count()"
   ]
  },
  {
   "cell_type": "markdown",
   "metadata": {},
   "source": [
    "### Test Extraction With Librosa - FMA dataset"
   ]
  },
  {
   "cell_type": "code",
   "execution_count": 190,
   "metadata": {},
   "outputs": [],
   "source": [
    "#get a subset of rows for testing \n",
    "test_data = combined.iloc[0:100]\n",
    "#test_data = combined[combined.dataset == 'gtzan']"
   ]
  },
  {
   "cell_type": "code",
   "execution_count": 191,
   "metadata": {},
   "outputs": [],
   "source": [
    "#instantiate extractor\n",
    "afe = AudioFeatureExtractor(test_data)"
   ]
  },
  {
   "cell_type": "code",
   "execution_count": 192,
   "metadata": {},
   "outputs": [
    {
     "data": {
      "text/html": [
       "<div>\n",
       "<style scoped>\n",
       "    .dataframe tbody tr th:only-of-type {\n",
       "        vertical-align: middle;\n",
       "    }\n",
       "\n",
       "    .dataframe tbody tr th {\n",
       "        vertical-align: top;\n",
       "    }\n",
       "\n",
       "    .dataframe thead th {\n",
       "        text-align: right;\n",
       "    }\n",
       "</style>\n",
       "<table border=\"1\" class=\"dataframe\">\n",
       "  <thead>\n",
       "    <tr style=\"text-align: right;\">\n",
       "      <th></th>\n",
       "      <th>dataset</th>\n",
       "      <th>audio_path</th>\n",
       "      <th>label</th>\n",
       "      <th>fma_genre_top</th>\n",
       "      <th>fma_genres</th>\n",
       "      <th>fma_genres_all</th>\n",
       "    </tr>\n",
       "    <tr>\n",
       "      <th>track_id</th>\n",
       "      <th></th>\n",
       "      <th></th>\n",
       "      <th></th>\n",
       "      <th></th>\n",
       "      <th></th>\n",
       "      <th></th>\n",
       "    </tr>\n",
       "  </thead>\n",
       "  <tbody>\n",
       "    <tr>\n",
       "      <th>2</th>\n",
       "      <td>fma</td>\n",
       "      <td>project_data_source/free_music_archive/fma_sma...</td>\n",
       "      <td>Hip-Hop</td>\n",
       "      <td>Hip-Hop</td>\n",
       "      <td>[21]</td>\n",
       "      <td>[21]</td>\n",
       "    </tr>\n",
       "    <tr>\n",
       "      <th>3</th>\n",
       "      <td>fma</td>\n",
       "      <td>project_data_source/free_music_archive/fma_sma...</td>\n",
       "      <td>Hip-Hop</td>\n",
       "      <td>Hip-Hop</td>\n",
       "      <td>[21]</td>\n",
       "      <td>[21]</td>\n",
       "    </tr>\n",
       "    <tr>\n",
       "      <th>5</th>\n",
       "      <td>fma</td>\n",
       "      <td>project_data_source/free_music_archive/fma_sma...</td>\n",
       "      <td>Hip-Hop</td>\n",
       "      <td>Hip-Hop</td>\n",
       "      <td>[21]</td>\n",
       "      <td>[21]</td>\n",
       "    </tr>\n",
       "    <tr>\n",
       "      <th>10</th>\n",
       "      <td>fma</td>\n",
       "      <td>project_data_source/free_music_archive/fma_sma...</td>\n",
       "      <td>Pop</td>\n",
       "      <td>Pop</td>\n",
       "      <td>[10]</td>\n",
       "      <td>[10]</td>\n",
       "    </tr>\n",
       "    <tr>\n",
       "      <th>20</th>\n",
       "      <td>fma</td>\n",
       "      <td>project_data_source/free_music_archive/fma_sma...</td>\n",
       "      <td>NaN</td>\n",
       "      <td>NaN</td>\n",
       "      <td>[76, 103]</td>\n",
       "      <td>[17, 10, 76, 103]</td>\n",
       "    </tr>\n",
       "    <tr>\n",
       "      <th>...</th>\n",
       "      <td>...</td>\n",
       "      <td>...</td>\n",
       "      <td>...</td>\n",
       "      <td>...</td>\n",
       "      <td>...</td>\n",
       "      <td>...</td>\n",
       "    </tr>\n",
       "    <tr>\n",
       "      <th>251</th>\n",
       "      <td>fma</td>\n",
       "      <td>project_data_source/free_music_archive/fma_sma...</td>\n",
       "      <td>NaN</td>\n",
       "      <td>NaN</td>\n",
       "      <td>[12, 76]</td>\n",
       "      <td>[10, 12, 76]</td>\n",
       "    </tr>\n",
       "    <tr>\n",
       "      <th>252</th>\n",
       "      <td>fma</td>\n",
       "      <td>project_data_source/free_music_archive/fma_sma...</td>\n",
       "      <td>Rock</td>\n",
       "      <td>Rock</td>\n",
       "      <td>[12]</td>\n",
       "      <td>[12]</td>\n",
       "    </tr>\n",
       "    <tr>\n",
       "      <th>253</th>\n",
       "      <td>fma</td>\n",
       "      <td>project_data_source/free_music_archive/fma_sma...</td>\n",
       "      <td>NaN</td>\n",
       "      <td>NaN</td>\n",
       "      <td>[12, 76]</td>\n",
       "      <td>[10, 12, 76]</td>\n",
       "    </tr>\n",
       "    <tr>\n",
       "      <th>254</th>\n",
       "      <td>fma</td>\n",
       "      <td>project_data_source/free_music_archive/fma_sma...</td>\n",
       "      <td>NaN</td>\n",
       "      <td>NaN</td>\n",
       "      <td>[12, 76]</td>\n",
       "      <td>[10, 12, 76]</td>\n",
       "    </tr>\n",
       "    <tr>\n",
       "      <th>255</th>\n",
       "      <td>fma</td>\n",
       "      <td>project_data_source/free_music_archive/fma_sma...</td>\n",
       "      <td>Rock</td>\n",
       "      <td>Rock</td>\n",
       "      <td>[12]</td>\n",
       "      <td>[12]</td>\n",
       "    </tr>\n",
       "  </tbody>\n",
       "</table>\n",
       "<p>100 rows × 6 columns</p>\n",
       "</div>"
      ],
      "text/plain": [
       "         dataset                                         audio_path    label  \\\n",
       "track_id                                                                       \n",
       "2            fma  project_data_source/free_music_archive/fma_sma...  Hip-Hop   \n",
       "3            fma  project_data_source/free_music_archive/fma_sma...  Hip-Hop   \n",
       "5            fma  project_data_source/free_music_archive/fma_sma...  Hip-Hop   \n",
       "10           fma  project_data_source/free_music_archive/fma_sma...      Pop   \n",
       "20           fma  project_data_source/free_music_archive/fma_sma...      NaN   \n",
       "...          ...                                                ...      ...   \n",
       "251          fma  project_data_source/free_music_archive/fma_sma...      NaN   \n",
       "252          fma  project_data_source/free_music_archive/fma_sma...     Rock   \n",
       "253          fma  project_data_source/free_music_archive/fma_sma...      NaN   \n",
       "254          fma  project_data_source/free_music_archive/fma_sma...      NaN   \n",
       "255          fma  project_data_source/free_music_archive/fma_sma...     Rock   \n",
       "\n",
       "         fma_genre_top fma_genres     fma_genres_all  \n",
       "track_id                                              \n",
       "2              Hip-Hop       [21]               [21]  \n",
       "3              Hip-Hop       [21]               [21]  \n",
       "5              Hip-Hop       [21]               [21]  \n",
       "10                 Pop       [10]               [10]  \n",
       "20                 NaN  [76, 103]  [17, 10, 76, 103]  \n",
       "...                ...        ...                ...  \n",
       "251                NaN   [12, 76]       [10, 12, 76]  \n",
       "252               Rock       [12]               [12]  \n",
       "253                NaN   [12, 76]       [10, 12, 76]  \n",
       "254                NaN   [12, 76]       [10, 12, 76]  \n",
       "255               Rock       [12]               [12]  \n",
       "\n",
       "[100 rows x 6 columns]"
      ]
     },
     "execution_count": 192,
     "metadata": {},
     "output_type": "execute_result"
    }
   ],
   "source": [
    "#view source pre-extraction\n",
    "afe.df"
   ]
  },
  {
   "cell_type": "code",
   "execution_count": 193,
   "metadata": {},
   "outputs": [
    {
     "name": "stderr",
     "output_type": "stream",
     "text": [
      "/var/folders/rt/w6xs9fcn3snbp_cdthc_kjww0000gq/T/ipykernel_5031/4017733895.py:19: UserWarning: PySoundFile failed. Trying audioread instead.\n",
      "  y, sr = librosa.load(file_name)\n",
      "/Users/murphybre/Desktop/UMichigan/Fall2024/siads699_capstone/music_modeling_capstone/.venv/lib/python3.10/site-packages/librosa/core/audio.py:184: FutureWarning: librosa.core.audio.__audioread_load\n",
      "\tDeprecated as of librosa version 0.10.0.\n",
      "\tIt will be removed in librosa version 1.0.\n",
      "  y, sr_native = __audioread_load(path, offset, duration, dtype)\n"
     ]
    }
   ],
   "source": [
    "#run process to load librosa data into dataframe\n",
    "afe.add_audio_data_to_df()"
   ]
  },
  {
   "cell_type": "code",
   "execution_count": 194,
   "metadata": {},
   "outputs": [
    {
     "data": {
      "text/html": [
       "<div>\n",
       "<style scoped>\n",
       "    .dataframe tbody tr th:only-of-type {\n",
       "        vertical-align: middle;\n",
       "    }\n",
       "\n",
       "    .dataframe tbody tr th {\n",
       "        vertical-align: top;\n",
       "    }\n",
       "\n",
       "    .dataframe thead th {\n",
       "        text-align: right;\n",
       "    }\n",
       "</style>\n",
       "<table border=\"1\" class=\"dataframe\">\n",
       "  <thead>\n",
       "    <tr style=\"text-align: right;\">\n",
       "      <th></th>\n",
       "      <th>dataset</th>\n",
       "      <th>audio_path</th>\n",
       "      <th>label</th>\n",
       "      <th>fma_genre_top</th>\n",
       "      <th>fma_genres</th>\n",
       "      <th>fma_genres_all</th>\n",
       "      <th>audio_data</th>\n",
       "    </tr>\n",
       "    <tr>\n",
       "      <th>audio_data</th>\n",
       "      <th></th>\n",
       "      <th></th>\n",
       "      <th></th>\n",
       "      <th></th>\n",
       "      <th></th>\n",
       "      <th></th>\n",
       "      <th></th>\n",
       "    </tr>\n",
       "  </thead>\n",
       "  <tbody>\n",
       "    <tr>\n",
       "      <th>False</th>\n",
       "      <td>80</td>\n",
       "      <td>80</td>\n",
       "      <td>67</td>\n",
       "      <td>67</td>\n",
       "      <td>80</td>\n",
       "      <td>80</td>\n",
       "      <td>80</td>\n",
       "    </tr>\n",
       "    <tr>\n",
       "      <th>True</th>\n",
       "      <td>20</td>\n",
       "      <td>20</td>\n",
       "      <td>20</td>\n",
       "      <td>20</td>\n",
       "      <td>20</td>\n",
       "      <td>20</td>\n",
       "      <td>20</td>\n",
       "    </tr>\n",
       "  </tbody>\n",
       "</table>\n",
       "</div>"
      ],
      "text/plain": [
       "            dataset  audio_path  label  fma_genre_top  fma_genres  \\\n",
       "audio_data                                                          \n",
       "False            80          80     67             67          80   \n",
       "True             20          20     20             20          20   \n",
       "\n",
       "            fma_genres_all  audio_data  \n",
       "audio_data                              \n",
       "False                   80          80  \n",
       "True                    20          20  "
      ]
     },
     "execution_count": 194,
     "metadata": {},
     "output_type": "execute_result"
    }
   ],
   "source": [
    "#analyze the success rate \n",
    "afe.df.groupby(afe.df['audio_data'] != 0).count()"
   ]
  },
  {
   "cell_type": "code",
   "execution_count": 195,
   "metadata": {},
   "outputs": [
    {
     "data": {
      "text/plain": [
       "track_id\n",
       "2      ([9.313226e-09, 2.7939677e-09, -3.7252903e-09,...\n",
       "3                                                      0\n",
       "5      ([-2.561137e-09, 5.5879354e-09, -5.5879354e-09...\n",
       "10     ([-2.2351742e-08, 7.450581e-09, -7.450581e-09,...\n",
       "20                                                     0\n",
       "                             ...                        \n",
       "251                                                    0\n",
       "252                                                    0\n",
       "253                                                    0\n",
       "254                                                    0\n",
       "255    ([-4.656613e-09, -7.450581e-09, 9.313226e-10, ...\n",
       "Name: audio_data, Length: 100, dtype: object"
      ]
     },
     "execution_count": 195,
     "metadata": {},
     "output_type": "execute_result"
    }
   ],
   "source": [
    "#inspect data \n",
    "afe.df['audio_data']"
   ]
  },
  {
   "cell_type": "markdown",
   "metadata": {},
   "source": [
    "#### investigate the missing files"
   ]
  },
  {
   "cell_type": "code",
   "execution_count": 131,
   "metadata": {},
   "outputs": [
    {
     "data": {
      "text/plain": [
       "'project_data_source/free_music_archive/fma_small/000/000003.mp3'"
      ]
     },
     "execution_count": 131,
     "metadata": {},
     "output_type": "execute_result"
    }
   ],
   "source": [
    "afe.df['audio_path'].iloc[1]"
   ]
  },
  {
   "cell_type": "code",
   "execution_count": 133,
   "metadata": {},
   "outputs": [
    {
     "data": {
      "text/plain": [
       "'000/000003'"
      ]
     },
     "execution_count": 133,
     "metadata": {},
     "output_type": "execute_result"
    }
   ],
   "source": [
    "tid_str = '{:06d}'.format(3)\n",
    "\n",
    "tid_str[:3]+'/'+tid_str"
   ]
  },
  {
   "cell_type": "markdown",
   "metadata": {},
   "source": [
    "### Test Extraction With Librosa - gtza dataset"
   ]
  },
  {
   "cell_type": "code",
   "execution_count": 198,
   "metadata": {},
   "outputs": [
    {
     "name": "stderr",
     "output_type": "stream",
     "text": [
      "/var/folders/rt/w6xs9fcn3snbp_cdthc_kjww0000gq/T/ipykernel_5031/4017733895.py:19: UserWarning: PySoundFile failed. Trying audioread instead.\n",
      "  y, sr = librosa.load(file_name)\n",
      "/Users/murphybre/Desktop/UMichigan/Fall2024/siads699_capstone/music_modeling_capstone/.venv/lib/python3.10/site-packages/librosa/core/audio.py:184: FutureWarning: librosa.core.audio.__audioread_load\n",
      "\tDeprecated as of librosa version 0.10.0.\n",
      "\tIt will be removed in librosa version 1.0.\n",
      "  y, sr_native = __audioread_load(path, offset, duration, dtype)\n"
     ]
    }
   ],
   "source": [
    "gtza_test_data = combined[combined.dataset == 'gtzan']\n",
    "\n",
    "#instantiate extractor\n",
    "afe_gtza = AudioFeatureExtractor(gtza_test_data)\n",
    "#run extraction\n",
    "afe_gtza.add_audio_data_to_df()"
   ]
  },
  {
   "cell_type": "code",
   "execution_count": 200,
   "metadata": {},
   "outputs": [
    {
     "data": {
      "text/html": [
       "<div>\n",
       "<style scoped>\n",
       "    .dataframe tbody tr th:only-of-type {\n",
       "        vertical-align: middle;\n",
       "    }\n",
       "\n",
       "    .dataframe tbody tr th {\n",
       "        vertical-align: top;\n",
       "    }\n",
       "\n",
       "    .dataframe thead th {\n",
       "        text-align: right;\n",
       "    }\n",
       "</style>\n",
       "<table border=\"1\" class=\"dataframe\">\n",
       "  <thead>\n",
       "    <tr style=\"text-align: right;\">\n",
       "      <th></th>\n",
       "      <th>dataset</th>\n",
       "      <th>audio_path</th>\n",
       "      <th>label</th>\n",
       "      <th>fma_genre_top</th>\n",
       "      <th>fma_genres</th>\n",
       "      <th>fma_genres_all</th>\n",
       "      <th>audio_data</th>\n",
       "    </tr>\n",
       "    <tr>\n",
       "      <th>audio_data</th>\n",
       "      <th></th>\n",
       "      <th></th>\n",
       "      <th></th>\n",
       "      <th></th>\n",
       "      <th></th>\n",
       "      <th></th>\n",
       "      <th></th>\n",
       "    </tr>\n",
       "  </thead>\n",
       "  <tbody>\n",
       "    <tr>\n",
       "      <th>False</th>\n",
       "      <td>1</td>\n",
       "      <td>1</td>\n",
       "      <td>1</td>\n",
       "      <td>1</td>\n",
       "      <td>1</td>\n",
       "      <td>1</td>\n",
       "      <td>1</td>\n",
       "    </tr>\n",
       "    <tr>\n",
       "      <th>True</th>\n",
       "      <td>999</td>\n",
       "      <td>999</td>\n",
       "      <td>999</td>\n",
       "      <td>999</td>\n",
       "      <td>999</td>\n",
       "      <td>999</td>\n",
       "      <td>999</td>\n",
       "    </tr>\n",
       "  </tbody>\n",
       "</table>\n",
       "</div>"
      ],
      "text/plain": [
       "            dataset  audio_path  label  fma_genre_top  fma_genres  \\\n",
       "audio_data                                                          \n",
       "False             1           1      1              1           1   \n",
       "True            999         999    999            999         999   \n",
       "\n",
       "            fma_genres_all  audio_data  \n",
       "audio_data                              \n",
       "False                    1           1  \n",
       "True                   999         999  "
      ]
     },
     "execution_count": 200,
     "metadata": {},
     "output_type": "execute_result"
    }
   ],
   "source": [
    "#evaluate results\n",
    "afe_gtza.df.groupby(afe_gtza.df['audio_data'] != 0).count()"
   ]
  },
  {
   "cell_type": "code",
   "execution_count": 203,
   "metadata": {},
   "outputs": [
    {
     "data": {
      "text/html": [
       "<div>\n",
       "<style scoped>\n",
       "    .dataframe tbody tr th:only-of-type {\n",
       "        vertical-align: middle;\n",
       "    }\n",
       "\n",
       "    .dataframe tbody tr th {\n",
       "        vertical-align: top;\n",
       "    }\n",
       "\n",
       "    .dataframe thead th {\n",
       "        text-align: right;\n",
       "    }\n",
       "</style>\n",
       "<table border=\"1\" class=\"dataframe\">\n",
       "  <thead>\n",
       "    <tr style=\"text-align: right;\">\n",
       "      <th></th>\n",
       "      <th>audio_data</th>\n",
       "    </tr>\n",
       "    <tr>\n",
       "      <th>track_id</th>\n",
       "      <th></th>\n",
       "    </tr>\n",
       "  </thead>\n",
       "  <tbody>\n",
       "    <tr>\n",
       "      <th>blues.00000.wav</th>\n",
       "      <td>([0.0073242188, 0.016601562, 0.0076293945, -0....</td>\n",
       "    </tr>\n",
       "    <tr>\n",
       "      <th>blues.00001.wav</th>\n",
       "      <td>([0.0034179688, 0.0043029785, 0.001373291, 0.0...</td>\n",
       "    </tr>\n",
       "    <tr>\n",
       "      <th>blues.00002.wav</th>\n",
       "      <td>([0.019012451, 0.047698975, 0.029418945, -0.01...</td>\n",
       "    </tr>\n",
       "    <tr>\n",
       "      <th>blues.00003.wav</th>\n",
       "      <td>([-0.013000488, -0.03060913, -0.036071777, -0....</td>\n",
       "    </tr>\n",
       "    <tr>\n",
       "      <th>blues.00004.wav</th>\n",
       "      <td>([-0.0063171387, -0.009277344, -0.008331299, -...</td>\n",
       "    </tr>\n",
       "    <tr>\n",
       "      <th>...</th>\n",
       "      <td>...</td>\n",
       "    </tr>\n",
       "    <tr>\n",
       "      <th>rock.00095.wav</th>\n",
       "      <td>([-0.0826416, -0.12426758, -0.09277344, -0.074...</td>\n",
       "    </tr>\n",
       "    <tr>\n",
       "      <th>rock.00096.wav</th>\n",
       "      <td>([0.07272339, 0.10369873, 0.10211182, 0.107116...</td>\n",
       "    </tr>\n",
       "    <tr>\n",
       "      <th>rock.00097.wav</th>\n",
       "      <td>([-0.03414917, -0.038360596, 0.0030822754, 0.0...</td>\n",
       "    </tr>\n",
       "    <tr>\n",
       "      <th>rock.00098.wav</th>\n",
       "      <td>([0.0859375, 0.14483643, 0.14294434, 0.1555481...</td>\n",
       "    </tr>\n",
       "    <tr>\n",
       "      <th>rock.00099.wav</th>\n",
       "      <td>([-0.021118164, -0.03451538, -0.035369873, -0....</td>\n",
       "    </tr>\n",
       "  </tbody>\n",
       "</table>\n",
       "<p>1000 rows × 1 columns</p>\n",
       "</div>"
      ],
      "text/plain": [
       "                                                        audio_data\n",
       "track_id                                                          \n",
       "blues.00000.wav  ([0.0073242188, 0.016601562, 0.0076293945, -0....\n",
       "blues.00001.wav  ([0.0034179688, 0.0043029785, 0.001373291, 0.0...\n",
       "blues.00002.wav  ([0.019012451, 0.047698975, 0.029418945, -0.01...\n",
       "blues.00003.wav  ([-0.013000488, -0.03060913, -0.036071777, -0....\n",
       "blues.00004.wav  ([-0.0063171387, -0.009277344, -0.008331299, -...\n",
       "...                                                            ...\n",
       "rock.00095.wav   ([-0.0826416, -0.12426758, -0.09277344, -0.074...\n",
       "rock.00096.wav   ([0.07272339, 0.10369873, 0.10211182, 0.107116...\n",
       "rock.00097.wav   ([-0.03414917, -0.038360596, 0.0030822754, 0.0...\n",
       "rock.00098.wav   ([0.0859375, 0.14483643, 0.14294434, 0.1555481...\n",
       "rock.00099.wav   ([-0.021118164, -0.03451538, -0.035369873, -0....\n",
       "\n",
       "[1000 rows x 1 columns]"
      ]
     },
     "execution_count": 203,
     "metadata": {},
     "output_type": "execute_result"
    }
   ],
   "source": [
    "afe_gtza.df[['audio_data']]"
   ]
  },
  {
   "cell_type": "code",
   "execution_count": null,
   "metadata": {},
   "outputs": [],
   "source": []
  }
 ],
 "metadata": {
  "language_info": {
   "name": "python"
  }
 },
 "nbformat": 4,
 "nbformat_minor": 2
}
