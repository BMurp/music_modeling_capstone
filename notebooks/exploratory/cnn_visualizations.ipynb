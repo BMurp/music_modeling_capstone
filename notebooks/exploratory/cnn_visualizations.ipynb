{
  "nbformat": 4,
  "nbformat_minor": 0,
  "metadata": {
    "colab": {
      "provenance": [],
      "collapsed_sections": [
        "chDc5ZP7FFys",
        "TFAxBjI49RTA",
        "2XgcKJJXbfZa",
        "yZ_js_nVCgRC",
        "fGKFje8b9F4f"
      ]
    },
    "kernelspec": {
      "name": "python3",
      "display_name": "Python 3"
    },
    "language_info": {
      "name": "python"
    }
  },
  "cells": [
    {
      "cell_type": "markdown",
      "source": [
        "## Libraries"
      ],
      "metadata": {
        "id": "chDc5ZP7FFys"
      }
    },
    {
      "cell_type": "code",
      "execution_count": 2,
      "metadata": {
        "id": "ii7UD2ZHpdnr"
      },
      "outputs": [],
      "source": [
        "import sys\n",
        "import os\n",
        "import numpy as np\n",
        "import pandas as pd\n",
        "import glob\n",
        "from tensorflow import keras\n",
        "import tensorflow as tf\n",
        "from sklearn.model_selection import train_test_split\n",
        "from sklearn.preprocessing import LabelEncoder\n",
        "from tensorflow.keras.preprocessing.sequence import pad_sequences\n",
        "import matplotlib.pyplot as plt\n",
        "import seaborn as sns\n",
        "from tqdm import tqdm\n",
        "import warnings\n",
        "warnings.filterwarnings('ignore', category=UserWarning)"
      ]
    },
    {
      "cell_type": "markdown",
      "source": [
        "## Loading Data"
      ],
      "metadata": {
        "id": "TFAxBjI49RTA"
      }
    },
    {
      "cell_type": "code",
      "source": [
        "class ModelDataLoader:\n",
        "    '''Loads and provides access to model input data and related information'''\n",
        "\n",
        "    def __init__(self, version='000', extract_dir='/content/drive/MyDrive/'):\n",
        "        self.version = version\n",
        "        self.data_path = os.path.join(extract_dir, f'model_input_{self.version}')\n",
        "        self.mfcc_path = os.path.join(extract_dir, f'model_input_{self.version}_mfcc')\n",
        "\n",
        "        # Load the Parquet file\n",
        "        self.df = pd.read_parquet(self.data_path)\n",
        "\n",
        "        # Set up feature names and other data properties\n",
        "        self.feature_names = ['spectral_centroids_mean',\n",
        "                              'spectral_centroids_delta_mean',\n",
        "                              'spectral_centroids_accelerate_mean',\n",
        "                              'spectral_bandwidth_mean',\n",
        "                              'spectral_rolloff_mean',\n",
        "                              'zero_crossing_rate_mean',\n",
        "                              'rms_mean',\n",
        "                              'chroma_stft_mean',\n",
        "                              'mfccs_mean',\n",
        "                              'onset',\n",
        "                              'tempo',\n",
        "                              'contrast',\n",
        "                              'tonnetz',\n",
        "                              'mfccs_min',\n",
        "                              'mfccs_max']\n",
        "        self.label_names = self.df.label.unique()\n",
        "        self.class_distribution = pd.DataFrame(self.df['label'].value_counts(normalize=True) * 100).reset_index()\n",
        "\n",
        "        self.add_named_feature_columns()\n",
        "\n",
        "    def add_named_feature_columns(self):\n",
        "        for index, feature in enumerate(self.feature_names):\n",
        "            self.df[feature] = self.df.features.map(lambda features: features[index] if features is not None else None)\n",
        "\n",
        "    def get_mfcc(self):\n",
        "        # Use the specified path for .npy files\n",
        "        npy_files = glob.glob(os.path.join(self.mfcc_path, '*.npy'))\n",
        "\n",
        "        mfcc_array = []\n",
        "        for file in npy_files:\n",
        "            mfcc_array.append(np.load(file, allow_pickle=True))\n",
        "\n",
        "        # Concatenate arrays along the first axis\n",
        "        combined_array = np.concatenate(mfcc_array, axis=0)\n",
        "        return combined_array\n"
      ],
      "metadata": {
        "id": "ahDYqcpbHSy7"
      },
      "execution_count": 3,
      "outputs": []
    },
    {
      "cell_type": "code",
      "source": [
        "from google.colab import drive\n",
        "drive.mount('/content/drive')"
      ],
      "metadata": {
        "colab": {
          "base_uri": "https://localhost:8080/"
        },
        "id": "zKLVqoq4u2es",
        "outputId": "efc937ce-0865-4d61-e8ba-0ead3abb269f"
      },
      "execution_count": 4,
      "outputs": [
        {
          "output_type": "stream",
          "name": "stdout",
          "text": [
            "Drive already mounted at /content/drive; to attempt to forcibly remount, call drive.mount(\"/content/drive\", force_remount=True).\n"
          ]
        }
      ]
    },
    {
      "cell_type": "code",
      "source": [
        "# Initialize ModelDataLoader with the correct directory path\n",
        "model_data_loader = ModelDataLoader(version='005')\n",
        "\n",
        "# Access the loaded DataFrame\n",
        "model_data_loader_df = model_data_loader.df\n",
        "print(\"DataFrame loaded:\")\n",
        "display(model_data_loader_df.head())\n",
        "\n",
        "# Load the MFCC features\n",
        "features = model_data_loader.get_mfcc()\n",
        "print(\"MFCC features loaded with shape:\", features.shape)"
      ],
      "metadata": {
        "colab": {
          "base_uri": "https://localhost:8080/",
          "height": 290
        },
        "id": "3KXPfZl1Jjtb",
        "outputId": "8a85ea03-1933-404d-8cdb-49b525b347cf"
      },
      "execution_count": 5,
      "outputs": [
        {
          "output_type": "stream",
          "name": "stdout",
          "text": [
            "DataFrame loaded:\n"
          ]
        },
        {
          "output_type": "display_data",
          "data": {
            "text/plain": [
              "   index track_id dataset                                         audio_path  \\\n",
              "0      0   000002     fma  /project_data_source/free_music_archive/fma_sm...   \n",
              "1      2   000005     fma  /project_data_source/free_music_archive/fma_sm...   \n",
              "2      3   000010     fma  /project_data_source/free_music_archive/fma_sm...   \n",
              "3     15   000140     fma  /project_data_source/free_music_archive/fma_sm...   \n",
              "4     16   000141     fma  /project_data_source/free_music_archive/fma_sm...   \n",
              "\n",
              "    label fma_genre_top fma_genres fma_genres_all  file_available  \\\n",
              "0  hiphop       Hip-Hop       [21]           [21]             1.0   \n",
              "1  hiphop       Hip-Hop       [21]           [21]             1.0   \n",
              "2     pop           Pop       [10]           [10]             1.0   \n",
              "3    folk          Folk       [17]           [17]             1.0   \n",
              "4    folk          Folk       [17]           [17]             1.0   \n",
              "\n",
              "   sampling_rate  ... zero_crossing_rate_mean  rms_mean  chroma_stft_mean  \\\n",
              "0          44100  ...                0.098364  0.141225          0.424169   \n",
              "1          44100  ...                0.059334  0.145243          0.475249   \n",
              "2          44100  ...                0.080989  0.186656          0.430406   \n",
              "3          44100  ...                0.027256  0.068459          0.450882   \n",
              "4          44100  ...                0.034120  0.100852          0.341356   \n",
              "\n",
              "   mfccs_mean     onset       tempo   contrast   tonnetz   mfccs_min  \\\n",
              "0   -1.742610  1.403928  166.708664  21.300203  0.022087 -505.499176   \n",
              "1    1.318397  1.384270   99.384018  21.096722  0.005648 -528.116272   \n",
              "2    2.244156  1.123551  112.347145  20.852177 -0.033316 -537.197205   \n",
              "3   -3.624865  1.135973  107.666016  21.727451  0.012266 -592.895813   \n",
              "4   -4.471582  0.881413  120.185318  23.654802 -0.003315 -536.546936   \n",
              "\n",
              "    mfccs_max  \n",
              "0  196.868652  \n",
              "1  209.443054  \n",
              "2  229.155151  \n",
              "3  199.950806  \n",
              "4  222.208649  \n",
              "\n",
              "[5 rows x 26 columns]"
            ],
            "text/html": [
              "\n",
              "  <div id=\"df-3e2d6ebf-e34d-43a3-afa5-c5745e33a873\" class=\"colab-df-container\">\n",
              "    <div>\n",
              "<style scoped>\n",
              "    .dataframe tbody tr th:only-of-type {\n",
              "        vertical-align: middle;\n",
              "    }\n",
              "\n",
              "    .dataframe tbody tr th {\n",
              "        vertical-align: top;\n",
              "    }\n",
              "\n",
              "    .dataframe thead th {\n",
              "        text-align: right;\n",
              "    }\n",
              "</style>\n",
              "<table border=\"1\" class=\"dataframe\">\n",
              "  <thead>\n",
              "    <tr style=\"text-align: right;\">\n",
              "      <th></th>\n",
              "      <th>index</th>\n",
              "      <th>track_id</th>\n",
              "      <th>dataset</th>\n",
              "      <th>audio_path</th>\n",
              "      <th>label</th>\n",
              "      <th>fma_genre_top</th>\n",
              "      <th>fma_genres</th>\n",
              "      <th>fma_genres_all</th>\n",
              "      <th>file_available</th>\n",
              "      <th>sampling_rate</th>\n",
              "      <th>...</th>\n",
              "      <th>zero_crossing_rate_mean</th>\n",
              "      <th>rms_mean</th>\n",
              "      <th>chroma_stft_mean</th>\n",
              "      <th>mfccs_mean</th>\n",
              "      <th>onset</th>\n",
              "      <th>tempo</th>\n",
              "      <th>contrast</th>\n",
              "      <th>tonnetz</th>\n",
              "      <th>mfccs_min</th>\n",
              "      <th>mfccs_max</th>\n",
              "    </tr>\n",
              "  </thead>\n",
              "  <tbody>\n",
              "    <tr>\n",
              "      <th>0</th>\n",
              "      <td>0</td>\n",
              "      <td>000002</td>\n",
              "      <td>fma</td>\n",
              "      <td>/project_data_source/free_music_archive/fma_sm...</td>\n",
              "      <td>hiphop</td>\n",
              "      <td>Hip-Hop</td>\n",
              "      <td>[21]</td>\n",
              "      <td>[21]</td>\n",
              "      <td>1.0</td>\n",
              "      <td>44100</td>\n",
              "      <td>...</td>\n",
              "      <td>0.098364</td>\n",
              "      <td>0.141225</td>\n",
              "      <td>0.424169</td>\n",
              "      <td>-1.742610</td>\n",
              "      <td>1.403928</td>\n",
              "      <td>166.708664</td>\n",
              "      <td>21.300203</td>\n",
              "      <td>0.022087</td>\n",
              "      <td>-505.499176</td>\n",
              "      <td>196.868652</td>\n",
              "    </tr>\n",
              "    <tr>\n",
              "      <th>1</th>\n",
              "      <td>2</td>\n",
              "      <td>000005</td>\n",
              "      <td>fma</td>\n",
              "      <td>/project_data_source/free_music_archive/fma_sm...</td>\n",
              "      <td>hiphop</td>\n",
              "      <td>Hip-Hop</td>\n",
              "      <td>[21]</td>\n",
              "      <td>[21]</td>\n",
              "      <td>1.0</td>\n",
              "      <td>44100</td>\n",
              "      <td>...</td>\n",
              "      <td>0.059334</td>\n",
              "      <td>0.145243</td>\n",
              "      <td>0.475249</td>\n",
              "      <td>1.318397</td>\n",
              "      <td>1.384270</td>\n",
              "      <td>99.384018</td>\n",
              "      <td>21.096722</td>\n",
              "      <td>0.005648</td>\n",
              "      <td>-528.116272</td>\n",
              "      <td>209.443054</td>\n",
              "    </tr>\n",
              "    <tr>\n",
              "      <th>2</th>\n",
              "      <td>3</td>\n",
              "      <td>000010</td>\n",
              "      <td>fma</td>\n",
              "      <td>/project_data_source/free_music_archive/fma_sm...</td>\n",
              "      <td>pop</td>\n",
              "      <td>Pop</td>\n",
              "      <td>[10]</td>\n",
              "      <td>[10]</td>\n",
              "      <td>1.0</td>\n",
              "      <td>44100</td>\n",
              "      <td>...</td>\n",
              "      <td>0.080989</td>\n",
              "      <td>0.186656</td>\n",
              "      <td>0.430406</td>\n",
              "      <td>2.244156</td>\n",
              "      <td>1.123551</td>\n",
              "      <td>112.347145</td>\n",
              "      <td>20.852177</td>\n",
              "      <td>-0.033316</td>\n",
              "      <td>-537.197205</td>\n",
              "      <td>229.155151</td>\n",
              "    </tr>\n",
              "    <tr>\n",
              "      <th>3</th>\n",
              "      <td>15</td>\n",
              "      <td>000140</td>\n",
              "      <td>fma</td>\n",
              "      <td>/project_data_source/free_music_archive/fma_sm...</td>\n",
              "      <td>folk</td>\n",
              "      <td>Folk</td>\n",
              "      <td>[17]</td>\n",
              "      <td>[17]</td>\n",
              "      <td>1.0</td>\n",
              "      <td>44100</td>\n",
              "      <td>...</td>\n",
              "      <td>0.027256</td>\n",
              "      <td>0.068459</td>\n",
              "      <td>0.450882</td>\n",
              "      <td>-3.624865</td>\n",
              "      <td>1.135973</td>\n",
              "      <td>107.666016</td>\n",
              "      <td>21.727451</td>\n",
              "      <td>0.012266</td>\n",
              "      <td>-592.895813</td>\n",
              "      <td>199.950806</td>\n",
              "    </tr>\n",
              "    <tr>\n",
              "      <th>4</th>\n",
              "      <td>16</td>\n",
              "      <td>000141</td>\n",
              "      <td>fma</td>\n",
              "      <td>/project_data_source/free_music_archive/fma_sm...</td>\n",
              "      <td>folk</td>\n",
              "      <td>Folk</td>\n",
              "      <td>[17]</td>\n",
              "      <td>[17]</td>\n",
              "      <td>1.0</td>\n",
              "      <td>44100</td>\n",
              "      <td>...</td>\n",
              "      <td>0.034120</td>\n",
              "      <td>0.100852</td>\n",
              "      <td>0.341356</td>\n",
              "      <td>-4.471582</td>\n",
              "      <td>0.881413</td>\n",
              "      <td>120.185318</td>\n",
              "      <td>23.654802</td>\n",
              "      <td>-0.003315</td>\n",
              "      <td>-536.546936</td>\n",
              "      <td>222.208649</td>\n",
              "    </tr>\n",
              "  </tbody>\n",
              "</table>\n",
              "<p>5 rows × 26 columns</p>\n",
              "</div>\n",
              "    <div class=\"colab-df-buttons\">\n",
              "\n",
              "  <div class=\"colab-df-container\">\n",
              "    <button class=\"colab-df-convert\" onclick=\"convertToInteractive('df-3e2d6ebf-e34d-43a3-afa5-c5745e33a873')\"\n",
              "            title=\"Convert this dataframe to an interactive table.\"\n",
              "            style=\"display:none;\">\n",
              "\n",
              "  <svg xmlns=\"http://www.w3.org/2000/svg\" height=\"24px\" viewBox=\"0 -960 960 960\">\n",
              "    <path d=\"M120-120v-720h720v720H120Zm60-500h600v-160H180v160Zm220 220h160v-160H400v160Zm0 220h160v-160H400v160ZM180-400h160v-160H180v160Zm440 0h160v-160H620v160ZM180-180h160v-160H180v160Zm440 0h160v-160H620v160Z\"/>\n",
              "  </svg>\n",
              "    </button>\n",
              "\n",
              "  <style>\n",
              "    .colab-df-container {\n",
              "      display:flex;\n",
              "      gap: 12px;\n",
              "    }\n",
              "\n",
              "    .colab-df-convert {\n",
              "      background-color: #E8F0FE;\n",
              "      border: none;\n",
              "      border-radius: 50%;\n",
              "      cursor: pointer;\n",
              "      display: none;\n",
              "      fill: #1967D2;\n",
              "      height: 32px;\n",
              "      padding: 0 0 0 0;\n",
              "      width: 32px;\n",
              "    }\n",
              "\n",
              "    .colab-df-convert:hover {\n",
              "      background-color: #E2EBFA;\n",
              "      box-shadow: 0px 1px 2px rgba(60, 64, 67, 0.3), 0px 1px 3px 1px rgba(60, 64, 67, 0.15);\n",
              "      fill: #174EA6;\n",
              "    }\n",
              "\n",
              "    .colab-df-buttons div {\n",
              "      margin-bottom: 4px;\n",
              "    }\n",
              "\n",
              "    [theme=dark] .colab-df-convert {\n",
              "      background-color: #3B4455;\n",
              "      fill: #D2E3FC;\n",
              "    }\n",
              "\n",
              "    [theme=dark] .colab-df-convert:hover {\n",
              "      background-color: #434B5C;\n",
              "      box-shadow: 0px 1px 3px 1px rgba(0, 0, 0, 0.15);\n",
              "      filter: drop-shadow(0px 1px 2px rgba(0, 0, 0, 0.3));\n",
              "      fill: #FFFFFF;\n",
              "    }\n",
              "  </style>\n",
              "\n",
              "    <script>\n",
              "      const buttonEl =\n",
              "        document.querySelector('#df-3e2d6ebf-e34d-43a3-afa5-c5745e33a873 button.colab-df-convert');\n",
              "      buttonEl.style.display =\n",
              "        google.colab.kernel.accessAllowed ? 'block' : 'none';\n",
              "\n",
              "      async function convertToInteractive(key) {\n",
              "        const element = document.querySelector('#df-3e2d6ebf-e34d-43a3-afa5-c5745e33a873');\n",
              "        const dataTable =\n",
              "          await google.colab.kernel.invokeFunction('convertToInteractive',\n",
              "                                                    [key], {});\n",
              "        if (!dataTable) return;\n",
              "\n",
              "        const docLinkHtml = 'Like what you see? Visit the ' +\n",
              "          '<a target=\"_blank\" href=https://colab.research.google.com/notebooks/data_table.ipynb>data table notebook</a>'\n",
              "          + ' to learn more about interactive tables.';\n",
              "        element.innerHTML = '';\n",
              "        dataTable['output_type'] = 'display_data';\n",
              "        await google.colab.output.renderOutput(dataTable, element);\n",
              "        const docLink = document.createElement('div');\n",
              "        docLink.innerHTML = docLinkHtml;\n",
              "        element.appendChild(docLink);\n",
              "      }\n",
              "    </script>\n",
              "  </div>\n",
              "\n",
              "\n",
              "<div id=\"df-816d8675-ccdc-4aed-97e6-7a2f7c17217d\">\n",
              "  <button class=\"colab-df-quickchart\" onclick=\"quickchart('df-816d8675-ccdc-4aed-97e6-7a2f7c17217d')\"\n",
              "            title=\"Suggest charts\"\n",
              "            style=\"display:none;\">\n",
              "\n",
              "<svg xmlns=\"http://www.w3.org/2000/svg\" height=\"24px\"viewBox=\"0 0 24 24\"\n",
              "     width=\"24px\">\n",
              "    <g>\n",
              "        <path d=\"M19 3H5c-1.1 0-2 .9-2 2v14c0 1.1.9 2 2 2h14c1.1 0 2-.9 2-2V5c0-1.1-.9-2-2-2zM9 17H7v-7h2v7zm4 0h-2V7h2v10zm4 0h-2v-4h2v4z\"/>\n",
              "    </g>\n",
              "</svg>\n",
              "  </button>\n",
              "\n",
              "<style>\n",
              "  .colab-df-quickchart {\n",
              "      --bg-color: #E8F0FE;\n",
              "      --fill-color: #1967D2;\n",
              "      --hover-bg-color: #E2EBFA;\n",
              "      --hover-fill-color: #174EA6;\n",
              "      --disabled-fill-color: #AAA;\n",
              "      --disabled-bg-color: #DDD;\n",
              "  }\n",
              "\n",
              "  [theme=dark] .colab-df-quickchart {\n",
              "      --bg-color: #3B4455;\n",
              "      --fill-color: #D2E3FC;\n",
              "      --hover-bg-color: #434B5C;\n",
              "      --hover-fill-color: #FFFFFF;\n",
              "      --disabled-bg-color: #3B4455;\n",
              "      --disabled-fill-color: #666;\n",
              "  }\n",
              "\n",
              "  .colab-df-quickchart {\n",
              "    background-color: var(--bg-color);\n",
              "    border: none;\n",
              "    border-radius: 50%;\n",
              "    cursor: pointer;\n",
              "    display: none;\n",
              "    fill: var(--fill-color);\n",
              "    height: 32px;\n",
              "    padding: 0;\n",
              "    width: 32px;\n",
              "  }\n",
              "\n",
              "  .colab-df-quickchart:hover {\n",
              "    background-color: var(--hover-bg-color);\n",
              "    box-shadow: 0 1px 2px rgba(60, 64, 67, 0.3), 0 1px 3px 1px rgba(60, 64, 67, 0.15);\n",
              "    fill: var(--button-hover-fill-color);\n",
              "  }\n",
              "\n",
              "  .colab-df-quickchart-complete:disabled,\n",
              "  .colab-df-quickchart-complete:disabled:hover {\n",
              "    background-color: var(--disabled-bg-color);\n",
              "    fill: var(--disabled-fill-color);\n",
              "    box-shadow: none;\n",
              "  }\n",
              "\n",
              "  .colab-df-spinner {\n",
              "    border: 2px solid var(--fill-color);\n",
              "    border-color: transparent;\n",
              "    border-bottom-color: var(--fill-color);\n",
              "    animation:\n",
              "      spin 1s steps(1) infinite;\n",
              "  }\n",
              "\n",
              "  @keyframes spin {\n",
              "    0% {\n",
              "      border-color: transparent;\n",
              "      border-bottom-color: var(--fill-color);\n",
              "      border-left-color: var(--fill-color);\n",
              "    }\n",
              "    20% {\n",
              "      border-color: transparent;\n",
              "      border-left-color: var(--fill-color);\n",
              "      border-top-color: var(--fill-color);\n",
              "    }\n",
              "    30% {\n",
              "      border-color: transparent;\n",
              "      border-left-color: var(--fill-color);\n",
              "      border-top-color: var(--fill-color);\n",
              "      border-right-color: var(--fill-color);\n",
              "    }\n",
              "    40% {\n",
              "      border-color: transparent;\n",
              "      border-right-color: var(--fill-color);\n",
              "      border-top-color: var(--fill-color);\n",
              "    }\n",
              "    60% {\n",
              "      border-color: transparent;\n",
              "      border-right-color: var(--fill-color);\n",
              "    }\n",
              "    80% {\n",
              "      border-color: transparent;\n",
              "      border-right-color: var(--fill-color);\n",
              "      border-bottom-color: var(--fill-color);\n",
              "    }\n",
              "    90% {\n",
              "      border-color: transparent;\n",
              "      border-bottom-color: var(--fill-color);\n",
              "    }\n",
              "  }\n",
              "</style>\n",
              "\n",
              "  <script>\n",
              "    async function quickchart(key) {\n",
              "      const quickchartButtonEl =\n",
              "        document.querySelector('#' + key + ' button');\n",
              "      quickchartButtonEl.disabled = true;  // To prevent multiple clicks.\n",
              "      quickchartButtonEl.classList.add('colab-df-spinner');\n",
              "      try {\n",
              "        const charts = await google.colab.kernel.invokeFunction(\n",
              "            'suggestCharts', [key], {});\n",
              "      } catch (error) {\n",
              "        console.error('Error during call to suggestCharts:', error);\n",
              "      }\n",
              "      quickchartButtonEl.classList.remove('colab-df-spinner');\n",
              "      quickchartButtonEl.classList.add('colab-df-quickchart-complete');\n",
              "    }\n",
              "    (() => {\n",
              "      let quickchartButtonEl =\n",
              "        document.querySelector('#df-816d8675-ccdc-4aed-97e6-7a2f7c17217d button');\n",
              "      quickchartButtonEl.style.display =\n",
              "        google.colab.kernel.accessAllowed ? 'block' : 'none';\n",
              "    })();\n",
              "  </script>\n",
              "</div>\n",
              "\n",
              "    </div>\n",
              "  </div>\n"
            ],
            "application/vnd.google.colaboratory.intrinsic+json": {
              "type": "dataframe"
            }
          },
          "metadata": {}
        },
        {
          "output_type": "stream",
          "name": "stdout",
          "text": [
            "MFCC features loaded with shape: (24878,)\n"
          ]
        }
      ]
    },
    {
      "cell_type": "code",
      "source": [
        "labels_series = model_data_loader.df['label']"
      ],
      "metadata": {
        "id": "WDIkNqCMJlr1"
      },
      "execution_count": 6,
      "outputs": []
    },
    {
      "cell_type": "code",
      "source": [
        "feature_shapes = [feature.shape[1] for feature in features]\n",
        "print(\"features shape distribution\")\n",
        "print(pd.Series(feature_shapes).value_counts())\n",
        "print(\"total records: \", len(features))"
      ],
      "metadata": {
        "colab": {
          "base_uri": "https://localhost:8080/"
        },
        "id": "UfHqjXOoJ2AG",
        "outputId": "a93b33d3-0b51-4284-da76-f68bc72db2d2"
      },
      "execution_count": 7,
      "outputs": [
        {
          "output_type": "stream",
          "name": "stdout",
          "text": [
            "features shape distribution\n",
            "2582    13227\n",
            "2585    10274\n",
            "2812      522\n",
            "1         472\n",
            "1291      141\n",
            "        ...  \n",
            "2089        1\n",
            "957         1\n",
            "1175        1\n",
            "1731        1\n",
            "873         1\n",
            "Name: count, Length: 106, dtype: int64\n",
            "total records:  24878\n"
          ]
        }
      ]
    },
    {
      "cell_type": "code",
      "source": [
        "# currently filtered to just the most common shapes, as we'll need to normalize shapes prior to training\n",
        "MFCC_LENGTH_CUTOFF = 2582\n",
        "#array of indexes matching a predicate\n",
        "in_scope_feature_indexes = np.where(np.array(feature_shapes) >= MFCC_LENGTH_CUTOFF)[0]\n",
        "print(\"normalized length: \",len(in_scope_feature_indexes))"
      ],
      "metadata": {
        "id": "YR6L3JVYKGQ3",
        "colab": {
          "base_uri": "https://localhost:8080/"
        },
        "outputId": "2deed67e-23a9-4598-aa73-e1837f4e150d"
      },
      "execution_count": 8,
      "outputs": [
        {
          "output_type": "stream",
          "name": "stdout",
          "text": [
            "normalized length:  24029\n"
          ]
        }
      ]
    },
    {
      "cell_type": "code",
      "source": [
        "#pick subset of labels that are more intuitively representative of genre\n",
        "#genres like pop which are ambiguous are removed\n",
        "in_scope_labels = ['rock', 'electronic', 'hiphop', 'classical', 'jazz','country']\n",
        "#optain the indexes of label series wher the label is in the list\n",
        "in_scope_label_indexes = np.array(\n",
        "    (labels_series[\n",
        "                    labels_series\n",
        "                        .apply(lambda x: True if x in  in_scope_labels else False)]\n",
        "                        .index\n",
        "    )\n",
        ")\n",
        "\n",
        "#combine filter for the in scope labels with the same for in scope features\n",
        "in_scope_indexes = [index for index in in_scope_label_indexes if index in in_scope_feature_indexes]\n",
        "\n",
        "print(\"Final Row count after filters: \", len(in_scope_indexes))"
      ],
      "metadata": {
        "colab": {
          "base_uri": "https://localhost:8080/"
        },
        "id": "KG8LGt8YK6wJ",
        "outputId": "765aac6f-2d99-463c-cb00-4704a4fbe593"
      },
      "execution_count": 9,
      "outputs": [
        {
          "output_type": "stream",
          "name": "stdout",
          "text": [
            "Final Row count after filters:  14912\n"
          ]
        }
      ]
    },
    {
      "cell_type": "code",
      "source": [
        "in_scope_label_series = labels_series.iloc[in_scope_indexes]\n",
        "unique_label_names = in_scope_label_series.unique()\n",
        "unique_label_count = len(in_scope_label_series.unique())\n",
        "label_to_int_map = {}\n",
        "for index, label in enumerate(unique_label_names):\n",
        "    label_to_int_map[label] = index\n",
        "\n",
        "#numerical_labels = labels_series.map(label_to_int_map)\n",
        "numerical_labels = in_scope_label_series.map(label_to_int_map)\n",
        "\n",
        "encoded_labels = tf.one_hot(indices = numerical_labels.values, depth = len(unique_label_names))\n",
        "\n",
        "#put to list and reshape again\n",
        "#not needed in current implementation\n",
        "#encoded_labels_array = [label.reshape((unique_label_count,1)) for label in encoded_labels.numpy()]\n",
        "print(\"Unique label count: \", unique_label_count)\n",
        "print(\"label data count \" , len(encoded_labels))"
      ],
      "metadata": {
        "colab": {
          "base_uri": "https://localhost:8080/"
        },
        "id": "s7C8f3fXK8VU",
        "outputId": "f4ad32a7-e77d-4ba3-a516-a0c339f3beac"
      },
      "execution_count": 10,
      "outputs": [
        {
          "output_type": "stream",
          "name": "stdout",
          "text": [
            "Unique label count:  8\n",
            "label data count  14912\n"
          ]
        }
      ]
    },
    {
      "cell_type": "code",
      "source": [
        "#truncate to consistent length while reshaping\n",
        "reshaped_features = []\n",
        "for feature in features[in_scope_indexes]:\n",
        "    mfcc = []\n",
        "    for vector in feature:\n",
        "        mfcc.append(vector[0:MFCC_LENGTH_CUTOFF])\n",
        "        mfcc_reshaped = np.array(mfcc)\n",
        "    reshaped_features.append(mfcc_reshaped.reshape((MFCC_LENGTH_CUTOFF,13,1)))"
      ],
      "metadata": {
        "id": "JiG3l9SAK-Si"
      },
      "execution_count": 9,
      "outputs": []
    },
    {
      "cell_type": "markdown",
      "source": [
        "## CNN Model"
      ],
      "metadata": {
        "id": "2XgcKJJXbfZa"
      }
    },
    {
      "cell_type": "code",
      "source": [
        "#generate train and test with stratification for equal label distribution across train and test\n",
        "TEST_SIZE = .2\n",
        "X_train, X_test, y_train, y_test = train_test_split(np.array(reshaped_features), encoded_labels.numpy(), test_size=TEST_SIZE, random_state=42, stratify =encoded_labels.numpy() )"
      ],
      "metadata": {
        "id": "qetH2DXQLCCG"
      },
      "execution_count": 11,
      "outputs": []
    },
    {
      "cell_type": "code",
      "source": [
        "#inspect shapes\n",
        "X_train.shape, y_train.shape"
      ],
      "metadata": {
        "colab": {
          "base_uri": "https://localhost:8080/"
        },
        "id": "NkO1FA0OLMyf",
        "outputId": "b3885a8d-9c45-42b4-cd14-3e4a75a5ef00"
      },
      "execution_count": 12,
      "outputs": [
        {
          "output_type": "execute_result",
          "data": {
            "text/plain": [
              "((11929, 2582, 13, 1), (11929, 8))"
            ]
          },
          "metadata": {},
          "execution_count": 12
        }
      ]
    },
    {
      "cell_type": "code",
      "source": [
        "model = keras.Sequential(layers=[\n",
        "    #https://www.youtube.com/watch?v=dOG-HxpbMSw\n",
        "    #convulution 1\n",
        "    keras.layers.Conv2D(32, (3,3), activation=keras.activations.relu),\n",
        "    keras.layers.MaxPooling2D((3,3), strides=(2,2), padding='same'),\n",
        "    keras.layers.BatchNormalization(),\n",
        "    #convolution 2\n",
        "    keras.layers.Conv2D(32, (3,3), activation=keras.activations.relu),\n",
        "    keras.layers.MaxPooling2D((3,3), strides=(2,2), padding='same'),\n",
        "    keras.layers.BatchNormalization(),\n",
        "    #convolution 3\n",
        "    keras.layers.Conv2D(32, (2,2), activation=keras.activations.relu),\n",
        "    keras.layers.MaxPooling2D((2,2), strides=(2,2), padding='same'),\n",
        "    keras.layers.BatchNormalization(),\n",
        "    #flatten and feed into dense layer with dropiut\n",
        "    keras.layers.Flatten(),\n",
        "    keras.layers.Dense(64, activation=keras.activations.relu),\n",
        "    keras.layers.Dropout(0.3),\n",
        "    #predictions\n",
        "    keras.layers.Dense(unique_label_count, activation=keras.activations.softmax)\n",
        "\n",
        "    ])\n",
        "cce = keras.losses.categorical_crossentropy\n",
        "\n",
        "opt = keras.optimizers.Adam(learning_rate=0.0001)\n",
        "model.compile(optimizer=opt, loss=cce, metrics=['accuracy'])"
      ],
      "metadata": {
        "id": "RuOSZ36CLOhT"
      },
      "execution_count": 13,
      "outputs": []
    },
    {
      "cell_type": "code",
      "source": [
        "#note this currently only works after training\n",
        "#To do figure out how to build model prior to training to inspect it's architectuer\n",
        "model.summary()"
      ],
      "metadata": {
        "colab": {
          "base_uri": "https://localhost:8080/",
          "height": 593
        },
        "id": "7X0aD-K6LP6u",
        "outputId": "cdf66b3d-54c9-4ca3-87d3-7ac024b81423"
      },
      "execution_count": 14,
      "outputs": [
        {
          "output_type": "display_data",
          "data": {
            "text/plain": [
              "\u001b[1mModel: \"sequential\"\u001b[0m\n"
            ],
            "text/html": [
              "<pre style=\"white-space:pre;overflow-x:auto;line-height:normal;font-family:Menlo,'DejaVu Sans Mono',consolas,'Courier New',monospace\"><span style=\"font-weight: bold\">Model: \"sequential\"</span>\n",
              "</pre>\n"
            ]
          },
          "metadata": {}
        },
        {
          "output_type": "display_data",
          "data": {
            "text/plain": [
              "┏━━━━━━━━━━━━━━━━━━━━━━━━━━━━━━━━━━━━━━┳━━━━━━━━━━━━━━━━━━━━━━━━━━━━━┳━━━━━━━━━━━━━━━━━┓\n",
              "┃\u001b[1m \u001b[0m\u001b[1mLayer (type)                        \u001b[0m\u001b[1m \u001b[0m┃\u001b[1m \u001b[0m\u001b[1mOutput Shape               \u001b[0m\u001b[1m \u001b[0m┃\u001b[1m \u001b[0m\u001b[1m        Param #\u001b[0m\u001b[1m \u001b[0m┃\n",
              "┡━━━━━━━━━━━━━━━━━━━━━━━━━━━━━━━━━━━━━━╇━━━━━━━━━━━━━━━━━━━━━━━━━━━━━╇━━━━━━━━━━━━━━━━━┩\n",
              "│ conv2d (\u001b[38;5;33mConv2D\u001b[0m)                      │ ?                           │     \u001b[38;5;34m0\u001b[0m (unbuilt) │\n",
              "├──────────────────────────────────────┼─────────────────────────────┼─────────────────┤\n",
              "│ max_pooling2d (\u001b[38;5;33mMaxPooling2D\u001b[0m)         │ ?                           │     \u001b[38;5;34m0\u001b[0m (unbuilt) │\n",
              "├──────────────────────────────────────┼─────────────────────────────┼─────────────────┤\n",
              "│ batch_normalization                  │ ?                           │     \u001b[38;5;34m0\u001b[0m (unbuilt) │\n",
              "│ (\u001b[38;5;33mBatchNormalization\u001b[0m)                 │                             │                 │\n",
              "├──────────────────────────────────────┼─────────────────────────────┼─────────────────┤\n",
              "│ conv2d_1 (\u001b[38;5;33mConv2D\u001b[0m)                    │ ?                           │     \u001b[38;5;34m0\u001b[0m (unbuilt) │\n",
              "├──────────────────────────────────────┼─────────────────────────────┼─────────────────┤\n",
              "│ max_pooling2d_1 (\u001b[38;5;33mMaxPooling2D\u001b[0m)       │ ?                           │     \u001b[38;5;34m0\u001b[0m (unbuilt) │\n",
              "├──────────────────────────────────────┼─────────────────────────────┼─────────────────┤\n",
              "│ batch_normalization_1                │ ?                           │     \u001b[38;5;34m0\u001b[0m (unbuilt) │\n",
              "│ (\u001b[38;5;33mBatchNormalization\u001b[0m)                 │                             │                 │\n",
              "├──────────────────────────────────────┼─────────────────────────────┼─────────────────┤\n",
              "│ conv2d_2 (\u001b[38;5;33mConv2D\u001b[0m)                    │ ?                           │     \u001b[38;5;34m0\u001b[0m (unbuilt) │\n",
              "├──────────────────────────────────────┼─────────────────────────────┼─────────────────┤\n",
              "│ max_pooling2d_2 (\u001b[38;5;33mMaxPooling2D\u001b[0m)       │ ?                           │     \u001b[38;5;34m0\u001b[0m (unbuilt) │\n",
              "├──────────────────────────────────────┼─────────────────────────────┼─────────────────┤\n",
              "│ batch_normalization_2                │ ?                           │     \u001b[38;5;34m0\u001b[0m (unbuilt) │\n",
              "│ (\u001b[38;5;33mBatchNormalization\u001b[0m)                 │                             │                 │\n",
              "├──────────────────────────────────────┼─────────────────────────────┼─────────────────┤\n",
              "│ flatten (\u001b[38;5;33mFlatten\u001b[0m)                    │ ?                           │     \u001b[38;5;34m0\u001b[0m (unbuilt) │\n",
              "├──────────────────────────────────────┼─────────────────────────────┼─────────────────┤\n",
              "│ dense (\u001b[38;5;33mDense\u001b[0m)                        │ ?                           │     \u001b[38;5;34m0\u001b[0m (unbuilt) │\n",
              "├──────────────────────────────────────┼─────────────────────────────┼─────────────────┤\n",
              "│ dropout (\u001b[38;5;33mDropout\u001b[0m)                    │ ?                           │     \u001b[38;5;34m0\u001b[0m (unbuilt) │\n",
              "├──────────────────────────────────────┼─────────────────────────────┼─────────────────┤\n",
              "│ dense_1 (\u001b[38;5;33mDense\u001b[0m)                      │ ?                           │     \u001b[38;5;34m0\u001b[0m (unbuilt) │\n",
              "└──────────────────────────────────────┴─────────────────────────────┴─────────────────┘\n"
            ],
            "text/html": [
              "<pre style=\"white-space:pre;overflow-x:auto;line-height:normal;font-family:Menlo,'DejaVu Sans Mono',consolas,'Courier New',monospace\">┏━━━━━━━━━━━━━━━━━━━━━━━━━━━━━━━━━━━━━━┳━━━━━━━━━━━━━━━━━━━━━━━━━━━━━┳━━━━━━━━━━━━━━━━━┓\n",
              "┃<span style=\"font-weight: bold\"> Layer (type)                         </span>┃<span style=\"font-weight: bold\"> Output Shape                </span>┃<span style=\"font-weight: bold\">         Param # </span>┃\n",
              "┡━━━━━━━━━━━━━━━━━━━━━━━━━━━━━━━━━━━━━━╇━━━━━━━━━━━━━━━━━━━━━━━━━━━━━╇━━━━━━━━━━━━━━━━━┩\n",
              "│ conv2d (<span style=\"color: #0087ff; text-decoration-color: #0087ff\">Conv2D</span>)                      │ ?                           │     <span style=\"color: #00af00; text-decoration-color: #00af00\">0</span> (unbuilt) │\n",
              "├──────────────────────────────────────┼─────────────────────────────┼─────────────────┤\n",
              "│ max_pooling2d (<span style=\"color: #0087ff; text-decoration-color: #0087ff\">MaxPooling2D</span>)         │ ?                           │     <span style=\"color: #00af00; text-decoration-color: #00af00\">0</span> (unbuilt) │\n",
              "├──────────────────────────────────────┼─────────────────────────────┼─────────────────┤\n",
              "│ batch_normalization                  │ ?                           │     <span style=\"color: #00af00; text-decoration-color: #00af00\">0</span> (unbuilt) │\n",
              "│ (<span style=\"color: #0087ff; text-decoration-color: #0087ff\">BatchNormalization</span>)                 │                             │                 │\n",
              "├──────────────────────────────────────┼─────────────────────────────┼─────────────────┤\n",
              "│ conv2d_1 (<span style=\"color: #0087ff; text-decoration-color: #0087ff\">Conv2D</span>)                    │ ?                           │     <span style=\"color: #00af00; text-decoration-color: #00af00\">0</span> (unbuilt) │\n",
              "├──────────────────────────────────────┼─────────────────────────────┼─────────────────┤\n",
              "│ max_pooling2d_1 (<span style=\"color: #0087ff; text-decoration-color: #0087ff\">MaxPooling2D</span>)       │ ?                           │     <span style=\"color: #00af00; text-decoration-color: #00af00\">0</span> (unbuilt) │\n",
              "├──────────────────────────────────────┼─────────────────────────────┼─────────────────┤\n",
              "│ batch_normalization_1                │ ?                           │     <span style=\"color: #00af00; text-decoration-color: #00af00\">0</span> (unbuilt) │\n",
              "│ (<span style=\"color: #0087ff; text-decoration-color: #0087ff\">BatchNormalization</span>)                 │                             │                 │\n",
              "├──────────────────────────────────────┼─────────────────────────────┼─────────────────┤\n",
              "│ conv2d_2 (<span style=\"color: #0087ff; text-decoration-color: #0087ff\">Conv2D</span>)                    │ ?                           │     <span style=\"color: #00af00; text-decoration-color: #00af00\">0</span> (unbuilt) │\n",
              "├──────────────────────────────────────┼─────────────────────────────┼─────────────────┤\n",
              "│ max_pooling2d_2 (<span style=\"color: #0087ff; text-decoration-color: #0087ff\">MaxPooling2D</span>)       │ ?                           │     <span style=\"color: #00af00; text-decoration-color: #00af00\">0</span> (unbuilt) │\n",
              "├──────────────────────────────────────┼─────────────────────────────┼─────────────────┤\n",
              "│ batch_normalization_2                │ ?                           │     <span style=\"color: #00af00; text-decoration-color: #00af00\">0</span> (unbuilt) │\n",
              "│ (<span style=\"color: #0087ff; text-decoration-color: #0087ff\">BatchNormalization</span>)                 │                             │                 │\n",
              "├──────────────────────────────────────┼─────────────────────────────┼─────────────────┤\n",
              "│ flatten (<span style=\"color: #0087ff; text-decoration-color: #0087ff\">Flatten</span>)                    │ ?                           │     <span style=\"color: #00af00; text-decoration-color: #00af00\">0</span> (unbuilt) │\n",
              "├──────────────────────────────────────┼─────────────────────────────┼─────────────────┤\n",
              "│ dense (<span style=\"color: #0087ff; text-decoration-color: #0087ff\">Dense</span>)                        │ ?                           │     <span style=\"color: #00af00; text-decoration-color: #00af00\">0</span> (unbuilt) │\n",
              "├──────────────────────────────────────┼─────────────────────────────┼─────────────────┤\n",
              "│ dropout (<span style=\"color: #0087ff; text-decoration-color: #0087ff\">Dropout</span>)                    │ ?                           │     <span style=\"color: #00af00; text-decoration-color: #00af00\">0</span> (unbuilt) │\n",
              "├──────────────────────────────────────┼─────────────────────────────┼─────────────────┤\n",
              "│ dense_1 (<span style=\"color: #0087ff; text-decoration-color: #0087ff\">Dense</span>)                      │ ?                           │     <span style=\"color: #00af00; text-decoration-color: #00af00\">0</span> (unbuilt) │\n",
              "└──────────────────────────────────────┴─────────────────────────────┴─────────────────┘\n",
              "</pre>\n"
            ]
          },
          "metadata": {}
        },
        {
          "output_type": "display_data",
          "data": {
            "text/plain": [
              "\u001b[1m Total params: \u001b[0m\u001b[38;5;34m0\u001b[0m (0.00 B)\n"
            ],
            "text/html": [
              "<pre style=\"white-space:pre;overflow-x:auto;line-height:normal;font-family:Menlo,'DejaVu Sans Mono',consolas,'Courier New',monospace\"><span style=\"font-weight: bold\"> Total params: </span><span style=\"color: #00af00; text-decoration-color: #00af00\">0</span> (0.00 B)\n",
              "</pre>\n"
            ]
          },
          "metadata": {}
        },
        {
          "output_type": "display_data",
          "data": {
            "text/plain": [
              "\u001b[1m Trainable params: \u001b[0m\u001b[38;5;34m0\u001b[0m (0.00 B)\n"
            ],
            "text/html": [
              "<pre style=\"white-space:pre;overflow-x:auto;line-height:normal;font-family:Menlo,'DejaVu Sans Mono',consolas,'Courier New',monospace\"><span style=\"font-weight: bold\"> Trainable params: </span><span style=\"color: #00af00; text-decoration-color: #00af00\">0</span> (0.00 B)\n",
              "</pre>\n"
            ]
          },
          "metadata": {}
        },
        {
          "output_type": "display_data",
          "data": {
            "text/plain": [
              "\u001b[1m Non-trainable params: \u001b[0m\u001b[38;5;34m0\u001b[0m (0.00 B)\n"
            ],
            "text/html": [
              "<pre style=\"white-space:pre;overflow-x:auto;line-height:normal;font-family:Menlo,'DejaVu Sans Mono',consolas,'Courier New',monospace\"><span style=\"font-weight: bold\"> Non-trainable params: </span><span style=\"color: #00af00; text-decoration-color: #00af00\">0</span> (0.00 B)\n",
              "</pre>\n"
            ]
          },
          "metadata": {}
        }
      ]
    },
    {
      "cell_type": "code",
      "source": [
        "#configuration\n",
        "#BATCH_SIZE = 128\n",
        "BATCH_SIZE = 64\n",
        "#BATCH_SIZE = 32\n",
        "EPOCHS = 50\n",
        "EPOCHS = 6"
      ],
      "metadata": {
        "id": "mR24BdGjLRKz"
      },
      "execution_count": 15,
      "outputs": []
    },
    {
      "cell_type": "code",
      "source": [
        "# Train the model\n",
        "#following reference: https://www.kaggle.com/code/nilshmeier/melspectrogram-based-cnn-classification/notebook\n",
        "early_stopping = keras.callbacks.EarlyStopping(\n",
        "    monitor='val_loss',\n",
        "    #monitor='val_accuracy',\n",
        "    min_delta = 0,\n",
        "    patience=5,\n",
        "    mode='auto',\n",
        "    restore_best_weights=True\n",
        "    )\n",
        "history = model.fit(x=X_train, y=y_train, validation_split=TEST_SIZE, epochs=EPOCHS, batch_size=BATCH_SIZE, callbacks=[early_stopping])\n",
        "\n",
        "# Plot the training history\n",
        "fig, axs = plt.subplots(2)\n",
        "fig.set_size_inches(12, 8)\n",
        "fig.suptitle('Training History', fontsize=16)\n",
        "axs[0].plot(history.epoch, history.history['loss'], history.history['val_loss'])\n",
        "axs[0].set(title='Loss', xlabel='Epoch', ylabel='Loss')\n",
        "axs[0].legend(['loss', 'val_loss'])\n",
        "axs[1].plot(history.epoch, history.history['accuracy'], history.history['val_accuracy'])\n",
        "axs[1].set(title='Accuracy', xlabel='Epoch', ylabel='Accuracy')\n",
        "axs[1].legend(['accuracy', 'val_accuracy'])\n",
        "plt.show()"
      ],
      "metadata": {
        "colab": {
          "base_uri": "https://localhost:8080/",
          "height": 984
        },
        "id": "oX30tChMLWAN",
        "outputId": "490bd2fd-3bf5-403c-89fe-c5a0873fd3de"
      },
      "execution_count": 16,
      "outputs": [
        {
          "output_type": "stream",
          "name": "stdout",
          "text": [
            "Epoch 1/6\n",
            "\u001b[1m150/150\u001b[0m \u001b[32m━━━━━━━━━━━━━━━━━━━━\u001b[0m\u001b[37m\u001b[0m \u001b[1m466s\u001b[0m 3s/step - accuracy: 0.4215 - loss: 1.6069 - val_accuracy: 0.7850 - val_loss: 1.1974\n",
            "Epoch 2/6\n",
            "\u001b[1m150/150\u001b[0m \u001b[32m━━━━━━━━━━━━━━━━━━━━\u001b[0m\u001b[37m\u001b[0m \u001b[1m496s\u001b[0m 3s/step - accuracy: 0.9442 - loss: 0.3024 - val_accuracy: 0.9878 - val_loss: 0.3136\n",
            "Epoch 3/6\n",
            "\u001b[1m150/150\u001b[0m \u001b[32m━━━━━━━━━━━━━━━━━━━━\u001b[0m\u001b[37m\u001b[0m \u001b[1m503s\u001b[0m 3s/step - accuracy: 0.9911 - loss: 0.0821 - val_accuracy: 1.0000 - val_loss: 0.0325\n",
            "Epoch 4/6\n",
            "\u001b[1m150/150\u001b[0m \u001b[32m━━━━━━━━━━━━━━━━━━━━\u001b[0m\u001b[37m\u001b[0m \u001b[1m502s\u001b[0m 3s/step - accuracy: 0.9965 - loss: 0.0410 - val_accuracy: 1.0000 - val_loss: 0.0063\n",
            "Epoch 5/6\n",
            "\u001b[1m150/150\u001b[0m \u001b[32m━━━━━━━━━━━━━━━━━━━━\u001b[0m\u001b[37m\u001b[0m \u001b[1m520s\u001b[0m 3s/step - accuracy: 0.9988 - loss: 0.0220 - val_accuracy: 1.0000 - val_loss: 0.0025\n",
            "Epoch 6/6\n",
            "\u001b[1m150/150\u001b[0m \u001b[32m━━━━━━━━━━━━━━━━━━━━\u001b[0m\u001b[37m\u001b[0m \u001b[1m502s\u001b[0m 3s/step - accuracy: 0.9987 - loss: 0.0150 - val_accuracy: 1.0000 - val_loss: 0.0013\n"
          ]
        },
        {
          "output_type": "display_data",
          "data": {
            "text/plain": [
              "<Figure size 1200x800 with 2 Axes>"
            ],
            "image/png": "[encoded data removed]"
          },
          "metadata": {}
        }
      ]
    },
    {
      "cell_type": "code",
      "source": [
        "#validation\n",
        "y_predicted = np.argmax(model.predict(x=X_test), axis=1)\n",
        "y_true = np.argmax(y_test, axis=1)\n",
        "label_names = np.unique(numerical_labels)\n",
        "confusion_matrix = tf.math.confusion_matrix(labels=y_true, predictions=y_predicted)\n",
        "fig = plt.figure()\n",
        "fig.set_size_inches(12, 8)\n",
        "sns.heatmap(confusion_matrix, xticklabels=label_names, yticklabels=label_names, annot=True, fmt='g')\n",
        "plt.xlabel('Prediction')\n",
        "plt.ylabel('Label')\n",
        "plt.show()"
      ],
      "metadata": {
        "colab": {
          "base_uri": "https://localhost:8080/",
          "height": 713
        },
        "id": "NUVKNTE9LXPd",
        "outputId": "2d5ebc2a-246a-4712-dbb4-a29509a67107"
      },
      "execution_count": 17,
      "outputs": [
        {
          "output_type": "stream",
          "name": "stdout",
          "text": [
            "\u001b[1m94/94\u001b[0m \u001b[32m━━━━━━━━━━━━━━━━━━━━\u001b[0m\u001b[37m\u001b[0m \u001b[1m29s\u001b[0m 312ms/step\n"
          ]
        },
        {
          "output_type": "display_data",
          "data": {
            "text/plain": [
              "<Figure size 1200x800 with 2 Axes>"
            ],
            "image/png": "[encoded data removed]"
          },
          "metadata": {}
        }
      ]
    },
    {
      "cell_type": "markdown",
      "source": [
        "## CNN Layers Visualizations"
      ],
      "metadata": {
        "id": "yZ_js_nVCgRC"
      }
    },
    {
      "cell_type": "code",
      "source": [
        "import tensorflow as tf\n",
        "from tensorflow import keras\n",
        "from skimage.transform import resize\n",
        "\n",
        "# Define layer names to visualize\n",
        "conv_layer_names = [\"conv_layer_1\", \"conv_layer_2\", \"conv_layer_3\"]\n",
        "\n",
        "# Define the model without pooling layers\n",
        "input_layer = keras.Input(shape=(2582, 13, 1))\n",
        "x = keras.layers.Conv2D(32, (3,3), activation='relu', padding='same', name='conv_layer_1')(input_layer)\n",
        "x = keras.layers.BatchNormalization()(x)\n",
        "\n",
        "x = keras.layers.Conv2D(32, (3,3), activation='relu', padding='same', name='conv_layer_2')(x)\n",
        "x = keras.layers.BatchNormalization()(x)\n",
        "\n",
        "x = keras.layers.Conv2D(32, (3,3), activation='relu', padding='same', name='conv_layer_3')(x)\n",
        "x = keras.layers.BatchNormalization()(x)\n",
        "\n",
        "x = keras.layers.Flatten()(x)\n",
        "x = keras.layers.Dense(64, activation='relu')(x)\n",
        "x = keras.layers.Dropout(0.3)(x)\n",
        "output_layer = keras.layers.Dense(8, activation='softmax')(x)\n",
        "\n",
        "# Define the full model\n",
        "model = keras.Model(inputs=input_layer, outputs=output_layer)\n",
        "\n",
        "# Compile the model\n",
        "model.compile(optimizer='adam', loss='categorical_crossentropy', metrics=['accuracy'])\n",
        "\n",
        "# Dummy prediction to initialize model\n",
        "model.predict(np.expand_dims(X_test[0], axis=0))\n",
        "\n",
        "# Define a function to visualize feature maps without overlay\n",
        "def visualize_feature_maps_without_overlay(model, input_data, layer_names):\n",
        "    \"\"\"\n",
        "    Visualizes feature maps from specified layers without overlaying on MFCC.\n",
        "\n",
        "    Parameters:\n",
        "    - model: Trained CNN model.\n",
        "    - input_data: Input sample for which feature maps are generated.\n",
        "    - layer_names: List of layer names to visualize.\n",
        "\n",
        "    Returns:\n",
        "    - None (displays the feature maps directly).\n",
        "    \"\"\"\n",
        "    # Create a model that outputs feature maps from the specified layers\n",
        "    outputs = [model.get_layer(name).output for name in layer_names]\n",
        "    activation_model = tf.keras.Model(inputs=model.input, outputs=outputs)\n",
        "\n",
        "    # Get feature maps for the input data\n",
        "    feature_maps = activation_model.predict(np.expand_dims(input_data, axis=0))\n",
        "\n",
        "    # Plot each feature map independently\n",
        "    fig, axes = plt.subplots(1, len(layer_names), figsize=(15, 5))\n",
        "    if len(layer_names) == 1:\n",
        "        axes = [axes]\n",
        "\n",
        "    for i, feature_map in enumerate(feature_maps):\n",
        "        ax = axes[i]\n",
        "\n",
        "        # Reduce feature map dimensions for visualization (average over channels)\n",
        "        avg_feature_map = np.mean(feature_map[0], axis=-1)\n",
        "\n",
        "        # Display the feature map\n",
        "        ax.imshow(avg_feature_map, cmap='viridis', aspect='auto')\n",
        "        ax.set_title(f'Feature Map: {layer_names[i]}')\n",
        "        ax.axis('off')\n",
        "\n",
        "    plt.tight_layout()\n",
        "    plt.show()\n",
        "\n",
        "# Select a sample MFCC input from the test data\n",
        "sample_index = 0\n",
        "sample_input = X_test[sample_index]\n",
        "\n",
        "# Visualize feature maps without overlay on MFCC heatmap\n",
        "visualize_feature_maps_without_overlay(model, sample_input, conv_layer_names)"
      ],
      "metadata": {
        "colab": {
          "base_uri": "https://localhost:8080/",
          "height": 519
        },
        "id": "ZZ-Acll8eRUY",
        "outputId": "0e31e6f6-c38f-489a-a6b6-987e7c260868"
      },
      "execution_count": 37,
      "outputs": [
        {
          "output_type": "stream",
          "name": "stdout",
          "text": [
            "\u001b[1m1/1\u001b[0m \u001b[32m━━━━━━━━━━━━━━━━━━━━\u001b[0m\u001b[37m\u001b[0m \u001b[1m0s\u001b[0m 187ms/step\n",
            "\u001b[1m1/1\u001b[0m \u001b[32m━━━━━━━━━━━━━━━━━━━━\u001b[0m\u001b[37m\u001b[0m \u001b[1m0s\u001b[0m 122ms/step\n"
          ]
        },
        {
          "output_type": "display_data",
          "data": {
            "text/plain": [
              "<Figure size 1500x500 with 3 Axes>"
            ],
            "image/png": "[encoded data removed]"
          },
          "metadata": {}
        }
      ]
    },
    {
      "cell_type": "markdown",
      "source": [
        "### Explanation of the CNN Feature Maps\n",
        "\n",
        "The feature maps shown above represent the activations of the three convolutional layers in our CNN model. Here’s a breakdown of what each layer's feature map shows:\n",
        "\n",
        "- **Feature Map: conv_layer_1**:\n",
        "  - The first convolutional layer captures low-level features from the input MFCC data, such as edges or small variations in the audio signal across time frames.\n",
        "  - We can see that there are slight variations in brightness in the top portion of the feature map, indicating areas of higher activation in response to certain patterns in the MFCC data.\n",
        "\n",
        "- **Feature Map: conv_layer_2**:\n",
        "  - The second layer builds upon the patterns detected in the first layer, identifying more complex features or combinations of low-level patterns.\n",
        "  - The activations in this layer are somewhat more distinct than the first layer, suggesting that the model is starting to recognize broader structures in the audio data.\n",
        "\n",
        "- **Feature Map: conv_layer_3**:\n",
        "  - The third convolutional layer captures even more abstract patterns, focusing on higher-level features that may correlate with the underlying characteristics of the audio, such as timbre or rhythm.\n",
        "  - This layer shows more intense activation in certain areas, which means it’s responding strongly to specific patterns or features in the input data.\n",
        "\n",
        "Overall, each layer progressively abstracts the input MFCC data, with the final convolutional layer capturing high-level features that the model deems important for making predictions.\n",
        "\n",
        "### Feature Maps Without Overlay\n",
        "\n",
        "In this case, we visualized the feature maps without overlaying them on the original MFCC heatmap due to the inherent limitations of the MFCC’s structure:\n",
        "\n",
        "1. **Narrow Frequency Dimension**:\n",
        "   - The MFCC data has only 13 coefficients (frequency bins), making the input very narrow along the frequency axis. This limited frequency resolution means that the spatial information along the frequency dimension is not extensive enough to create visually meaningful overlays.\n",
        "   - When we tried overlaying feature maps on the MFCC heatmap, the resulting images appeared narrow and compressed, making it difficult to interpret the patterns learned by each convolutional layer.\n",
        "\n",
        "2. **Alternative Visualization for Better Interpretation**:\n",
        "   - By visualizing the feature maps independently, we allowed each convolutional layer’s patterns to be displayed without constraints, providing a clearer view of what each layer has learned.\n",
        "   - Displaying feature maps without overlay reveals how each layer responds to the input data without trying to align with the narrow frequency axis of the MFCCs, leading to more interpretable results.\n",
        "\n",
        "In summary, due to the limited spatial resolution of the MFCC data along the frequency dimension, visualizing feature maps independently was a more effective way to understand the features being captured by each convolutional layer in the CNN model.\n"
      ],
      "metadata": {
        "id": "-750tzkd3f-f"
      }
    },
    {
      "cell_type": "markdown",
      "source": [
        "## CNN Model Prediction with Input Audio Files"
      ],
      "metadata": {
        "id": "fGKFje8b9F4f"
      }
    },
    {
      "cell_type": "code",
      "source": [
        "# Define genre labels based on the subset used in training\n",
        "genre_labels = ['rock', 'electronic', 'hiphop', 'classical', 'jazz', 'country']\n",
        "\n",
        "# Function to preprocess the audio file\n",
        "def preprocess_audio(file_path, n_mfcc=13, max_pad_len=2582):\n",
        "    \"\"\"\n",
        "    Loads an audio file, extracts MFCCs, and pads or truncates it to a fixed length.\n",
        "\n",
        "    Parameters:\n",
        "    - file_path: str, path to the audio file.\n",
        "    - n_mfcc: int, number of MFCCs to extract.\n",
        "    - max_pad_len: int, fixed length for the MFCC output (number of time frames).\n",
        "\n",
        "    Returns:\n",
        "    - mfcc: np.array, processed MFCCs of shape (max_pad_len, n_mfcc, 1).\n",
        "    \"\"\"\n",
        "    # Load the audio file\n",
        "    y, sr = librosa.load(file_path, sr=None)\n",
        "\n",
        "    # Extract MFCCs\n",
        "    mfcc = librosa.feature.mfcc(y=y, sr=sr, n_mfcc=n_mfcc)\n",
        "\n",
        "    # Pad or truncate to ensure fixed length\n",
        "    if mfcc.shape[1] < max_pad_len:\n",
        "        pad_width = max_pad_len - mfcc.shape[1]\n",
        "        mfcc = np.pad(mfcc, pad_width=((0, 0), (0, pad_width)), mode='constant')\n",
        "    else:\n",
        "        mfcc = mfcc[:, :max_pad_len]\n",
        "\n",
        "    # Add a channel dimension to match the input shape expected by the CNN\n",
        "    mfcc = np.expand_dims(mfcc, axis=-1)\n",
        "    return mfcc\n",
        "\n",
        "# Function to predict genre\n",
        "def predict_genre(file_path):\n",
        "    \"\"\"\n",
        "    Predicts the genre of an audio file using the CNN model.\n",
        "\n",
        "    Parameters:\n",
        "    - file_path: str, path to the audio file.\n",
        "\n",
        "    Returns:\n",
        "    - str, predicted genre label.\n",
        "    \"\"\"\n",
        "    # Preprocess the audio file\n",
        "    mfcc = preprocess_audio(file_path)\n",
        "\n",
        "    # Add batch dimension\n",
        "    mfcc = np.expand_dims(mfcc, axis=0)\n",
        "\n",
        "    # Predict genre\n",
        "    predictions = model.predict(mfcc)\n",
        "\n",
        "    # Get the index of the highest probability\n",
        "    predicted_index = np.argmax(predictions, axis=1)[0]\n",
        "\n",
        "    # Map index to genre label\n",
        "    predicted_genre = genre_labels[predicted_index]\n",
        "\n",
        "    print(f\"Predicted Genre for {file_path}: {predicted_genre}\")\n",
        "    return predicted_genre\n"
      ],
      "metadata": {
        "id": "XefvnI824WOG"
      },
      "execution_count": 56,
      "outputs": []
    },
    {
      "cell_type": "code",
      "source": [
        "# Define the directory containing the audio file (Electronic)\n",
        "extract_dir = '/content/drive/MyDrive/'\n",
        "audio_file_path = os.path.join(extract_dir, 'sample_electronic.mp3')\n",
        "\n",
        "# Run prediction\n",
        "predict_genre(audio_file_path)"
      ],
      "metadata": {
        "colab": {
          "base_uri": "https://localhost:8080/",
          "height": 70
        },
        "id": "5b5INfMg-JYo",
        "outputId": "1a202edf-3fe5-409c-8951-4f77fa35cde5"
      },
      "execution_count": 57,
      "outputs": [
        {
          "output_type": "stream",
          "name": "stdout",
          "text": [
            "\u001b[1m1/1\u001b[0m \u001b[32m━━━━━━━━━━━━━━━━━━━━\u001b[0m\u001b[37m\u001b[0m \u001b[1m0s\u001b[0m 101ms/step\n",
            "Predicted Genre for /content/drive/MyDrive/sample_electronic.mp3: electronic\n"
          ]
        },
        {
          "output_type": "execute_result",
          "data": {
            "text/plain": [
              "'electronic'"
            ],
            "application/vnd.google.colaboratory.intrinsic+json": {
              "type": "string"
            }
          },
          "metadata": {},
          "execution_count": 57
        }
      ]
    },
    {
      "cell_type": "code",
      "source": [
        "# Define the directory containing the audio file (Rap)\n",
        "extract_dir = '/content/drive/MyDrive/'\n",
        "audio_file_path = os.path.join(extract_dir, 'sample_rap.mp3')\n",
        "\n",
        "# Run prediction\n",
        "predict_genre(audio_file_path)"
      ],
      "metadata": {
        "colab": {
          "base_uri": "https://localhost:8080/",
          "height": 70
        },
        "id": "wMu4-m518Z8_",
        "outputId": "44a86183-9b68-4de3-edef-612cf2b3afaf"
      },
      "execution_count": 62,
      "outputs": [
        {
          "output_type": "stream",
          "name": "stdout",
          "text": [
            "\u001b[1m1/1\u001b[0m \u001b[32m━━━━━━━━━━━━━━━━━━━━\u001b[0m\u001b[37m\u001b[0m \u001b[1m0s\u001b[0m 122ms/step\n",
            "Predicted Genre for /content/drive/MyDrive/sample_rap.mp3: country\n"
          ]
        },
        {
          "output_type": "execute_result",
          "data": {
            "text/plain": [
              "'country'"
            ],
            "application/vnd.google.colaboratory.intrinsic+json": {
              "type": "string"
            }
          },
          "metadata": {},
          "execution_count": 62
        }
      ]
    },
    {
      "cell_type": "code",
      "source": [
        "# Define the directory containing the audio file (Rock)\n",
        "extract_dir = '/content/drive/MyDrive/'\n",
        "audio_file_path = os.path.join(extract_dir, 'sample_rock.mp3')\n",
        "\n",
        "# Run prediction\n",
        "predict_genre(audio_file_path)"
      ],
      "metadata": {
        "colab": {
          "base_uri": "https://localhost:8080/",
          "height": 70
        },
        "id": "lcEdAmNX-UwX",
        "outputId": "186ad33c-ae3a-4697-9df9-fdd7a0c8f72a"
      },
      "execution_count": 61,
      "outputs": [
        {
          "output_type": "stream",
          "name": "stdout",
          "text": [
            "\u001b[1m1/1\u001b[0m \u001b[32m━━━━━━━━━━━━━━━━━━━━\u001b[0m\u001b[37m\u001b[0m \u001b[1m0s\u001b[0m 78ms/step\n",
            "Predicted Genre for /content/drive/MyDrive/sample_rock.mp3: electronic\n"
          ]
        },
        {
          "output_type": "execute_result",
          "data": {
            "text/plain": [
              "'electronic'"
            ],
            "application/vnd.google.colaboratory.intrinsic+json": {
              "type": "string"
            }
          },
          "metadata": {},
          "execution_count": 61
        }
      ]
    },
    {
      "cell_type": "code",
      "source": [
        "# Define the directory containing the audio file (Classical)\n",
        "extract_dir = '/content/drive/MyDrive/'\n",
        "audio_file_path = os.path.join(extract_dir, 'sample_classical.mp3')\n",
        "\n",
        "# Run prediction\n",
        "predict_genre(audio_file_path)"
      ],
      "metadata": {
        "colab": {
          "base_uri": "https://localhost:8080/",
          "height": 70
        },
        "id": "iah-3Mxq-k6k",
        "outputId": "96fe891f-4319-42c3-e916-7f513670d168"
      },
      "execution_count": 63,
      "outputs": [
        {
          "output_type": "stream",
          "name": "stdout",
          "text": [
            "\u001b[1m1/1\u001b[0m \u001b[32m━━━━━━━━━━━━━━━━━━━━\u001b[0m\u001b[37m\u001b[0m \u001b[1m0s\u001b[0m 82ms/step\n",
            "Predicted Genre for /content/drive/MyDrive/sample_classical.mp3: electronic\n"
          ]
        },
        {
          "output_type": "execute_result",
          "data": {
            "text/plain": [
              "'electronic'"
            ],
            "application/vnd.google.colaboratory.intrinsic+json": {
              "type": "string"
            }
          },
          "metadata": {},
          "execution_count": 63
        }
      ]
    },
    {
      "cell_type": "code",
      "source": [
        "# Define the directory containing the audio file (Country)\n",
        "extract_dir = '/content/drive/MyDrive/'\n",
        "audio_file_path = os.path.join(extract_dir, 'sample_country.mp3')\n",
        "\n",
        "# Run prediction\n",
        "predict_genre(audio_file_path)"
      ],
      "metadata": {
        "colab": {
          "base_uri": "https://localhost:8080/",
          "height": 70
        },
        "id": "9GYz9fsm-vdW",
        "outputId": "f5d27059-9c0f-462a-e5aa-5f295c77edbc"
      },
      "execution_count": 68,
      "outputs": [
        {
          "output_type": "stream",
          "name": "stdout",
          "text": [
            "\u001b[1m1/1\u001b[0m \u001b[32m━━━━━━━━━━━━━━━━━━━━\u001b[0m\u001b[37m\u001b[0m \u001b[1m0s\u001b[0m 80ms/step\n",
            "Predicted Genre for /content/drive/MyDrive/sample_country.mp3: electronic\n"
          ]
        },
        {
          "output_type": "execute_result",
          "data": {
            "text/plain": [
              "'electronic'"
            ],
            "application/vnd.google.colaboratory.intrinsic+json": {
              "type": "string"
            }
          },
          "metadata": {},
          "execution_count": 68
        }
      ]
    },
    {
      "cell_type": "code",
      "source": [
        "# Define the directory containing the audio file (Jazz)\n",
        "extract_dir = '/content/drive/MyDrive/'\n",
        "audio_file_path = os.path.join(extract_dir, 'sample_jazz.mp3')\n",
        "\n",
        "# Run prediction\n",
        "predict_genre(audio_file_path)"
      ],
      "metadata": {
        "colab": {
          "base_uri": "https://localhost:8080/",
          "height": 70
        },
        "id": "0HSFpju--yl6",
        "outputId": "eb213013-d5c2-469c-e197-76b7d6ed5adc"
      },
      "execution_count": 66,
      "outputs": [
        {
          "output_type": "stream",
          "name": "stdout",
          "text": [
            "\u001b[1m1/1\u001b[0m \u001b[32m━━━━━━━━━━━━━━━━━━━━\u001b[0m\u001b[37m\u001b[0m \u001b[1m0s\u001b[0m 93ms/step\n",
            "Predicted Genre for /content/drive/MyDrive/sample_jazz.mp3: electronic\n"
          ]
        },
        {
          "output_type": "execute_result",
          "data": {
            "text/plain": [
              "'electronic'"
            ],
            "application/vnd.google.colaboratory.intrinsic+json": {
              "type": "string"
            }
          },
          "metadata": {},
          "execution_count": 66
        }
      ]
    },
    {
      "cell_type": "code",
      "source": [
        "# Define the directory containing the audio file (Country Acapella)\n",
        "extract_dir = '/content/drive/MyDrive/'\n",
        "audio_file_path = os.path.join(extract_dir, 'sample_country_acapella.mp3')\n",
        "\n",
        "# Run prediction\n",
        "predict_genre(audio_file_path)"
      ],
      "metadata": {
        "colab": {
          "base_uri": "https://localhost:8080/",
          "height": 70
        },
        "id": "JDWmSVSB_IRj",
        "outputId": "0f64a79c-1062-407b-ec57-07c0c8450221"
      },
      "execution_count": 73,
      "outputs": [
        {
          "output_type": "stream",
          "name": "stdout",
          "text": [
            "\u001b[1m1/1\u001b[0m \u001b[32m━━━━━━━━━━━━━━━━━━━━\u001b[0m\u001b[37m\u001b[0m \u001b[1m0s\u001b[0m 139ms/step\n",
            "Predicted Genre for /content/drive/MyDrive/sample_country_acapella.mp3: electronic\n"
          ]
        },
        {
          "output_type": "execute_result",
          "data": {
            "text/plain": [
              "'electronic'"
            ],
            "application/vnd.google.colaboratory.intrinsic+json": {
              "type": "string"
            }
          },
          "metadata": {},
          "execution_count": 73
        }
      ]
    },
    {
      "cell_type": "code",
      "source": [
        "# Define the directory containing the audio file (Rap2)\n",
        "extract_dir = '/content/drive/MyDrive/'\n",
        "audio_file_path = os.path.join(extract_dir, 'sample_rap2.mp3')\n",
        "\n",
        "# Run prediction\n",
        "predict_genre(audio_file_path)"
      ],
      "metadata": {
        "colab": {
          "base_uri": "https://localhost:8080/",
          "height": 70
        },
        "id": "BSuYY-nW_k4G",
        "outputId": "bd2115cc-faad-4456-f450-eb4b2eebef5b"
      },
      "execution_count": 75,
      "outputs": [
        {
          "output_type": "stream",
          "name": "stdout",
          "text": [
            "\u001b[1m1/1\u001b[0m \u001b[32m━━━━━━━━━━━━━━━━━━━━\u001b[0m\u001b[37m\u001b[0m \u001b[1m0s\u001b[0m 140ms/step\n",
            "Predicted Genre for /content/drive/MyDrive/sample_rap2.mp3: electronic\n"
          ]
        },
        {
          "output_type": "execute_result",
          "data": {
            "text/plain": [
              "'electronic'"
            ],
            "application/vnd.google.colaboratory.intrinsic+json": {
              "type": "string"
            }
          },
          "metadata": {},
          "execution_count": 75
        }
      ]
    },
    {
      "cell_type": "code",
      "source": [
        "# Define the directory containing the audio file (Jazz GTZAN Data)\n",
        "extract_dir = '/content/drive/MyDrive/'\n",
        "audio_file_path = os.path.join(extract_dir, 'sample_jazz_gtzan.wav')\n",
        "\n",
        "# Run prediction\n",
        "predict_genre(audio_file_path)"
      ],
      "metadata": {
        "colab": {
          "base_uri": "https://localhost:8080/",
          "height": 70
        },
        "id": "CfBepCriANw9",
        "outputId": "ae2ae742-9c85-438d-c174-20862f1f1a88"
      },
      "execution_count": 76,
      "outputs": [
        {
          "output_type": "stream",
          "name": "stdout",
          "text": [
            "\u001b[1m1/1\u001b[0m \u001b[32m━━━━━━━━━━━━━━━━━━━━\u001b[0m\u001b[37m\u001b[0m \u001b[1m0s\u001b[0m 113ms/step\n",
            "Predicted Genre for /content/drive/MyDrive/sample_jazz_gtzan.wav: electronic\n"
          ]
        },
        {
          "output_type": "execute_result",
          "data": {
            "text/plain": [
              "'electronic'"
            ],
            "application/vnd.google.colaboratory.intrinsic+json": {
              "type": "string"
            }
          },
          "metadata": {},
          "execution_count": 76
        }
      ]
    },
    {
      "cell_type": "markdown",
      "source": [
        "### Report\n",
        "\n",
        "#### Overview\n",
        "This notebook focuses on building a Convolutional Neural Network (CNN) model to classify music genres based on Mel-frequency cepstral coefficients (MFCC) features. The project was developed using the following key steps:\n",
        "\n",
        "1. **Data Preparation**:\n",
        "   - Filtered the dataset to include only six genres: `rock`, `electronic`, `hiphop`, `classical`, `jazz`, and `country`.\n",
        "   - Processed each audio file’s MFCC feature to ensure consistent length by truncating to 2582 frames and verifying 13 columns in each feature.\n",
        "   - Applied one-hot encoding to labels for compatibility with the CNN model.\n",
        "\n",
        "2. **Model Architecture**:\n",
        "   - The CNN model was designed with multiple convolutional layers, batch normalization, dropout layers to reduce overfitting, and a final dense layer with softmax activation for multi-class classification.\n",
        "   - Model hyperparameters, such as dropout rates and the number of filters, were set to maximize feature extraction while preventing overfitting.\n",
        "\n",
        "3. **Model Training**:\n",
        "   - Used early stopping to halt training if the validation loss did not improve after a set number of epochs, helping avoid overfitting.\n",
        "   - Class weights were applied to address class imbalance, giving more weight to underrepresented genres.\n",
        "\n",
        "#### Results\n",
        "- **Training and Validation Performance**: The model achieved high accuracy on the training and validation sets, suggesting that it successfully learned to distinguish between the specified genres within the dataset.\n",
        "- **Confusion Matrix Analysis**: Post-training evaluation with a confusion matrix showed high prediction accuracy for most genres in the test set. However, some genres, particularly minority classes like `country` and `jazz`, had more misclassifications.\n",
        "\n",
        "#### Pain Points and Limitations\n",
        "1. **Class Imbalance**:\n",
        "   - Despite using class weights, the model still favored majority classes, notably `electronic` and `rock`, over less represented genres such as `country`. This led to over-representation of certain genres in the predictions.\n",
        "\n",
        "2. **Real-World Generalization**:\n",
        "   - When tested on real-world audio files, the model predominantly predicted the genre as `electronic`, indicating poor generalization beyond the training dataset. This limitation suggests that the model may have overfitted on the dataset's specific features rather than learning robust, generalized genre characteristics.\n",
        "\n",
        "3. **Challenges with MFCC Features**:\n",
        "   - MFCC features provide a good representation of short-term spectral information but may miss broader context information crucial for genre classification. This limitation could contribute to the model's over-reliance on certain spectral characteristics that are more prevalent in electronic music.\n",
        "\n",
        "#### Recommendations\n",
        "1. **Data Augmentation**: To improve model generalization, we could increase the diversity of training data by applying audio augmentations (e.g., pitch shifting, time-stretching).\n",
        "2. **Additional Feature Extraction**: Consider incorporating features that capture broader temporal and harmonic information, such as chroma or rhythmic features, to help the model better differentiate genres.\n",
        "3. **Experiment with Alternative Models**: A Recurrent Neural Network (RNN) or attention-based model may capture genre characteristics over time better than CNN, potentially improving real-world predictions.\n",
        "\n",
        "#### Conclusion\n",
        "The current CNN model performs well on the test set but struggles with real-world audio files, often predicting `electronic` as the default genre. This indicates that additional steps are needed to improve generalization, especially for genre diversity and real-world applicability. Moving forward, enhancing the dataset, exploring alternative architectures, and experimenting with additional features are recommended.\n"
      ],
      "metadata": {
        "id": "L95_nUhOGMpC"
      }
    }
  ]
}