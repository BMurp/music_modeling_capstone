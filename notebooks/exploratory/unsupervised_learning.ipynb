{
 "cells": [
  {
   "cell_type": "code",
   "execution_count": null,
   "id": "a3ef8c89",
   "metadata": {},
   "outputs": [],
   "source": [
    "import pandas as pd\n",
    "import altair as alt\n",
    "import numpy as np\n",
    "import matplotlib.pyplot as plt\n",
    "import IPython\n",
    "from IPython.display import Audio\n",
    "import pygame\n",
    "\n",
    "from sklearn.cluster import KMeans\n",
    "from sklearn.preprocessing import StandardScaler\n",
    "from sklearn.decomposition import PCA\n",
    "\n",
    "from sklearn.ensemble import RandomForestClassifier, RandomForestRegressor\n",
    "from sklearn.model_selection import train_test_split, RandomizedSearchCV\n",
    "\n",
    "from imblearn.over_sampling import SMOTE\n",
    "from sklearn.metrics import confusion_matrix, recall_score, classification_report, accuracy_score\n",
    "\n",
    "import sys\n",
    "import os\n",
    "\n",
    "sys.path.insert(0, '../../')\n",
    "\n",
    "from library.notebook_api.data_loader import CombinedDataLoader, ModelDataLoader\n",
    "\n",
    "alt.data_transformers.enable(\"vegafusion\")"
   ]
  },
  {
   "cell_type": "code",
   "execution_count": null,
   "id": "8f733a06",
   "metadata": {},
   "outputs": [],
   "source": [
    "#data_df = pd.read_csv('/Users/tetyananesdill/music_modeling_capstone/notebooks/exploratory/output2.csv')"
   ]
  },
  {
   "cell_type": "code",
   "execution_count": null,
   "id": "6c790c66",
   "metadata": {},
   "outputs": [],
   "source": [
    "full_model_data = ModelDataLoader('003')\n",
    "full_model_data.df.to_csv('output2.csv', index=False)\n",
    "data_df = full_model_data.df"
   ]
  },
  {
   "cell_type": "code",
   "execution_count": null,
   "id": "b77d6126",
   "metadata": {},
   "outputs": [],
   "source": [
    "in_scope_labels = [\n",
    "    'rock', 'electronic', 'hiphop', 'classical', 'jazz', 'country'\n",
    "]\n",
    "data_df = data_df[data_df['label'].isin(in_scope_labels)]"
   ]
  },
  {
   "cell_type": "code",
   "execution_count": null,
   "id": "25410812",
   "metadata": {},
   "outputs": [],
   "source": [
    "feature_df = data_df[[\n",
    "    'spectral_centroids_mean', 'spectral_centroids_delta_mean',\n",
    "    'spectral_centroids_accelerate_mean', 'spectral_bandwidth_mean',\n",
    "    'spectral_rolloff_mean', 'zero_crossing_rate_mean', 'rms_mean',\n",
    "    'chroma_stft_mean', 'mfccs_mean', 'tempo', 'onset', 'contrast', 'tonnetz',\n",
    "    'mfccs_min', 'mfccs_max'\n",
    "]]\n",
    "\n",
    "label = data_df['label']\n",
    "\n",
    "feature_df.head(1)"
   ]
  },
  {
   "cell_type": "markdown",
   "id": "023c8737",
   "metadata": {},
   "source": [
    "## PCA"
   ]
  },
  {
   "cell_type": "code",
   "execution_count": null,
   "id": "f0c9f430",
   "metadata": {},
   "outputs": [],
   "source": [
    "x = StandardScaler().fit_transform(feature_df)\n",
    "pca = PCA(n_components=3)\n",
    "pca_comp = pca.fit_transform(x)"
   ]
  },
  {
   "cell_type": "code",
   "execution_count": null,
   "id": "d57549ee",
   "metadata": {},
   "outputs": [],
   "source": [
    "pca_df = pd.DataFrame(data=pca_comp,\n",
    "                      columns=[\n",
    "                          'principal component 1', 'principal component 2',\n",
    "                          'principal component 3'\n",
    "                      ])"
   ]
  },
  {
   "cell_type": "code",
   "execution_count": null,
   "id": "b9fb4b2b",
   "metadata": {},
   "outputs": [],
   "source": [
    "pca_df\n"
   ]
  },
  {
   "cell_type": "code",
   "execution_count": null,
   "id": "2d7adb70",
   "metadata": {},
   "outputs": [],
   "source": [
    "pca_df_2 = pd.concat([pca_df, label],axis=1)\n"
   ]
  },
  {
   "cell_type": "code",
   "execution_count": null,
   "id": "5b1b023f",
   "metadata": {},
   "outputs": [],
   "source": [
    "pca.explained_variance_ratio_\n"
   ]
  },
  {
   "cell_type": "code",
   "execution_count": null,
   "id": "13ad3bd5",
   "metadata": {},
   "outputs": [],
   "source": [
    "pca = PCA().fit(x)\n",
    "\n",
    "explained_var = pd.DataFrame(data=pca.explained_variance_ratio_,\n",
    "                             columns=['PCs'])\n",
    "explained_var['count cumsum'] = explained_var['PCs'].cumsum()\n",
    "explained_var['cum_%'] = explained_var['count cumsum'] / (\n",
    "    explained_var['PCs'].sum())\n",
    "explained_var.reset_index(inplace=True)\n",
    "explained_var"
   ]
  },
  {
   "cell_type": "code",
   "execution_count": null,
   "id": "c5c1bdbc",
   "metadata": {},
   "outputs": [],
   "source": [
    "alt.Chart(explained_var).mark_bar().encode(\n",
    "    x=alt.X('index:N', title=None, sort='-y'),\n",
    "    y=alt.Y('PCs:Q', title=None),\n",
    "    color=alt.Color('PCs:Q',\n",
    "                    legend=None)).properties(title='Principal Components',\n",
    "                                             width=400)\n",
    "\n",
    "base = alt.Chart(explained_var).encode(\n",
    "    x=alt.X('index:N', title=None, sort='-y'))\n",
    "\n",
    "bar_chart = base.mark_bar(color='#ADD8E6').encode(\n",
    "    y=alt.Y('PCs:Q', title=None)).properties(width=600)\n",
    "\n",
    "line = base.mark_line(strokeWidth=3, color='#cb4154').encode(\n",
    "    y=alt.Y('cum_%', title=None, axis=alt.Axis(format=\".0%\")),\n",
    "    text=alt.Text('PCs:Q'))\n",
    "\n",
    "text = base.mark_text(strokeWidth=3,\n",
    "                      color='#cb4154',\n",
    "                      align='left',\n",
    "                      baseline='middle',\n",
    "                      dx=-10,\n",
    "                      dy=-10).encode(y=alt.Y('cum_%:Q', axis=None),\n",
    "                                     text=alt.Text('cum_%:Q', format=\"0.0%\"))\n",
    "\n",
    "(bar_chart + line +\n",
    " text).resolve_scale(y='independent').properties(title='Principal Components')"
   ]
  },
  {
   "cell_type": "markdown",
   "id": "5a4bed69",
   "metadata": {},
   "source": [
    "## K-Means"
   ]
  },
  {
   "cell_type": "code",
   "execution_count": null,
   "id": "baef15d0",
   "metadata": {},
   "outputs": [],
   "source": [
    "clusters = []\n",
    "\n",
    "for i in range(1, 11):\n",
    "    kmeans = KMeans(n_clusters=i)\n",
    "    kmeans.fit(x)\n",
    "    clusters.append(kmeans.inertia_)\n",
    "\n",
    "clusters"
   ]
  },
  {
   "cell_type": "code",
   "execution_count": null,
   "id": "d57ef2a0",
   "metadata": {},
   "outputs": [],
   "source": [
    "plt.plot(range(1, 11), clusters, marker='o')\n",
    "plt.title('Elbow method')\n",
    "plt.xlabel('Number of clusters')\n",
    "plt.ylabel('Inertia')\n",
    "plt.show()"
   ]
  },
  {
   "cell_type": "code",
   "execution_count": null,
   "id": "94fcbf65",
   "metadata": {},
   "outputs": [],
   "source": [
    "kmeans = KMeans(n_clusters=3)\n",
    "pred_cl = kmeans.fit_predict(feature_df)"
   ]
  },
  {
   "cell_type": "code",
   "execution_count": null,
   "id": "75ac2931",
   "metadata": {},
   "outputs": [],
   "source": [
    "pred_cl = pd.DataFrame(pred_cl)\n",
    "label = pd.DataFrame(label).reset_index()\n",
    "pred_cl.columns = ['cluster']"
   ]
  },
  {
   "cell_type": "code",
   "execution_count": null,
   "id": "83b8ce8b",
   "metadata": {},
   "outputs": [],
   "source": [
    "clust_label = pd.concat([pred_cl, label],axis=1)\n",
    "clust_label.columns = ['cluster' , 'index', 'label']"
   ]
  },
  {
   "cell_type": "code",
   "execution_count": null,
   "id": "b2e98fc8",
   "metadata": {},
   "outputs": [],
   "source": [
    "#clust_label = clust_label[['cluster', 'label']]\n",
    "clust_label"
   ]
  },
  {
   "cell_type": "code",
   "execution_count": null,
   "id": "93adeaa9",
   "metadata": {},
   "outputs": [],
   "source": [
    "groups = pd.DataFrame(clust_label.groupby(by=['cluster', 'label']).count())\n",
    "\n",
    "groups.reset_index()"
   ]
  },
  {
   "cell_type": "code",
   "execution_count": null,
   "id": "abdf30f9",
   "metadata": {},
   "outputs": [],
   "source": [
    "alt.Chart(groups).mark_bar().encode(\n",
    "    x=alt.X('index', title=None),\n",
    "    y=alt.Y('label:N', title=None, sort='-x'),\n",
    "    column=alt.Column('cluster:N', title=None)).properties(width=200)"
   ]
  },
  {
   "cell_type": "code",
   "execution_count": null,
   "id": "fffe25dd",
   "metadata": {},
   "outputs": [],
   "source": [
    "df_scaled = pd.DataFrame(StandardScaler().fit_transform(feature_df),\n",
    "                         columns=feature_df.columns)"
   ]
  },
  {
   "cell_type": "code",
   "execution_count": null,
   "id": "c5d02823",
   "metadata": {},
   "outputs": [],
   "source": [
    "df_scaled.reset_index(inplace=True)\n",
    "features_cl = pd.concat([pred_cl, df_scaled], axis=1)"
   ]
  },
  {
   "cell_type": "code",
   "execution_count": null,
   "id": "47c202de",
   "metadata": {},
   "outputs": [],
   "source": [
    "features_cl = pd.melt(features_cl,\n",
    "                      id_vars=['index', 'cluster'],\n",
    "                      var_name='features',\n",
    "                      value_name='values')\n",
    "features_cl.columns = ['index', 'cluster', 'features', 'values']\n",
    "features_cl"
   ]
  },
  {
   "cell_type": "code",
   "execution_count": null,
   "id": "0a45f865",
   "metadata": {},
   "outputs": [],
   "source": [
    "alt.Chart(features_cl).mark_bar().encode(\n",
    "    x=alt.X('values', title=None),\n",
    "    y=alt.Y('features:N', title=None, sort='-x'),\n",
    "    column=alt.Column('cluster:N', title=None)).properties(width=200)"
   ]
  },
  {
   "cell_type": "code",
   "execution_count": null,
   "id": "b72b87c3",
   "metadata": {},
   "outputs": [],
   "source": [
    "#data_df.reset_index(inplace=True)\n",
    "data_df_2 = pd.concat([pred_cl, data_df], axis=1)\n",
    "data_df_2.to_csv('clusters.csv', index=False)"
   ]
  },
  {
   "cell_type": "code",
   "execution_count": null,
   "id": "02a88efa",
   "metadata": {},
   "outputs": [],
   "source": [
    "data_df_2"
   ]
  },
  {
   "cell_type": "code",
   "execution_count": null,
   "id": "1946bce5",
   "metadata": {},
   "outputs": [],
   "source": []
  }
 ],
 "metadata": {
  "kernelspec": {
   "display_name": "Python 3 (ipykernel)",
   "language": "python",
   "name": "python3"
  },
  "language_info": {
   "codemirror_mode": {
    "name": "ipython",
    "version": 3
   },
   "file_extension": ".py",
   "mimetype": "text/x-python",
   "name": "python",
   "nbconvert_exporter": "python",
   "pygments_lexer": "ipython3",
   "version": "3.11.4"
  },
  "varInspector": {
   "cols": {
    "lenName": 16,
    "lenType": 16,
    "lenVar": 40
   },
   "kernels_config": {
    "python": {
     "delete_cmd_postfix": "",
     "delete_cmd_prefix": "del ",
     "library": "var_list.py",
     "varRefreshCmd": "print(var_dic_list())"
    },
    "r": {
     "delete_cmd_postfix": ") ",
     "delete_cmd_prefix": "rm(",
     "library": "var_list.r",
     "varRefreshCmd": "cat(var_dic_list()) "
    }
   },
   "types_to_exclude": [
    "module",
    "function",
    "builtin_function_or_method",
    "instance",
    "_Feature"
   ],
   "window_display": false
  }
 },
 "nbformat": 4,
 "nbformat_minor": 5
}
