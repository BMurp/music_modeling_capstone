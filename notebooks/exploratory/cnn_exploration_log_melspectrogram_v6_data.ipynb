{
 "cells": [
  {
   "cell_type": "markdown",
   "metadata": {},
   "source": [
    "## Keras CNN Exploration (With Log Melspectrogram)"
   ]
  },
  {
   "cell_type": "markdown",
   "metadata": {},
   "source": [
    "### Load Libraries"
   ]
  },
  {
   "cell_type": "code",
   "execution_count": 39,
   "metadata": {},
   "outputs": [],
   "source": [
    "import sys\n",
    "import os\n",
    "import numpy as np\n",
    "import pandas as pd\n",
    "from tensorflow import keras\n",
    "import tensorflow as tf\n",
    "from sklearn.model_selection import train_test_split\n",
    "from sklearn.metrics import classification_report\n",
    "from imblearn.over_sampling import SMOTE\n",
    "import matplotlib.pyplot as plt\n",
    "import seaborn as sns\n",
    "from tqdm import tqdm \n",
    "import warnings \n",
    "warnings.filterwarnings('ignore', category=UserWarning)\n",
    "sys.path.insert(0, '../../')\n",
    "from library.notebook_api.data_loader import  ModelDataLoader,CombinedDataLoader\n",
    "from library.notebook_api.model_loader import ModelScenario"
   ]
  },
  {
   "cell_type": "markdown",
   "metadata": {},
   "source": [
    "### Load Data\n",
    "load data from data loader and inspect the shape of the features which appears to be variable"
   ]
  },
  {
   "cell_type": "code",
   "execution_count": 2,
   "metadata": {},
   "outputs": [
    {
     "name": "stdout",
     "output_type": "stream",
     "text": [
      "features shape distribution\n",
      "1099    3126\n",
      "1         22\n",
      "432        1\n",
      "437        1\n",
      "353        1\n",
      "392        1\n",
      "Name: count, dtype: int64\n",
      "total records:  3152\n"
     ]
    }
   ],
   "source": [
    "model_data_loader = ModelDataLoader('006')\n",
    "model_data_loader_df = model_data_loader.df\n",
    "features = model_data_loader.get_log_melspectrogram()\n",
    "labels_series = model_data_loader.df['label']\n",
    "#array of feature shapes\n",
    "feature_shapes = [feature.shape[1] for feature in features]\n",
    "print(\"features shape distribution\")\n",
    "print(pd.Series(feature_shapes).value_counts())\n",
    "print(\"total records: \", len(features))"
   ]
  },
  {
   "cell_type": "code",
   "execution_count": 6,
   "metadata": {},
   "outputs": [
    {
     "data": {
      "text/plain": [
       "(128, 1099)"
      ]
     },
     "execution_count": 6,
     "metadata": {},
     "output_type": "execute_result"
    }
   ],
   "source": [
    "features[0].shape"
   ]
  },
  {
   "cell_type": "code",
   "execution_count": 7,
   "metadata": {},
   "outputs": [
    {
     "data": {
      "text/plain": [
       "(3152, 3152)"
      ]
     },
     "execution_count": 7,
     "metadata": {},
     "output_type": "execute_result"
    }
   ],
   "source": [
    "#verify matching length\n",
    "len(labels_series) , len(features)"
   ]
  },
  {
   "cell_type": "markdown",
   "metadata": {},
   "source": [
    "### Define Filter Based on features"
   ]
  },
  {
   "cell_type": "code",
   "execution_count": 8,
   "metadata": {},
   "outputs": [
    {
     "name": "stdout",
     "output_type": "stream",
     "text": [
      "normalized length:  3126\n"
     ]
    }
   ],
   "source": [
    "# currently filtered to just the most common shapes, as we'll need to normalize shapes prior to training \n",
    "MFCC_LENGTH_CUTOFF = 1099\n",
    "#array of indexes matching a predicate \n",
    "in_scope_feature_indexes = np.where(np.array(feature_shapes) == MFCC_LENGTH_CUTOFF)[0]\n",
    "print(\"normalized length: \",len(in_scope_feature_indexes))"
   ]
  },
  {
   "cell_type": "markdown",
   "metadata": {},
   "source": [
    "### Encode Labels\n",
    "assign a numerical index to each string label, then one hot encode the label dataset "
   ]
  },
  {
   "cell_type": "code",
   "execution_count": 11,
   "metadata": {},
   "outputs": [
    {
     "data": {
      "text/plain": [
       "label\n",
       "rock          594\n",
       "electronic    591\n",
       "hiphop        586\n",
       "classical     557\n",
       "jazz          530\n",
       "country       294\n",
       "Name: count, dtype: int64"
      ]
     },
     "execution_count": 11,
     "metadata": {},
     "output_type": "execute_result"
    }
   ],
   "source": [
    "labels_series.value_counts()"
   ]
  },
  {
   "cell_type": "code",
   "execution_count": 9,
   "metadata": {},
   "outputs": [
    {
     "name": "stdout",
     "output_type": "stream",
     "text": [
      "Row Count after label based filter:  3152\n",
      "Final Row count after label and feature filter:  3126\n"
     ]
    }
   ],
   "source": [
    "#pick subset of labels that are more intuitively representative of genre \n",
    "#genres like pop which are ambiguous are removed \n",
    "in_scope_labels = ['rock', 'electronic', 'hiphop', 'classical', 'jazz','country']\n",
    "#optain the indexes of label series wher the label is in the list \n",
    "in_scope_label_indexes = np.array(\n",
    "    (labels_series[\n",
    "                    labels_series\n",
    "                        .apply(lambda x: True if x in  in_scope_labels else False)\n",
    "                ]\n",
    "                        .index\n",
    "    )\n",
    ")\n",
    "gtzan_indexes = np.array(\n",
    "    (model_data_loader_df[\n",
    "                    model_data_loader_df['dataset']\n",
    "                        .apply(lambda x: True if x == 'gtzan' else False)\n",
    "                ]\n",
    "                        .index\n",
    "    )\n",
    ")\n",
    "\n",
    "#combine filter for the in scope labels with the same for in scope features \n",
    "in_scope_indexes = [index for index in in_scope_label_indexes if index in in_scope_feature_indexes]\n",
    "\n",
    "print(\"Row Count after label based filter: \", len(in_scope_label_indexes))\n",
    "print(\"Final Row count after label and feature filter: \", len(in_scope_indexes))"
   ]
  },
  {
   "cell_type": "code",
   "execution_count": 10,
   "metadata": {},
   "outputs": [
    {
     "name": "stdout",
     "output_type": "stream",
     "text": [
      "Unique label count:  6\n",
      "label data count  3126\n"
     ]
    }
   ],
   "source": [
    "in_scope_label_series = labels_series.iloc[in_scope_indexes]\n",
    "unique_label_names = in_scope_label_series.unique()\n",
    "unique_label_count = len(in_scope_label_series.unique())\n",
    "label_to_int_map = {}\n",
    "for index, label in enumerate(unique_label_names):\n",
    "    label_to_int_map[label] = index  \n",
    "\n",
    "\n",
    "int_to_label_map = {v: k for k, v in label_to_int_map.items()}\n",
    "\n",
    "#numerical_labels = labels_series.map(label_to_int_map)\n",
    "numerical_labels = in_scope_label_series.map(label_to_int_map)\n",
    "\n",
    "encoded_labels = tf.one_hot(indices = numerical_labels.values, depth = len(unique_label_names))\n",
    "\n",
    "#put to list and reshape again \n",
    "#not needed in current implementation\n",
    "#encoded_labels_array = [label.reshape((unique_label_count,1)) for label in encoded_labels.numpy()]\n",
    "print(\"Unique label count: \", unique_label_count)\n",
    "print(\"label data count \" , len(encoded_labels))"
   ]
  },
  {
   "cell_type": "code",
   "execution_count": 11,
   "metadata": {},
   "outputs": [
    {
     "data": {
      "text/plain": [
       "label\n",
       "rock          590\n",
       "hiphop        583\n",
       "electronic    581\n",
       "classical     548\n",
       "jazz          530\n",
       "country       294\n",
       "Name: count, dtype: int64"
      ]
     },
     "execution_count": 11,
     "metadata": {},
     "output_type": "execute_result"
    }
   ],
   "source": [
    "in_scope_label_series.value_counts()"
   ]
  },
  {
   "cell_type": "markdown",
   "metadata": {},
   "source": [
    "### filter, truncate, reshape features\n",
    "iterate through the filtered features and build a vector representation appropriate for the CNN input"
   ]
  },
  {
   "cell_type": "code",
   "execution_count": 29,
   "metadata": {},
   "outputs": [],
   "source": [
    "#truncate to consistent length while reshaping \n",
    "FRACTION = 1\n",
    "\n",
    "reshaped_features = []\n",
    "feature_array = []\n",
    "for feature in features[in_scope_indexes]:\n",
    "    mfcc = [] \n",
    "    for vector in feature: \n",
    "        mfcc.append(vector[0:int(MFCC_LENGTH_CUTOFF/FRACTION)])\n",
    "        mfcc_reshaped = np.array(mfcc)\n",
    "    feature_array.append(mfcc_reshaped)\n",
    "    reshaped_features.append(mfcc_reshaped.reshape((int(MFCC_LENGTH_CUTOFF/FRACTION),128,1)))"
   ]
  },
  {
   "cell_type": "markdown",
   "metadata": {},
   "source": [
    "### Train Test Split"
   ]
  },
  {
   "cell_type": "code",
   "execution_count": 211,
   "metadata": {},
   "outputs": [],
   "source": [
    "#smote implementation\n",
    "def get_train_test_data_with_smote(feature_array, numerical_labels, test_size, unique_label_names):\n",
    "    #instantiate initial split\n",
    "    X_train_, X_test_, y_train_, y_test_ = train_test_split(np.array(feature_array), np.array(numerical_labels), test_size=test_size, random_state=42, stratify =np.array(numerical_labels) )\n",
    "    smote = SMOTE(random_state=42)\n",
    "    \n",
    "    X_train_balance_index, y_train_balanced = smote.fit_resample(np.array(list(range(0,len(X_train_)))).reshape(-1, 1), y_train_)\n",
    "    #apply smote to the training data\n",
    "    X_train = X_train_[np.array(X_train_balance_index.reshape(X_train_balance_index.shape[0]))]\n",
    "    #rshape\n",
    "    X_train =X_train.reshape((len(X_train),MFCC_LENGTH_CUTOFF,13,1))\n",
    "\n",
    "    #encoded training data post smote  post smote\n",
    "    y_train = np.array(tf.one_hot(indices = y_train_balanced, depth = len(unique_label_names)))\n",
    "\n",
    "    #to adjust shapes for smote \n",
    "    #this should be test \n",
    "    X_test = X_test_.reshape(X_test_.shape[0], X_test_.shape[2],X_test_.shape[1],1)\n",
    "\n",
    "    y_test = np.array(tf.one_hot(indices = y_test_, depth = len(unique_label_names)))\n",
    "    return X_train, X_test, y_train, y_test\n",
    "  "
   ]
  },
  {
   "cell_type": "code",
   "execution_count": 30,
   "metadata": {},
   "outputs": [],
   "source": [
    "#generate train and test with stratification for equal label distribution across train and test \n",
    "TEST_SIZE = .2\n",
    "\n",
    "X_train, X_test, y_train, y_test = train_test_split(np.array(reshaped_features), encoded_labels.numpy(), test_size=TEST_SIZE, random_state=42, stratify =encoded_labels.numpy() )\n",
    " \n",
    "#X_train, X_test, y_train, y_test = get_train_test_data_with_smote(feature_array, numerical_labels, TEST_SIZE,  unique_label_names)\n",
    "\n"
   ]
  },
  {
   "cell_type": "code",
   "execution_count": 31,
   "metadata": {},
   "outputs": [
    {
     "data": {
      "text/plain": [
       "((2500, 1099, 128, 1), (2500, 6))"
      ]
     },
     "execution_count": 31,
     "metadata": {},
     "output_type": "execute_result"
    }
   ],
   "source": [
    "#original split\n",
    "X_train.shape, y_train.shape"
   ]
  },
  {
   "cell_type": "markdown",
   "metadata": {},
   "source": [
    "### Define CNN model"
   ]
  },
  {
   "cell_type": "code",
   "execution_count": 32,
   "metadata": {},
   "outputs": [],
   "source": [
    "model = keras.Sequential(layers=[\n",
    "    #https://www.youtube.com/watch?v=dOG-HxpbMSw\n",
    "    #convulution 1\n",
    "    keras.layers.Conv2D(32, (3,3), activation=keras.activations.relu),\n",
    "    keras.layers.MaxPooling2D((3,3), strides=(2,2), padding='same'),\n",
    "    keras.layers.BatchNormalization(),\n",
    "    #convolution 2\n",
    "    keras.layers.Conv2D(32, (3,3), activation=keras.activations.relu),\n",
    "    keras.layers.MaxPooling2D((3,3), strides=(2,2), padding='same'),\n",
    "    keras.layers.BatchNormalization(),\n",
    "    #convolution 3\n",
    "    keras.layers.Conv2D(32, (2,2), activation=keras.activations.relu),\n",
    "    keras.layers.MaxPooling2D((2,2), strides=(2,2), padding='same'),\n",
    "    keras.layers.BatchNormalization(),\n",
    "    #flatten and feed into dense layer with dropiut\n",
    "    keras.layers.Flatten(),\n",
    "    keras.layers.Dense(64, activation=keras.activations.relu),\n",
    "    keras.layers.Dropout(0.3),\n",
    "    #predictions\n",
    "    keras.layers.Dense(unique_label_count, activation=keras.activations.softmax)\n",
    "        \n",
    "    ])\n",
    "cce = keras.losses.categorical_crossentropy\n",
    "\n",
    "opt = keras.optimizers.Adam(learning_rate=0.0001)\n",
    "model.compile(optimizer=opt, loss=cce, metrics=['accuracy'])"
   ]
  },
  {
   "cell_type": "code",
   "execution_count": null,
   "metadata": {},
   "outputs": [],
   "source": []
  },
  {
   "cell_type": "code",
   "execution_count": 26,
   "metadata": {},
   "outputs": [
    {
     "name": "stdout",
     "output_type": "stream",
     "text": [
      "Model: \"sequential\"\n",
      "_________________________________________________________________\n",
      " Layer (type)                Output Shape              Param #   \n",
      "=================================================================\n",
      " conv2d (Conv2D)             (None, 217, 126, 32)      320       \n",
      "                                                                 \n",
      " max_pooling2d (MaxPooling2  (None, 109, 63, 32)       0         \n",
      " D)                                                              \n",
      "                                                                 \n",
      " batch_normalization (Batch  (None, 109, 63, 32)       128       \n",
      " Normalization)                                                  \n",
      "                                                                 \n",
      " conv2d_1 (Conv2D)           (None, 107, 61, 32)       9248      \n",
      "                                                                 \n",
      " max_pooling2d_1 (MaxPoolin  (None, 54, 31, 32)        0         \n",
      " g2D)                                                            \n",
      "                                                                 \n",
      " batch_normalization_1 (Bat  (None, 54, 31, 32)        128       \n",
      " chNormalization)                                                \n",
      "                                                                 \n",
      " conv2d_2 (Conv2D)           (None, 53, 30, 32)        4128      \n",
      "                                                                 \n",
      " max_pooling2d_2 (MaxPoolin  (None, 27, 15, 32)        0         \n",
      " g2D)                                                            \n",
      "                                                                 \n",
      " batch_normalization_2 (Bat  (None, 27, 15, 32)        128       \n",
      " chNormalization)                                                \n",
      "                                                                 \n",
      " flatten (Flatten)           (None, 12960)             0         \n",
      "                                                                 \n",
      " dense (Dense)               (None, 64)                829504    \n",
      "                                                                 \n",
      " dropout (Dropout)           (None, 64)                0         \n",
      "                                                                 \n",
      " dense_1 (Dense)             (None, 6)                 390       \n",
      "                                                                 \n",
      "=================================================================\n",
      "Total params: 843974 (3.22 MB)\n",
      "Trainable params: 843782 (3.22 MB)\n",
      "Non-trainable params: 192 (768.00 Byte)\n",
      "_________________________________________________________________\n"
     ]
    }
   ],
   "source": [
    "#note this currently only works after training\n",
    "#To do figure out how to build model prior to training to inspect it's architectuer\n",
    "model.summary()"
   ]
  },
  {
   "cell_type": "markdown",
   "metadata": {},
   "source": [
    "### Train Model"
   ]
  },
  {
   "cell_type": "code",
   "execution_count": null,
   "metadata": {},
   "outputs": [],
   "source": [
    "#configuration\n",
    "#BATCH_SIZE = 128\n",
    "BATCH_SIZE = 64\n",
    "#BATCH_SIZE = 32\n",
    "EPOCHS = 50\n",
    "#EPOCHS = 2\n",
    "#EPOCHS = 2\n",
    "\n",
    "#run 128 batch with .63 accuracy\n",
    "#64 with 66 percent accuracy"
   ]
  },
  {
   "cell_type": "markdown",
   "metadata": {},
   "source": [
    "consider stratified k-fold: https://www.kaggle.com/code/chayannaskar26/stratified-k-fold-cnn\n",
    "Or smote for imbalance"
   ]
  },
  {
   "cell_type": "code",
   "execution_count": 37,
   "metadata": {},
   "outputs": [
    {
     "name": "stdout",
     "output_type": "stream",
     "text": [
      "Epoch 1/50\n",
      "32/32 [==============================] - 243s 8s/step - loss: 0.1221 - accuracy: 0.9675 - val_loss: 1.0090 - val_accuracy: 0.6460\n",
      "Epoch 2/50\n",
      "32/32 [==============================] - 222s 7s/step - loss: 0.1045 - accuracy: 0.9760 - val_loss: 1.0611 - val_accuracy: 0.6280\n",
      "Epoch 3/50\n",
      "32/32 [==============================] - 214s 7s/step - loss: 0.0878 - accuracy: 0.9790 - val_loss: 1.0708 - val_accuracy: 0.6280\n",
      "Epoch 4/50\n",
      "32/32 [==============================] - 196s 6s/step - loss: 0.0794 - accuracy: 0.9765 - val_loss: 1.2447 - val_accuracy: 0.6400\n",
      "Epoch 5/50\n",
      "32/32 [==============================] - 192s 6s/step - loss: 0.0635 - accuracy: 0.9825 - val_loss: 1.1618 - val_accuracy: 0.6320\n"
     ]
    },
    {
     "data": {
      "image/png": "[encoded data removed]",
      "text/plain": [
       "<Figure size 1200x800 with 2 Axes>"
      ]
     },
     "metadata": {},
     "output_type": "display_data"
    }
   ],
   "source": [
    "# Train the model\n",
    "#following reference: https://www.kaggle.com/code/nilshmeier/melspectrogram-based-cnn-classification/notebook\n",
    "early_stopping = keras.callbacks.EarlyStopping(\n",
    "    monitor='val_loss', \n",
    "    #monitor='val_accuracy',\n",
    "    min_delta = 0,\n",
    "    patience=4, \n",
    "    mode='auto',\n",
    "    restore_best_weights=True\n",
    "    )\n",
    "history = model.fit(x=X_train, y=y_train, validation_split=TEST_SIZE, epochs=EPOCHS, batch_size=BATCH_SIZE, callbacks=[early_stopping])\n",
    "\n",
    "# Plot the training history\n",
    "fig, axs = plt.subplots(2)\n",
    "fig.set_size_inches(12, 8)\n",
    "fig.suptitle('Training History', fontsize=16)\n",
    "axs[0].plot(history.epoch, history.history['loss'], history.history['val_loss'])\n",
    "axs[0].set(title='Loss', xlabel='Epoch', ylabel='Loss')\n",
    "axs[0].legend(['loss', 'val_loss'])\n",
    "axs[1].plot(history.epoch, history.history['accuracy'], history.history['val_accuracy'])\n",
    "axs[1].set(title='Accuracy', xlabel='Epoch', ylabel='Accuracy')\n",
    "axs[1].legend(['accuracy', 'val_accuracy'])\n",
    "plt.show()"
   ]
  },
  {
   "cell_type": "code",
   "execution_count": 40,
   "metadata": {},
   "outputs": [
    {
     "name": "stdout",
     "output_type": "stream",
     "text": [
      "20/20 [==============================] - 12s 573ms/step\n"
     ]
    },
    {
     "data": {
      "image/png": "[encoded data removed]",
      "text/plain": [
       "<Figure size 1200x800 with 2 Axes>"
      ]
     },
     "metadata": {},
     "output_type": "display_data"
    }
   ],
   "source": [
    "#validation \n",
    "y_predicted = np.argmax(model.predict(x=X_test), axis=1)\n",
    "y_true = np.argmax(y_test, axis=1)\n",
    "#remap the ints to string names \n",
    "label_names = [int_to_label_map[int_label] for int_label in np.unique(numerical_labels)]\n",
    "confusion_matrix = tf.math.confusion_matrix(labels=y_true, predictions=y_predicted)\n",
    "fig = plt.figure()\n",
    "fig.set_size_inches(12, 8)\n",
    "sns.heatmap(confusion_matrix, xticklabels=label_names, yticklabels=label_names, annot=True, fmt='g')\n",
    "plt.xlabel('Prediction')\n",
    "plt.ylabel('Actual')\n",
    "plt.show()"
   ]
  },
  {
   "cell_type": "code",
   "execution_count": 41,
   "metadata": {},
   "outputs": [
    {
     "name": "stdout",
     "output_type": "stream",
     "text": [
      "\n",
      "Classification Report:\n",
      "              precision    recall  f1-score   support\n",
      "\n",
      "        rock       0.71      0.75      0.73       118\n",
      "  electronic       0.54      0.55      0.54       116\n",
      "      hiphop       0.70      0.53      0.60       117\n",
      "   classical       0.76      0.89      0.82       110\n",
      "        jazz       0.56      0.56      0.56       106\n",
      "     country       0.66      0.66      0.66        59\n",
      "\n",
      "    accuracy                           0.66       626\n",
      "   macro avg       0.66      0.66      0.65       626\n",
      "weighted avg       0.66      0.66      0.65       626\n",
      "\n"
     ]
    }
   ],
   "source": [
    "# Classification report\n",
    "print(\"\\nClassification Report:\")\n",
    "print(classification_report(y_true, y_predicted, target_names=label_names))"
   ]
  },
  {
   "cell_type": "code",
   "execution_count": null,
   "metadata": {},
   "outputs": [],
   "source": []
  }
 ],
 "metadata": {
  "kernelspec": {
   "display_name": ".venv",
   "language": "python",
   "name": "python3"
  },
  "language_info": {
   "codemirror_mode": {
    "name": "ipython",
    "version": 3
   },
   "file_extension": ".py",
   "mimetype": "text/x-python",
   "name": "python",
   "nbconvert_exporter": "python",
   "pygments_lexer": "ipython3",
   "version": "3.10.15"
  }
 },
 "nbformat": 4,
 "nbformat_minor": 2
}
