{
 "cells": [
  {
   "cell_type": "markdown",
   "metadata": {},
   "source": [
    "# Test of Keras_tuner\n",
    "https://keras.io/keras_tuner/"
   ]
  },
  {
   "cell_type": "markdown",
   "metadata": {},
   "source": [
    "## Library Import"
   ]
  },
  {
   "cell_type": "code",
   "execution_count": 1,
   "metadata": {},
   "outputs": [
    {
     "name": "stderr",
     "output_type": "stream",
     "text": [
      "2024-12-07 20:08:13.985497: I tensorflow/core/platform/cpu_feature_guard.cc:182] This TensorFlow binary is optimized to use available CPU instructions in performance-critical operations.\n",
      "To enable the following instructions: AVX2 AVX512F AVX512_VNNI FMA, in other operations, rebuild TensorFlow with the appropriate compiler flags.\n"
     ]
    }
   ],
   "source": [
    "import keras_tuner\n",
    "import tensorflow as tf\n",
    "from tensorflow import keras\n",
    "import sys\n",
    "sys.path.insert(0, '../../')\n",
    "from library.notebook_api.data_loader import  ModelDataLoader"
   ]
  },
  {
   "cell_type": "markdown",
   "metadata": {},
   "source": [
    "## Demo in Docs"
   ]
  },
  {
   "cell_type": "code",
   "execution_count": 2,
   "metadata": {},
   "outputs": [],
   "source": [
    "def build_model(hp):\n",
    "  model = K.Sequential()\n",
    "  model.add(K.layers.Dense(\n",
    "      hp.Choice('units', [8, 16, 32]),\n",
    "      activation='relu'))\n",
    "  model.add(K.layers.Dense(1, activation='relu'))\n",
    "  model.compile(loss='mse')\n",
    "  return model"
   ]
  },
  {
   "cell_type": "code",
   "execution_count": 3,
   "metadata": {},
   "outputs": [
    {
     "name": "stdout",
     "output_type": "stream",
     "text": [
      "Reloading Tuner from ./untitled_project/tuner0.json\n"
     ]
    }
   ],
   "source": [
    "tuner = keras_tuner.RandomSearch(\n",
    "    build_model,\n",
    "    objective='val_loss',\n",
    "    max_trials=5)"
   ]
  },
  {
   "cell_type": "markdown",
   "metadata": {},
   "source": [
    "## Demo using cnn+ lstm\n",
    "Based on last scenario in CNN_LSTM_MFCC_Classification , define a function for test train data and function for model "
   ]
  },
  {
   "cell_type": "code",
   "execution_count": 2,
   "metadata": {},
   "outputs": [],
   "source": [
    "from sklearn.model_selection import train_test_split\n",
    "import numpy as np\n",
    "import pandas as pd\n",
    "from imblearn.over_sampling import SMOTE\n",
    "from sklearn.preprocessing import LabelEncoder\n",
    "\n",
    "#data functions\n",
    "def get_numerical_vector_smote_v005_data():\n",
    "    # Initialize ModelDataLoader with the correct directory path\n",
    "    model_data_loader = ModelDataLoader(version='005')\n",
    "    # Reload filtered_df from the original dataset\n",
    "    filtered_df = model_data_loader.df.copy()\n",
    "\n",
    "    # Ensure the features column doesn't have any None values\n",
    "    filtered_df = filtered_df[filtered_df['features'].notnull()]\n",
    "\n",
    "    # Include only relevant genres (ensure 'classical' is included)\n",
    "    selected_genres = ['rock', 'electronic', 'hiphop', 'classical', 'jazz', 'country']\n",
    "\n",
    "    # Filter the DataFrame for the selected genres\n",
    "    filtered_df = filtered_df[filtered_df['label'].isin(selected_genres)].copy()\n",
    "\n",
    "    # Preprocess features to ensure consistent shape\n",
    "    max_length = max(filtered_df['features'].apply(lambda x: len(x)))\n",
    "\n",
    "    # Pad or truncate features\n",
    "    def pad_or_truncate(array, max_length):\n",
    "        if len(array) < max_length:\n",
    "            # Pad with zeros\n",
    "            return np.pad(array, (0, max_length - len(array)), mode='constant')\n",
    "        else:\n",
    "            # Truncate to max_length\n",
    "            return array[:max_length]\n",
    "\n",
    "    # Apply padding/truncating to all features\n",
    "    filtered_df['features_padded'] = filtered_df['features'].apply(lambda x: pad_or_truncate(x, max_length))\n",
    "\n",
    "    # Convert to 2D NumPy array\n",
    "    X = np.array(filtered_df['features_padded'].tolist())\n",
    "\n",
    "    print(f\"Shape of X after padding/truncating: {X.shape}\")\n",
    "\n",
    "    # Extract and encode labels\n",
    "    y = filtered_df['label'].values\n",
    "    label_encoder = LabelEncoder()\n",
    "    y_encoded = label_encoder.fit_transform(y)\n",
    "\n",
    "    '''\n",
    "    #original SMOTE\n",
    "    # Apply SMOTE for balancing\n",
    "    smote = SMOTE(random_state=42)\n",
    "    X_resampled, y_resampled = smote.fit_resample(X, y_encoded)\n",
    "\n",
    "    # Verify the balanced class distribution\n",
    "    print(\"Class distribution after SMOTE:\")\n",
    "    unique, counts = np.unique(y_resampled, return_counts=True)\n",
    "    for label, count in zip(label_encoder.inverse_transform(unique), counts):\n",
    "        print(f\"{label}: {count}\")\n",
    "\n",
    "    # Add a channel dimension for CNN input\n",
    "    X_resampled = X_resampled[..., np.newaxis]\n",
    "\n",
    "    print(f\"Shape of X_resampled: {X_resampled.shape}\")\n",
    "    print(f\"Shape of y_resampled: {y_resampled.shape}\")\n",
    "\n",
    "    # Split data into training and testing sets\n",
    "    X_train, X_test, y_train, y_test = train_test_split(X_resampled, y_resampled, test_size=0.2, random_state=42, stratify=y_resampled)\n",
    "    '''\n",
    "    #'''\n",
    "    #update to put smote after train test split just on train data\n",
    "    X_train, X_test, y_train, y_test = train_test_split(X, y_encoded, test_size=0.2, random_state=42, stratify=y_encoded)\n",
    "    smote = SMOTE(random_state=42)\n",
    "    X_train_resampled, y_train_resampled = smote.fit_resample(X_train, y_train)\n",
    "\n",
    "    # Add a channel dimension for CNN input\n",
    "    X_train_resampled, X_test = X_train_resampled[..., np.newaxis],X_test[..., np.newaxis]\n",
    "\n",
    "    return X_train_resampled, X_test, y_train_resampled, y_test, label_encoder\n",
    "    #'''\n",
    "    return X_train, X_test, y_train, y_test, label_encoder \n",
    "\n",
    "\n",
    "def get_feature_vecor_data(vector_type = 'mfcc',version_string = '005',vector_length = 1200, apply_normalization = False):\n",
    "    model_data_loader = ModelDataLoader(version_string)\n",
    "    model_data_loader_df = model_data_loader.df\n",
    "    features = []\n",
    "    vector_height = 0\n",
    "    if vector_type == 'mfcc':\n",
    "        print('Loading mfcc vectors')\n",
    "        features = model_data_loader.get_mfcc()\n",
    "        vector_height = 13\n",
    "    else:\n",
    "        print('Loading log mel vectors')\n",
    "        features = model_data_loader.get_log_melspectrogram()\n",
    "        vector_height = 128\n",
    "\n",
    "    labels_series = model_data_loader.df['label']\n",
    "    #array of feature shapes\n",
    "    feature_shapes = [feature.shape[1] for feature in features]\n",
    "    print(\"features shape distribution\")\n",
    "    print(pd.Series(feature_shapes).value_counts())\n",
    "    print(\"total records: \", len(features))\n",
    "\n",
    "    #filter based on features\n",
    "    # currently filtered to just the most common shapes, as we'll need to normalize shapes prior to training \n",
    "    #MFCC_LENGTH_CUTOFF = 2582\n",
    "    #MFCC_LENGTH_CUTOFF = 500\n",
    "    MFCC_LENGTH_CUTOFF = vector_length\n",
    "\n",
    "\n",
    "    #array of indexes matching a predicate \n",
    "    in_scope_feature_indexes = np.where(np.array(feature_shapes) >= MFCC_LENGTH_CUTOFF)[0]\n",
    "    print(\"normalized length: \",len(in_scope_feature_indexes))\n",
    "\n",
    "    #filter based on labels\n",
    "    #pick subset of labels that are more intuitively representative of genre \n",
    "    #genres like pop which are ambiguous are removed \n",
    "    in_scope_labels = ['rock', 'electronic', 'hiphop', 'classical', 'jazz','country']\n",
    "    #optain the indexes of label series wher the label is in the list \n",
    "    in_scope_label_indexes = np.array(\n",
    "        (labels_series[\n",
    "                        labels_series\n",
    "                            .apply(lambda x: True if x in  in_scope_labels else False)\n",
    "                    ]\n",
    "                            .index\n",
    "        )\n",
    "    )\n",
    "    gtzan_indexes = np.array(\n",
    "        (model_data_loader_df[\n",
    "                        model_data_loader_df['dataset']\n",
    "                            .apply(lambda x: True if x == 'gtzan' else False)\n",
    "                    ]\n",
    "                            .index\n",
    "        )\n",
    "    )\n",
    "\n",
    "    #combine filter for the in scope labels with the same for in scope features \n",
    "    in_scope_indexes = [index for index in in_scope_label_indexes if index in in_scope_feature_indexes]\n",
    "    print(\"Row Count after label based filter: \", len(in_scope_label_indexes))\n",
    "    print(\"Final Row count after label and feature filter: \", len(in_scope_indexes))\n",
    "\n",
    "    #label encoding\n",
    "    in_scope_label_series = labels_series.iloc[in_scope_indexes]\n",
    "    unique_label_names = in_scope_label_series.unique()\n",
    "    unique_label_count = len(in_scope_label_series.unique())\n",
    "    label_to_int_map = {}\n",
    "    for index, label in enumerate(unique_label_names):\n",
    "        label_to_int_map[label] = index  \n",
    "\n",
    "\n",
    "    int_to_label_map = {v: k for k, v in label_to_int_map.items()}\n",
    "\n",
    "    #numerical_labels = labels_series.map(label_to_int_map)\n",
    "    numerical_labels = in_scope_label_series.map(label_to_int_map)\n",
    "\n",
    "    encoded_labels = tf.one_hot(indices = numerical_labels.values, depth = len(unique_label_names))\n",
    "    print(\"Unique label count: \", unique_label_count)\n",
    "    print(\"label data count \" , len(encoded_labels))\n",
    "\n",
    "    #truncate features to consistent length while reshaping \n",
    "    reshaped_features = []\n",
    "    feature_array = []\n",
    "    for feature in features[in_scope_indexes]:\n",
    "        mfcc = [] \n",
    "        for vector in feature: \n",
    "            mfcc.append(vector[0:MFCC_LENGTH_CUTOFF])\n",
    "            mfcc_reshaped = np.array(mfcc)\n",
    "        feature_array.append(mfcc_reshaped)\n",
    "        reshaped_features.append(mfcc_reshaped.reshape((MFCC_LENGTH_CUTOFF,vector_height,1)))\n",
    "    \n",
    "    #generate train and test with stratification for equal label distribution across train and test \n",
    "    TEST_SIZE = .2\n",
    "\n",
    "    X_train, X_test, y_train, y_test = train_test_split(np.array(reshaped_features), encoded_labels.numpy(), test_size=TEST_SIZE, random_state=42, stratify =encoded_labels.numpy() )\n",
    "    if apply_normalization:\n",
    "        print('applying normaization')\n",
    "        # Create a normalization layer\n",
    "        norm_layer = keras.layers.Normalization()\n",
    "        # Adapt the layer to your data\n",
    "        norm_layer.adapt(X_train)\n",
    "\n",
    "        X_train,X_test= norm_layer(X_train),norm_layer(X_test)\n",
    "    return X_train, X_test, y_train, y_test \n",
    "\n"
   ]
  },
  {
   "cell_type": "code",
   "execution_count": 3,
   "metadata": {},
   "outputs": [],
   "source": [
    "#function for returning compiled model, passing hp for hyper paramerter tuning \n",
    "def get_cnn_lstm(hp):\n",
    "    #usedict argument for manually set, otherwise use hp\n",
    "    if isinstance(hp, dict):\n",
    "        learning_rate = hp['learning_rate']\n",
    "    else:\n",
    "        learning_rate = hp.Choice(\"learning_rate\", values=[0.001, 0.0001])\n",
    "\n",
    "    # Define the fine-tuned CNN+LSTM model\n",
    "    model = keras.models.Sequential([\n",
    "        # CNN Layers\n",
    "        keras.layers.Conv1D(128, kernel_size=3, activation='relu', input_shape=(X_train.shape[1], X_train.shape[2])),\n",
    "        keras.layers.BatchNormalization(),\n",
    "        keras.layers.MaxPooling1D(pool_size=2),\n",
    "\n",
    "        keras.layers.Conv1D(256, kernel_size=3, activation='relu'),\n",
    "        keras.layers.BatchNormalization(),\n",
    "        keras.layers.MaxPooling1D(pool_size=2),\n",
    "\n",
    "        keras.layers.Dropout(0.3),\n",
    "        #'''\n",
    "        #LSTM Layers\n",
    "        keras.layers.LSTM(256, return_sequences=True, activation='relu'),\n",
    "        keras.layers.BatchNormalization(),\n",
    "        keras.layers.Dropout(0.4),\n",
    "\n",
    "        keras.layers.LSTM(128, return_sequences=False, activation='relu'),\n",
    "        keras.layers.Dropout(0.4),\n",
    "\n",
    "        # Fully Connected Layers\n",
    "        keras.layers.Dense(256, activation='relu'),\n",
    "        keras.layers.Dropout(0.5),\n",
    "        #'''\n",
    "        keras.layers.Dense(128, activation='relu'),\n",
    "        keras.layers.Dropout(0.3),\n",
    "\n",
    "        # Output Layer\n",
    "        keras.layers.Dense(6, activation='softmax')  # Adjust for number of classes\n",
    "    ])\n",
    "    # Compile the model with a custom learning rate\n",
    " \n",
    "    optimizer = keras.optimizers.Adam(learning_rate=learning_rate)  # Initial learning rate\n",
    "    #update optimizer with clipping to handle exploding gradients in mfcc\n",
    "    #optimizer = keras.optimizers.Adam(learning_rate=learning_rate,clipvalue=0.5)  # Initial learning rate\n",
    "\n",
    "    model.compile(optimizer=optimizer, loss='sparse_categorical_crossentropy', metrics=['accuracy'])\n",
    "    return model\n",
    "\n",
    "def get_2d_cnn(hp):\n",
    "    #usedict argument for manually set, otherwise use hp\n",
    "    if isinstance(hp, dict):\n",
    "        learning_rate = hp['learning_rate']\n",
    "    else:\n",
    "        learning_rate = hp.Choice(\"learning_rate\", values=[0.001, 0.0001])\n",
    "    \n",
    "    model = keras.Sequential(layers=[\n",
    "        #https://www.youtube.com/watch?v=dOG-HxpbMSw\n",
    "        #convulution 1\n",
    "        keras.layers.Conv2D(32, (3,3), activation=keras.activations.relu),\n",
    "        keras.layers.MaxPooling2D((3,3), strides=(2,2), padding='same'),\n",
    "        keras.layers.BatchNormalization(),\n",
    "        #convolution 2\n",
    "        keras.layers.Conv2D(32, (3,3), activation=keras.activations.relu),\n",
    "        keras.layers.MaxPooling2D((3,3), strides=(2,2), padding='same'),\n",
    "        keras.layers.BatchNormalization(),\n",
    "        #convolution 3\n",
    "        keras.layers.Conv2D(32, (2,2), activation=keras.activations.relu),\n",
    "        keras.layers.MaxPooling2D((2,2), strides=(2,2), padding='same'),\n",
    "        keras.layers.BatchNormalization(),\n",
    "        #flatten and feed into dense layer with dropiut\n",
    "        keras.layers.Flatten(),\n",
    "        keras.layers.Dense(64, activation=keras.activations.relu),\n",
    "        keras.layers.Dropout(0.3),\n",
    "        #predictions\n",
    "        keras.layers.Dense(6, activation=keras.activations.softmax)\n",
    "        \n",
    "    ])\n",
    "    cce = keras.losses.categorical_crossentropy\n",
    "\n",
    "    opt = keras.optimizers.Adam(learning_rate=0.0001)\n",
    "    model.compile(optimizer=opt, loss=cce, metrics=['accuracy'])\n",
    "    return model \n"
   ]
  },
  {
   "cell_type": "markdown",
   "metadata": {},
   "source": []
  },
  {
   "cell_type": "code",
   "execution_count": 80,
   "metadata": {},
   "outputs": [],
   "source": [
    "#sketch of augmentation\n",
    "\n",
    "#based on shape of initial row, and provided segment numbers and overlaps produce array of in and out locations\n",
    "def get_augmented_segment_boundaries(train_row, num_segments=6, overlap_factor=.2 ):\n",
    "    full_duration = train_row.shape[0]\n",
    "    \n",
    "    equivalized_exact_duration_whole = int(full_duration/num_segments)\n",
    "\n",
    "    remnant_after_rounding = full_duration - (equivalized_exact_duration_whole *num_segments)\n",
    "\n",
    "    base_duration_array = [equivalized_exact_duration_whole for index in list(range(0,num_segments)) ]\n",
    "\n",
    "    padded_duration_array = [int(duration * (1 + overlap_factor)) for duration in base_duration_array]\n",
    "    start_frame = 0\n",
    "    end_frame = 0\n",
    "    segment_boundaries = []\n",
    "    for index, duration in enumerate(base_duration_array):\n",
    "        segment_boundary = []\n",
    "        if index != (num_segments -1):\n",
    "            end_frame = start_frame + padded_duration_array[index]\n",
    "        else:\n",
    "            end_frame = full_duration - 1\n",
    "            start_frame = end_frame - padded_duration_array[index]\n",
    "        segment_boundary.append(start_frame)\n",
    "        segment_boundary.append(end_frame)\n",
    "        segment_boundaries.append(segment_boundary)\n",
    "        start_frame += base_duration_array[index]\n",
    "\n",
    "        #print(index, duration)\n",
    "    return segment_boundaries\n",
    "\n",
    "\n",
    "def get_augmented_x_y( X,y, num_segments=8, overlap_factor=.4):\n",
    "    segment_boundaries = get_augmented_segment_boundaries(X[0],num_segments, overlap_factor)\n",
    "    print(\"creating augmented data with segment boundaries\", segment_boundaries)\n",
    "\n",
    "    #for oversampling minority\n",
    "    y_flattened = np.argmax(y,axis=1)\n",
    "    _, counts = np.unique(y_flattened,return_counts=True)\n",
    "    #instantiate probability of each label\n",
    "    label_weights = counts / np.sum(counts)\n",
    "    inv_label_weights = 1 - label_weights\n",
    "    print(inv_label_weights)\n",
    "\n",
    "    augmented_X=[]\n",
    "    augmented_y = []\n",
    "    for index, train_row in enumerate(X):\n",
    "        row_sample_weight = inv_label_weights[y_flattened[index]]\n",
    "        if row_sample_weight > .9:\n",
    "            row_sample_weight = 1\n",
    "        else:\n",
    "            row_sample_weight = row_sample_weight * .1\n",
    "        for segment_boundary in segment_boundaries:\n",
    "            if np.random.binomial(1, row_sample_weight) ==1:\n",
    "            #if row_sample_weight > .8:\n",
    "                augmented_X.append(train_row[segment_boundary[0]:segment_boundary[1]])\n",
    "                augmented_y.append(y[index])\n",
    "    return np.array(augmented_X), np.array(augmented_y)\n"
   ]
  },
  {
   "cell_type": "markdown",
   "metadata": {},
   "source": [
    "@misc{omalley2019kerastuner,\n",
    "    title        = {KerasTuner},\n",
    "    author       = {O'Malley, Tom and Bursztein, Elie and Long, James and Chollet, Fran\\c{c}ois and Jin, Haifeng and Invernizzi, Luca and others},\n",
    "    year         = 2019,\n",
    "    howpublished = {\\url{https://github.com/keras-team/keras-tuner}}\n",
    "}"
   ]
  },
  {
   "cell_type": "code",
   "execution_count": null,
   "metadata": {},
   "outputs": [
    {
     "name": "stdout",
     "output_type": "stream",
     "text": [
      "outer 0\n",
      "innder 0\n",
      "innder 1\n",
      "outer 1\n",
      "innder 0\n",
      "innder 1\n",
      "outer 2\n",
      "innder 0\n",
      "innder 1\n"
     ]
    }
   ],
   "source": [
    "#should adjust so that less additional samples taken from minority class\n",
    "for index in list(range(0,3)):\n",
    "    print('outer' , index)\n",
    "    for index_a in list(range(0,3)):\n",
    "        print('innder', index_a)\n",
    "        if index_a ==1:\n",
    "            break\n",
    "        "
   ]
  },
  {
   "cell_type": "code",
   "execution_count": 231,
   "metadata": {},
   "outputs": [],
   "source": [
    "m=ModelDataLoader('006')"
   ]
  },
  {
   "cell_type": "code",
   "execution_count": 232,
   "metadata": {},
   "outputs": [
    {
     "data": {
      "text/html": [
       "<div>\n",
       "<style scoped>\n",
       "    .dataframe tbody tr th:only-of-type {\n",
       "        vertical-align: middle;\n",
       "    }\n",
       "\n",
       "    .dataframe tbody tr th {\n",
       "        vertical-align: top;\n",
       "    }\n",
       "\n",
       "    .dataframe thead th {\n",
       "        text-align: right;\n",
       "    }\n",
       "</style>\n",
       "<table border=\"1\" class=\"dataframe\">\n",
       "  <thead>\n",
       "    <tr style=\"text-align: right;\">\n",
       "      <th></th>\n",
       "      <th>label</th>\n",
       "      <th>proportion</th>\n",
       "    </tr>\n",
       "  </thead>\n",
       "  <tbody>\n",
       "    <tr>\n",
       "      <th>0</th>\n",
       "      <td>rock</td>\n",
       "      <td>48.624595</td>\n",
       "    </tr>\n",
       "    <tr>\n",
       "      <th>1</th>\n",
       "      <td>electronic</td>\n",
       "      <td>33.692916</td>\n",
       "    </tr>\n",
       "    <tr>\n",
       "      <th>2</th>\n",
       "      <td>hiphop</td>\n",
       "      <td>5.267889</td>\n",
       "    </tr>\n",
       "    <tr>\n",
       "      <th>3</th>\n",
       "      <td>classical</td>\n",
       "      <td>5.007192</td>\n",
       "    </tr>\n",
       "    <tr>\n",
       "      <th>4</th>\n",
       "      <td>jazz</td>\n",
       "      <td>4.764473</td>\n",
       "    </tr>\n",
       "    <tr>\n",
       "      <th>5</th>\n",
       "      <td>country</td>\n",
       "      <td>2.642934</td>\n",
       "    </tr>\n",
       "  </tbody>\n",
       "</table>\n",
       "</div>"
      ],
      "text/plain": [
       "        label  proportion\n",
       "0        rock   48.624595\n",
       "1  electronic   33.692916\n",
       "2      hiphop    5.267889\n",
       "3   classical    5.007192\n",
       "4        jazz    4.764473\n",
       "5     country    2.642934"
      ]
     },
     "execution_count": 232,
     "metadata": {},
     "output_type": "execute_result"
    }
   ],
   "source": [
    "m.class_distribution"
   ]
  },
  {
   "cell_type": "code",
   "execution_count": 56,
   "metadata": {},
   "outputs": [
    {
     "name": "stdout",
     "output_type": "stream",
     "text": [
      "Loading mfcc vectors\n",
      "features shape distribution\n",
      "1099    19185\n",
      "1         214\n",
      "293         2\n",
      "173         2\n",
      "862         2\n",
      "        ...  \n",
      "841         1\n",
      "759         1\n",
      "768         1\n",
      "824         1\n",
      "432         1\n",
      "Name: count, Length: 76, dtype: int64\n",
      "total records:  19476\n",
      "normalized length:  19191\n",
      "Row Count after label based filter:  19476\n",
      "Final Row count after label and feature filter:  19191\n",
      "Unique label count:  6\n",
      "label data count  19191\n",
      "applying normaization\n"
     ]
    }
   ],
   "source": [
    "#X_train, X_test, y_train, y_test, label_encoder = get_numerical_vector_smote_v005_data()\n",
    "\n",
    "#'''\n",
    "X_train, X_test, y_train, y_test =get_feature_vecor_data(vector_type = 'mfcc',\n",
    "                                                        version_string = '006',\n",
    "                                                        vector_length = 1000, \n",
    "                                                        apply_normalization = True)\n",
    "#'''\n",
    "#re-format the labels to back to single dimensional array\n",
    "#y_train, y_test = np.argmax(y_train, axis=1), np.argmax(y_test, axis=1)"
   ]
  },
  {
   "cell_type": "markdown",
   "metadata": {},
   "source": []
  },
  {
   "cell_type": "code",
   "execution_count": 57,
   "metadata": {},
   "outputs": [
    {
     "data": {
      "text/plain": [
       "(TensorShape([15352, 1000, 13, 1]),\n",
       " TensorShape([3839, 1000, 13, 1]),\n",
       " (15352, 6),\n",
       " (3839, 6))"
      ]
     },
     "execution_count": 57,
     "metadata": {},
     "output_type": "execute_result"
    }
   ],
   "source": [
    "X_train.shape, X_test.shape, y_train.shape, y_test.shape"
   ]
  },
  {
   "cell_type": "code",
   "execution_count": 81,
   "metadata": {},
   "outputs": [
    {
     "name": "stdout",
     "output_type": "stream",
     "text": [
      "creating augmented data with segment boundaries [[0, 175], [125, 300], [250, 425], [375, 550], [500, 675], [625, 800], [750, 925], [824, 999]]\n",
      "[0.5620766  0.65743877 0.85194112 0.97146952 0.97238145 0.98469255]\n"
     ]
    }
   ],
   "source": [
    "X_train_, y_train_ = get_augmented_x_y(X_train, y_train)\n",
    "#X_test_, y_test_  = get_augmented_x_y(X_test, y_test)"
   ]
  },
  {
   "cell_type": "code",
   "execution_count": 82,
   "metadata": {},
   "outputs": [
    {
     "data": {
      "text/plain": [
       "((16269, 175, 13, 1), (16269, 6))"
      ]
     },
     "execution_count": 82,
     "metadata": {},
     "output_type": "execute_result"
    }
   ],
   "source": [
    "X_train_.shape, y_train_.shape"
   ]
  },
  {
   "cell_type": "code",
   "execution_count": 83,
   "metadata": {},
   "outputs": [
    {
     "data": {
      "text/plain": [
       "(array([0, 1, 2, 3, 4, 5]), array([3049, 2864, 1580, 3504, 3392, 1880]))"
      ]
     },
     "execution_count": 83,
     "metadata": {},
     "output_type": "execute_result"
    }
   ],
   "source": [
    "np.unique(np.argmax(y_train_,axis=1),return_counts=True)"
   ]
  },
  {
   "cell_type": "code",
   "execution_count": 84,
   "metadata": {},
   "outputs": [
    {
     "data": {
      "text/plain": [
       "(array([0, 1, 2, 3, 4, 5]), array([6723, 5259, 2273,  438,  424,  235]))"
      ]
     },
     "execution_count": 84,
     "metadata": {},
     "output_type": "execute_result"
    }
   ],
   "source": [
    "np.unique(np.argmax(y_train,axis=1),return_counts=True)"
   ]
  },
  {
   "cell_type": "code",
   "execution_count": 76,
   "metadata": {},
   "outputs": [],
   "source": [
    "_, count =np.unique(np.argmax(y_train,axis=1),return_counts=True)"
   ]
  },
  {
   "cell_type": "code",
   "execution_count": 77,
   "metadata": {},
   "outputs": [
    {
     "data": {
      "text/plain": [
       "array([0.5620766 , 0.65743877, 0.85194112, 0.97146952, 0.97238145,\n",
       "       0.98469255])"
      ]
     },
     "execution_count": 77,
     "metadata": {},
     "output_type": "execute_result"
    }
   ],
   "source": [
    "inv_prob = 1-(count/np.sum(count))\n",
    "inv_prob"
   ]
  },
  {
   "cell_type": "code",
   "execution_count": 215,
   "metadata": {},
   "outputs": [
    {
     "data": {
      "text/plain": [
       "((15000, 207, 128, 1), (3756, 207, 128, 1), (15000, 6), (3756, 6))"
      ]
     },
     "execution_count": 215,
     "metadata": {},
     "output_type": "execute_result"
    }
   ],
   "source": [
    "X_train_.shape, X_test_.shape, y_train_.shape, y_test_.shape"
   ]
  },
  {
   "cell_type": "code",
   "execution_count": 216,
   "metadata": {},
   "outputs": [],
   "source": [
    "X_train, X_test, y_train, y_test = X_train_, X_test_, y_train_, y_test_"
   ]
  },
  {
   "cell_type": "code",
   "execution_count": 14,
   "metadata": {},
   "outputs": [
    {
     "name": "stdout",
     "output_type": "stream",
     "text": [
      "Epoch 1/200\n",
      "273/273 [==============================] - 15s 39ms/step - loss: 1.6460 - accuracy: 0.2928 - val_loss: 1.6412 - val_accuracy: 0.2541\n",
      "Epoch 2/200\n",
      "273/273 [==============================] - 10s 36ms/step - loss: 1.5053 - accuracy: 0.3720 - val_loss: 1.5412 - val_accuracy: 0.3277\n",
      "Epoch 3/200\n",
      "273/273 [==============================] - 9s 34ms/step - loss: 1.4539 - accuracy: 0.4043 - val_loss: 1.5245 - val_accuracy: 0.3389\n",
      "Epoch 4/200\n",
      "273/273 [==============================] - 10s 36ms/step - loss: 1.4228 - accuracy: 0.4311 - val_loss: 1.5246 - val_accuracy: 0.3431\n",
      "Epoch 5/200\n",
      "273/273 [==============================] - 10s 36ms/step - loss: 1.3983 - accuracy: 0.4471 - val_loss: 1.4686 - val_accuracy: 0.4504\n",
      "Epoch 6/200\n",
      "273/273 [==============================] - 10s 38ms/step - loss: 1.3719 - accuracy: 0.4668 - val_loss: 1.4553 - val_accuracy: 0.4305\n",
      "Epoch 7/200\n",
      "273/273 [==============================] - 11s 40ms/step - loss: 1.3546 - accuracy: 0.4766 - val_loss: 1.3442 - val_accuracy: 0.5017\n",
      "Epoch 8/200\n",
      "273/273 [==============================] - 10s 37ms/step - loss: 1.3286 - accuracy: 0.4896 - val_loss: 1.4582 - val_accuracy: 0.4064\n",
      "Epoch 9/200\n",
      "273/273 [==============================] - 9s 34ms/step - loss: 1.3109 - accuracy: 0.4942 - val_loss: 1.3586 - val_accuracy: 0.4869\n",
      "Epoch 10/200\n",
      "273/273 [==============================] - 9s 34ms/step - loss: 1.2934 - accuracy: 0.5035 - val_loss: 1.3004 - val_accuracy: 0.5270\n",
      "Epoch 11/200\n",
      "273/273 [==============================] - 10s 36ms/step - loss: 1.2805 - accuracy: 0.5114 - val_loss: 1.2289 - val_accuracy: 0.5354\n",
      "Epoch 12/200\n",
      "273/273 [==============================] - 10s 35ms/step - loss: 1.2671 - accuracy: 0.5175 - val_loss: 1.2704 - val_accuracy: 0.5234\n",
      "Epoch 13/200\n",
      "273/273 [==============================] - 10s 36ms/step - loss: 1.2571 - accuracy: 0.5204 - val_loss: 1.2195 - val_accuracy: 0.5565\n",
      "Epoch 14/200\n",
      "273/273 [==============================] - 10s 37ms/step - loss: 1.2394 - accuracy: 0.5262 - val_loss: 1.2900 - val_accuracy: 0.5173\n",
      "Epoch 15/200\n",
      "273/273 [==============================] - 10s 38ms/step - loss: 1.2337 - accuracy: 0.5310 - val_loss: 1.3604 - val_accuracy: 0.4890\n",
      "Epoch 16/200\n",
      "273/273 [==============================] - 10s 36ms/step - loss: 1.2254 - accuracy: 0.5308 - val_loss: 1.1187 - val_accuracy: 0.5755\n",
      "Epoch 17/200\n",
      "273/273 [==============================] - 11s 39ms/step - loss: 1.2086 - accuracy: 0.5437 - val_loss: 1.3944 - val_accuracy: 0.4595\n",
      "Epoch 18/200\n",
      "273/273 [==============================] - 12s 43ms/step - loss: 1.2044 - accuracy: 0.5411 - val_loss: 1.2582 - val_accuracy: 0.5225\n",
      "Epoch 19/200\n",
      "273/273 [==============================] - 10s 35ms/step - loss: 1.1903 - accuracy: 0.5519 - val_loss: 1.1869 - val_accuracy: 0.5261\n",
      "Epoch 20/200\n",
      "273/273 [==============================] - 10s 38ms/step - loss: 1.1867 - accuracy: 0.5487 - val_loss: 1.1801 - val_accuracy: 0.5617\n",
      "Epoch 21/200\n",
      "273/273 [==============================] - 11s 39ms/step - loss: 1.1790 - accuracy: 0.5525 - val_loss: 1.2404 - val_accuracy: 0.5303\n",
      "Epoch 22/200\n",
      "273/273 [==============================] - 11s 40ms/step - loss: 1.1626 - accuracy: 0.5568 - val_loss: 1.2564 - val_accuracy: 0.5258\n",
      "Epoch 23/200\n",
      "273/273 [==============================] - 11s 39ms/step - loss: 1.1590 - accuracy: 0.5620 - val_loss: 1.2927 - val_accuracy: 0.5047\n",
      "Epoch 24/200\n",
      "273/273 [==============================] - 11s 39ms/step - loss: 1.1483 - accuracy: 0.5645 - val_loss: 1.1906 - val_accuracy: 0.5487\n"
     ]
    }
   ],
   "source": [
    "selected_hp = {'learning_rate':  0.0001}\n",
    "#selected_hp = {'learning_rate':  0.001}\n",
    "\n",
    "type(selected_hp)\n",
    "model = get_cnn_lstm(selected_hp)\n",
    "#model = get_2d_cnn(selected_hp)\n",
    "history = model.fit(\n",
    "    X_train, y_train,\n",
    "    validation_data=(X_test, y_test),\n",
    "    \n",
    "    #batch_size=32,\n",
    "    #batch_size=64,\n",
    "    batch_size = 128,\n",
    "    #epochs=200,\n",
    "    epochs=200,\n",
    "    callbacks=[\n",
    "        keras.callbacks.EarlyStopping(monitor='val_loss', patience=8, restore_best_weights=True),\n",
    "        #ReduceLROnPlateau(monitor='val_loss', factor=0.5, patience=3, verbose=1),\n",
    "        #lr_scheduler  # Learning rate scheduler\n",
    "    ]\n",
    ")\n",
    "#first overnight unscaled 500 long mfcc data with  .5 ,clipping\n",
    "#looked to be plateuing on accuracy at 43, at epoch 10\n",
    "\n",
    "#second adjusted learning rate to .001 and reran, and loss exploded\n",
    "\n",
    "#left off on third applied normalization moved learning rate back , \n",
    "# loss started out very high then went up and down, first batch hit 43\n",
    "\n",
    "#to do , implement checkpoint in the keras_tuner implementation\n",
    "#allow to run different lr scenarios overnight and save the models"
   ]
  },
  {
   "cell_type": "code",
   "execution_count": 36,
   "metadata": {},
   "outputs": [],
   "source": [
    "#notes, adjustmetn when increasing dimensionality of features\n",
    "# learning rate unstable at 32 batch size, and \n",
    "\n",
    "#also note as a variable, supplying separate test data for validation \n",
    "#compare this .fit call with cnn_exploration"
   ]
  },
  {
   "cell_type": "code",
   "execution_count": null,
   "metadata": {},
   "outputs": [],
   "source": [
    "# Save the model\n",
    "#batch 64, epochs 100, could have gone longer\n",
    "#model.save('v5_mfcc_13_1000_cnn_lstm.keras')\n",
    "\n",
    "#--below are all not mfc, but numerical vecotrs\n",
    "#reached 70 at 64 epochs out of 200, early stopping kicked in at 157\n",
    "#model.save('v5_mfcc_13_44100_1000_cnn_lstm_128_batch_200_epoch.keras')\n",
    "\n",
    "## highest so far\n",
    "#this one, bowies architecture and v5 feature vector able to get 77%\n",
    "#model.save('v5_mfcc_13_44100_1000_cnn_lstm_128_batch_200_epoch.keras')\n",
    "\n",
    "\n",
    "#all .0001 learning rate \n",
    "#switch to initial cnn architecture , 65 by second epic\n",
    "#model.save('v5_mfcc_unscaled_13_44100_500_cnn_2d_128_batch_200_epoch.keras')\n",
    "\n",
    "#switch to initial cnn architecture , 65 by second epic, 74% total \n",
    "#model.save('v5_mfcc_scaled_13_44100_500_cnn_2d_128_batch_200_epoch.keras')\n",
    "\n",
    "#early stopping stoped this at epic 104,  loss was still going down but val accuracy plateued at 75%\n",
    "#could be worth trying again with adjusting the early stopping \n",
    "#model.save('v5_mfcc_scaled_13_44100_1200_cnn_2d_128_batch_200_epoch_lr_0001.keras')\n",
    "\n",
    "#same as above but leraing rate adjust to 001, early stopping patience to 6 , 74.6\n",
    "# early stopping kiled at 20, possibly could have gone longer\n",
    "#model.save('v5_mfcc_scaled_13_44100_1200_cnn_2d_128_batch_200_epoch_lr_001.keras')\n",
    "\n",
    "#same as above but leraing rate adjust to 001, early stopping patience to 6 , 74.6\n",
    "# early stopping kiled at 20, possibly could have gone longer\n",
    "#model.save('v6_logmel_scaled_128_22500_500_cnn_2d_128_batch_200_epoch_lr_0001.keras')\n",
    "\n",
    "#this scenario was over-fitting,  training accuracy was getting into high 80s, but validation plateued in 50s\n",
    "#model.save('v6_logmel_scaled_128_22500_augmented_6_25_207_cnn_2d_128_batch_200_epoch_lr_0001.keras')\n",
    "\n",
    "#same as above, learning rate adjusted, same overfitting plateued around 5th epic\n",
    "#model.save('v6_logmel_scaled_128_22500_augmented_6_25_207_cnn_2d_128_batch_200_epoch_lr_001.keras')\n",
    "\n",
    "#First with v6 b , plateued at or near 76% accuracy , slow to train\n",
    "#model.save('v6b_logmel_scaled_128_22500_500_cnn_2d_128_batch_200_epoch_lr_0001.keras')\n",
    "\n",
    "#same as above but mfcc, faster to train 74.9\n",
    "model.save('v6b_mfcc_scaled_128_22500_500_cnn_2d_128_batch_200_epoch_lr_0001.keras')"
   ]
  },
  {
   "cell_type": "code",
   "execution_count": 121,
   "metadata": {},
   "outputs": [],
   "source": [
    "#model = keras.saving.load_model(\"v5_mfcc_scaled_13_44100_500_cnn_2d_128_batch_200_epoch.keras\")\n",
    "#model = keras.saving.load_model(\"v5_mfcc_unscaled_13_44100_500_cnn_2d_128_batch_200_epoch.keras\")\n",
    "model = keras.saving.load_model(\"v5_mfcc_scaled_13_44100_1200_cnn_2d_128_batch_200_epoch_lr_0001.keras\")"
   ]
  },
  {
   "cell_type": "code",
   "execution_count": 15,
   "metadata": {},
   "outputs": [
    {
     "name": "stdout",
     "output_type": "stream",
     "text": [
      "104/104 - 1s - loss: 1.1187 - accuracy: 0.5755 - 554ms/epoch - 5ms/step\n",
      "\n",
      "Test Accuracy: 57.55%\n",
      "Test Loss: 1.1187\n"
     ]
    }
   ],
   "source": [
    "# Evaluate the model on the test set\n",
    "test_loss, test_accuracy = model.evaluate(X_test, y_test, verbose=2)\n",
    "print(f\"\\nTest Accuracy: {test_accuracy * 100:.2f}%\")\n",
    "print(f\"Test Loss: {test_loss:.4f}\")"
   ]
  },
  {
   "cell_type": "code",
   "execution_count": 16,
   "metadata": {},
   "outputs": [],
   "source": [
    "import matplotlib.pyplot as plt\n",
    "from sklearn.metrics import classification_report\n",
    "import seaborn as sns\n"
   ]
  },
  {
   "cell_type": "code",
   "execution_count": 17,
   "metadata": {},
   "outputs": [
    {
     "name": "stdout",
     "output_type": "stream",
     "text": [
      "104/104 [==============================] - 2s 12ms/step\n"
     ]
    },
    {
     "ename": "AxisError",
     "evalue": "axis 1 is out of bounds for array of dimension 1",
     "output_type": "error",
     "traceback": [
      "\u001b[0;31m---------------------------------------------------------------------------\u001b[0m",
      "\u001b[0;31mAxisError\u001b[0m                                 Traceback (most recent call last)",
      "Cell \u001b[0;32mIn[17], line 3\u001b[0m\n\u001b[1;32m      1\u001b[0m \u001b[38;5;66;03m#validation \u001b[39;00m\n\u001b[1;32m      2\u001b[0m y_predicted \u001b[38;5;241m=\u001b[39m np\u001b[38;5;241m.\u001b[39margmax(model\u001b[38;5;241m.\u001b[39mpredict(x\u001b[38;5;241m=\u001b[39mX_test), axis\u001b[38;5;241m=\u001b[39m\u001b[38;5;241m1\u001b[39m)\n\u001b[0;32m----> 3\u001b[0m y_true \u001b[38;5;241m=\u001b[39m \u001b[43mnp\u001b[49m\u001b[38;5;241;43m.\u001b[39;49m\u001b[43margmax\u001b[49m\u001b[43m(\u001b[49m\u001b[43my_test\u001b[49m\u001b[43m,\u001b[49m\u001b[43m \u001b[49m\u001b[43maxis\u001b[49m\u001b[38;5;241;43m=\u001b[39;49m\u001b[38;5;241;43m1\u001b[39;49m\u001b[43m)\u001b[49m\n\u001b[1;32m      4\u001b[0m \u001b[38;5;66;03m#remap the ints to string names \u001b[39;00m\n\u001b[1;32m      5\u001b[0m \u001b[38;5;66;03m#label_names = [int_to_label_map[int_label] for int_label in np.unique(numerical_labels)]\u001b[39;00m\n\u001b[1;32m      6\u001b[0m label_names \u001b[38;5;241m=\u001b[39m np\u001b[38;5;241m.\u001b[39munique(y_true)\n",
      "File \u001b[0;32m~/Desktop/UMichigan/Fall2024/siads699_capstone/music_modeling_capstone/.venv/lib/python3.10/site-packages/numpy/core/fromnumeric.py:1229\u001b[0m, in \u001b[0;36margmax\u001b[0;34m(a, axis, out, keepdims)\u001b[0m\n\u001b[1;32m   1142\u001b[0m \u001b[38;5;250m\u001b[39m\u001b[38;5;124;03m\"\"\"\u001b[39;00m\n\u001b[1;32m   1143\u001b[0m \u001b[38;5;124;03mReturns the indices of the maximum values along an axis.\u001b[39;00m\n\u001b[1;32m   1144\u001b[0m \n\u001b[0;32m   (...)\u001b[0m\n\u001b[1;32m   1226\u001b[0m \u001b[38;5;124;03m(2, 1, 4)\u001b[39;00m\n\u001b[1;32m   1227\u001b[0m \u001b[38;5;124;03m\"\"\"\u001b[39;00m\n\u001b[1;32m   1228\u001b[0m kwds \u001b[38;5;241m=\u001b[39m {\u001b[38;5;124m'\u001b[39m\u001b[38;5;124mkeepdims\u001b[39m\u001b[38;5;124m'\u001b[39m: keepdims} \u001b[38;5;28;01mif\u001b[39;00m keepdims \u001b[38;5;129;01mis\u001b[39;00m \u001b[38;5;129;01mnot\u001b[39;00m np\u001b[38;5;241m.\u001b[39m_NoValue \u001b[38;5;28;01melse\u001b[39;00m {}\n\u001b[0;32m-> 1229\u001b[0m \u001b[38;5;28;01mreturn\u001b[39;00m \u001b[43m_wrapfunc\u001b[49m\u001b[43m(\u001b[49m\u001b[43ma\u001b[49m\u001b[43m,\u001b[49m\u001b[43m \u001b[49m\u001b[38;5;124;43m'\u001b[39;49m\u001b[38;5;124;43margmax\u001b[39;49m\u001b[38;5;124;43m'\u001b[39;49m\u001b[43m,\u001b[49m\u001b[43m \u001b[49m\u001b[43maxis\u001b[49m\u001b[38;5;241;43m=\u001b[39;49m\u001b[43maxis\u001b[49m\u001b[43m,\u001b[49m\u001b[43m \u001b[49m\u001b[43mout\u001b[49m\u001b[38;5;241;43m=\u001b[39;49m\u001b[43mout\u001b[49m\u001b[43m,\u001b[49m\u001b[43m \u001b[49m\u001b[38;5;241;43m*\u001b[39;49m\u001b[38;5;241;43m*\u001b[39;49m\u001b[43mkwds\u001b[49m\u001b[43m)\u001b[49m\n",
      "File \u001b[0;32m~/Desktop/UMichigan/Fall2024/siads699_capstone/music_modeling_capstone/.venv/lib/python3.10/site-packages/numpy/core/fromnumeric.py:59\u001b[0m, in \u001b[0;36m_wrapfunc\u001b[0;34m(obj, method, *args, **kwds)\u001b[0m\n\u001b[1;32m     56\u001b[0m     \u001b[38;5;28;01mreturn\u001b[39;00m _wrapit(obj, method, \u001b[38;5;241m*\u001b[39margs, \u001b[38;5;241m*\u001b[39m\u001b[38;5;241m*\u001b[39mkwds)\n\u001b[1;32m     58\u001b[0m \u001b[38;5;28;01mtry\u001b[39;00m:\n\u001b[0;32m---> 59\u001b[0m     \u001b[38;5;28;01mreturn\u001b[39;00m \u001b[43mbound\u001b[49m\u001b[43m(\u001b[49m\u001b[38;5;241;43m*\u001b[39;49m\u001b[43margs\u001b[49m\u001b[43m,\u001b[49m\u001b[43m \u001b[49m\u001b[38;5;241;43m*\u001b[39;49m\u001b[38;5;241;43m*\u001b[39;49m\u001b[43mkwds\u001b[49m\u001b[43m)\u001b[49m\n\u001b[1;32m     60\u001b[0m \u001b[38;5;28;01mexcept\u001b[39;00m \u001b[38;5;167;01mTypeError\u001b[39;00m:\n\u001b[1;32m     61\u001b[0m     \u001b[38;5;66;03m# A TypeError occurs if the object does have such a method in its\u001b[39;00m\n\u001b[1;32m     62\u001b[0m     \u001b[38;5;66;03m# class, but its signature is not identical to that of NumPy's. This\u001b[39;00m\n\u001b[0;32m   (...)\u001b[0m\n\u001b[1;32m     66\u001b[0m     \u001b[38;5;66;03m# Call _wrapit from within the except clause to ensure a potential\u001b[39;00m\n\u001b[1;32m     67\u001b[0m     \u001b[38;5;66;03m# exception has a traceback chain.\u001b[39;00m\n\u001b[1;32m     68\u001b[0m     \u001b[38;5;28;01mreturn\u001b[39;00m _wrapit(obj, method, \u001b[38;5;241m*\u001b[39margs, \u001b[38;5;241m*\u001b[39m\u001b[38;5;241m*\u001b[39mkwds)\n",
      "\u001b[0;31mAxisError\u001b[0m: axis 1 is out of bounds for array of dimension 1"
     ]
    }
   ],
   "source": [
    "#validation \n",
    "y_predicted = np.argmax(model.predict(x=X_test), axis=1)\n",
    "y_true = np.argmax(y_test, axis=1)\n",
    "#remap the ints to string names \n",
    "#label_names = [int_to_label_map[int_label] for int_label in np.unique(numerical_labels)]\n",
    "label_names = np.unique(y_true)\n",
    "\n",
    "confusion_matrix = tf.math.confusion_matrix(labels=y_true, predictions=y_predicted)\n",
    "fig = plt.figure()\n",
    "fig.set_size_inches(12, 8)\n",
    "sns.heatmap(confusion_matrix, xticklabels=label_names, yticklabels=label_names, annot=True, fmt='g')\n",
    "plt.xlabel('Prediction')\n",
    "plt.ylabel('Actual')\n",
    "plt.show()"
   ]
  },
  {
   "cell_type": "code",
   "execution_count": 242,
   "metadata": {},
   "outputs": [
    {
     "name": "stdout",
     "output_type": "stream",
     "text": [
      "\n",
      "Classification Report:\n",
      "              precision    recall  f1-score   support\n",
      "\n",
      "           0       0.79      0.86      0.82      1073\n",
      "           1       0.72      0.79      0.75       733\n",
      "           2       0.63      0.44      0.52       117\n",
      "           3       0.77      0.69      0.72       109\n",
      "           4       0.49      0.20      0.28       106\n",
      "           5       0.20      0.02      0.03        59\n",
      "\n",
      "    accuracy                           0.75      2197\n",
      "   macro avg       0.60      0.50      0.52      2197\n",
      "weighted avg       0.73      0.75      0.73      2197\n",
      "\n"
     ]
    }
   ],
   "source": [
    "  # Classification report\n",
    "  print(\"\\nClassification Report:\")\n",
    "  print(classification_report(y_true, y_predicted))"
   ]
  },
  {
   "cell_type": "code",
   "execution_count": 18,
   "metadata": {},
   "outputs": [
    {
     "data": {
      "image/png": "[encoded data removed]",
      "text/plain": [
       "<Figure size 1200x800 with 2 Axes>"
      ]
     },
     "metadata": {},
     "output_type": "display_data"
    }
   ],
   "source": [
    "# Plot the training history\n",
    "fig, axs = plt.subplots(2)\n",
    "fig.set_size_inches(12, 8)\n",
    "fig.suptitle('Training History', fontsize=16)\n",
    "axs[0].plot(history.epoch, history.history['loss'], history.history['val_loss'])\n",
    "axs[0].set(title='Loss', xlabel='Epoch', ylabel='Loss')\n",
    "axs[0].legend(['loss', 'val_loss'])\n",
    "axs[1].plot(history.epoch, history.history['accuracy'], history.history['val_accuracy'])\n",
    "axs[1].set(title='Accuracy', xlabel='Epoch', ylabel='Accuracy')\n",
    "axs[1].legend(['accuracy', 'val_accuracy'])\n",
    "plt.show()"
   ]
  },
  {
   "cell_type": "code",
   "execution_count": 33,
   "metadata": {},
   "outputs": [
    {
     "name": "stdout",
     "output_type": "stream",
     "text": [
      "Trial 2 Complete [00h 01m 47s]\n",
      "val_accuracy: 0.4779664874076843\n",
      "\n",
      "Best val_accuracy So Far: 0.49839338660240173\n",
      "Total elapsed time: 00h 03m 52s\n"
     ]
    }
   ],
   "source": [
    "# Train \n",
    "#another reference: https://keras.io/keras_tuner/guides/distributed_tuning/\n",
    "# and here as well: https://keras.io/keras_tuner/getting_started/\n",
    "\n",
    "tuner = keras_tuner.RandomSearch(\n",
    "    get_cnn_lstm,\n",
    "    objective='val_accuracy',\n",
    "    max_trials=2,\n",
    "    executions_per_trial=1,\n",
    "    overwrite=True,\n",
    "    directory=\"keras_tuner\",\n",
    "    project_name= \"initial_test_01\",\n",
    "    \n",
    "    )\n",
    "\n",
    "tuner.search(\n",
    "    X_train,\n",
    "    y_train,\n",
    "    epochs = 5,\n",
    "    #steps_per_epoch=600,\n",
    "    validation_data=(X_test, y_test),\n",
    "    #validation_steps=100,\n",
    "    callbacks=[K.callbacks.EarlyStopping(\"val_accuracy\")],\n",
    ")\n",
    "\n",
    "best_model = tuner.get_best_models()[0]\n",
    "\n"
   ]
  },
  {
   "cell_type": "code",
   "execution_count": null,
   "metadata": {},
   "outputs": [],
   "source": [
    "# Evaluate the model on the test set\n",
    "test_loss, test_accuracy = best_model.evaluate(X_test, y_test, verbose=2)\n",
    "print(f\"\\nTest Accuracy: {test_accuracy * 100:.2f}%\")\n",
    "print(f\"Test Loss: {test_loss:.4f}\")"
   ]
  },
  {
   "cell_type": "code",
   "execution_count": null,
   "metadata": {},
   "outputs": [],
   "source": [
    "tuner.results_summary()"
   ]
  },
  {
   "cell_type": "code",
   "execution_count": null,
   "metadata": {},
   "outputs": [],
   "source": [
    "#issue with tuner is that by default it is not keeping history, \n",
    "#as workaround can train again to get history of new model \n",
    "#history = tuner.get_best_models()[0].history"
   ]
  }
 ],
 "metadata": {
  "kernelspec": {
   "display_name": ".venv",
   "language": "python",
   "name": "python3"
  },
  "language_info": {
   "codemirror_mode": {
    "name": "ipython",
    "version": 3
   },
   "file_extension": ".py",
   "mimetype": "text/x-python",
   "name": "python",
   "nbconvert_exporter": "python",
   "pygments_lexer": "ipython3",
   "version": "3.10.15"
  }
 },
 "nbformat": 4,
 "nbformat_minor": 2
}
