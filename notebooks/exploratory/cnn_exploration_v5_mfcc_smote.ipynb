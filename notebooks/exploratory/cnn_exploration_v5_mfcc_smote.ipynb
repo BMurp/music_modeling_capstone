{
 "cells": [
  {
   "cell_type": "markdown",
   "metadata": {},
   "source": [
    "## Keras CNN Exploration"
   ]
  },
  {
   "cell_type": "markdown",
   "metadata": {},
   "source": [
    "### Load Libraries"
   ]
  },
  {
   "cell_type": "code",
   "execution_count": 1,
   "metadata": {},
   "outputs": [
    {
     "name": "stderr",
     "output_type": "stream",
     "text": [
      "2024-12-07 18:53:45.203630: I tensorflow/core/platform/cpu_feature_guard.cc:182] This TensorFlow binary is optimized to use available CPU instructions in performance-critical operations.\n",
      "To enable the following instructions: AVX2 AVX512F AVX512_VNNI FMA, in other operations, rebuild TensorFlow with the appropriate compiler flags.\n"
     ]
    }
   ],
   "source": [
    "import sys\n",
    "import os\n",
    "import numpy as np\n",
    "import pandas as pd\n",
    "from tensorflow import keras\n",
    "import tensorflow as tf\n",
    "from sklearn.model_selection import train_test_split\n",
    "from imblearn.over_sampling import SMOTE\n",
    "import matplotlib.pyplot as plt\n",
    "import seaborn as sns\n",
    "from tqdm import tqdm \n",
    "import warnings \n",
    "warnings.filterwarnings('ignore', category=UserWarning)\n",
    "sys.path.insert(0, '../../')\n",
    "from library.notebook_api.data_loader import  ModelDataLoader,CombinedDataLoader\n",
    "from library.notebook_api.model_loader import ModelScenario"
   ]
  },
  {
   "cell_type": "markdown",
   "metadata": {},
   "source": [
    "### Load Data\n",
    "load data from data loader and inspect the shape of the features which appears to be variable"
   ]
  },
  {
   "cell_type": "code",
   "execution_count": 2,
   "metadata": {},
   "outputs": [
    {
     "name": "stdout",
     "output_type": "stream",
     "text": [
      "features shape distribution\n",
      "2582    13510\n",
      "2585    10580\n",
      "2812      583\n",
      "1         460\n",
      "1293      357\n",
      "        ...  \n",
      "609         1\n",
      "490         1\n",
      "242         1\n",
      "528         1\n",
      "873         1\n",
      "Name: count, Length: 132, dtype: int64\n",
      "total records:  25947\n"
     ]
    }
   ],
   "source": [
    "model_data_loader = ModelDataLoader('005')\n",
    "model_data_loader_df = model_data_loader.df\n",
    "features = model_data_loader.get_mfcc()\n",
    "labels_series = model_data_loader.df['label']\n",
    "#array of feature shapes\n",
    "feature_shapes = [feature.shape[1] for feature in features]\n",
    "print(\"features shape distribution\")\n",
    "print(pd.Series(feature_shapes).value_counts())\n",
    "print(\"total records: \", len(features))"
   ]
  },
  {
   "cell_type": "code",
   "execution_count": 3,
   "metadata": {},
   "outputs": [
    {
     "data": {
      "text/plain": [
       "(25947, 25947)"
      ]
     },
     "execution_count": 3,
     "metadata": {},
     "output_type": "execute_result"
    }
   ],
   "source": [
    "#verify matching length\n",
    "len(labels_series) , len(features)"
   ]
  },
  {
   "cell_type": "markdown",
   "metadata": {},
   "source": [
    "### Define Filter Based on features"
   ]
  },
  {
   "cell_type": "code",
   "execution_count": 4,
   "metadata": {},
   "outputs": [
    {
     "name": "stdout",
     "output_type": "stream",
     "text": [
      "normalized length:  24679\n"
     ]
    }
   ],
   "source": [
    "# currently filtered to just the most common shapes, as we'll need to normalize shapes prior to training \n",
    "MFCC_LENGTH_CUTOFF = 2582\n",
    "#array of indexes matching a predicate \n",
    "in_scope_feature_indexes = np.where(np.array(feature_shapes) >= MFCC_LENGTH_CUTOFF)[0]\n",
    "print(\"normalized length: \",len(in_scope_feature_indexes))"
   ]
  },
  {
   "cell_type": "markdown",
   "metadata": {},
   "source": [
    "### Encode Labels\n",
    "assign a numerical index to each string label, then one hot encode the label dataset "
   ]
  },
  {
   "cell_type": "code",
   "execution_count": 5,
   "metadata": {},
   "outputs": [
    {
     "data": {
      "text/plain": [
       "label\n",
       "rock                  7305\n",
       "experimental          4848\n",
       "electronic            4114\n",
       "hiphop                3488\n",
       "folk                  1286\n",
       "pop                   1038\n",
       "classical              997\n",
       "jazz                   653\n",
       "international          629\n",
       "instrumental           483\n",
       "oldtime / historic     373\n",
       "country                294\n",
       "spoken                 270\n",
       "soulrnb                 82\n",
       "blues                   79\n",
       "easy listening           8\n",
       "Name: count, dtype: int64"
      ]
     },
     "execution_count": 5,
     "metadata": {},
     "output_type": "execute_result"
    }
   ],
   "source": [
    "labels_series.value_counts()"
   ]
  },
  {
   "cell_type": "code",
   "execution_count": 5,
   "metadata": {},
   "outputs": [
    {
     "name": "stdout",
     "output_type": "stream",
     "text": [
      "Row Count after label based filter:  16851\n",
      "Final Row count after label and feature filter:  16011\n"
     ]
    }
   ],
   "source": [
    "#pick subset of labels that are more intuitively representative of genre \n",
    "#genres like pop which are ambiguous are removed \n",
    "in_scope_labels = ['rock', 'electronic', 'hiphop', 'classical', 'jazz','country']\n",
    "#optain the indexes of label series wher the label is in the list \n",
    "in_scope_label_indexes = np.array(\n",
    "    (labels_series[\n",
    "                    labels_series\n",
    "                        .apply(lambda x: True if x in  in_scope_labels else False)\n",
    "                ]\n",
    "                        .index\n",
    "    )\n",
    ")\n",
    "gtzan_indexes = np.array(\n",
    "    (model_data_loader_df[\n",
    "                    model_data_loader_df['dataset']\n",
    "                        .apply(lambda x: True if x == 'gtzan' else False)\n",
    "                ]\n",
    "                        .index\n",
    "    )\n",
    ")\n",
    "\n",
    "#combine filter for the in scope labels with the same for in scope features \n",
    "in_scope_indexes = [index for index in in_scope_label_indexes if index in in_scope_feature_indexes]\n",
    "\n",
    "print(\"Row Count after label based filter: \", len(in_scope_label_indexes))\n",
    "print(\"Final Row count after label and feature filter: \", len(in_scope_indexes))"
   ]
  },
  {
   "cell_type": "code",
   "execution_count": 6,
   "metadata": {},
   "outputs": [
    {
     "name": "stdout",
     "output_type": "stream",
     "text": [
      "Unique label count:  6\n",
      "label data count  16011\n"
     ]
    }
   ],
   "source": [
    "in_scope_label_series = labels_series.iloc[in_scope_indexes]\n",
    "unique_label_names = in_scope_label_series.unique()\n",
    "unique_label_count = len(in_scope_label_series.unique())\n",
    "label_to_int_map = {}\n",
    "for index, label in enumerate(unique_label_names):\n",
    "    label_to_int_map[label] = index  \n",
    "\n",
    "\n",
    "int_to_label_map = {v: k for k, v in label_to_int_map.items()}\n",
    "\n",
    "#numerical_labels = labels_series.map(label_to_int_map)\n",
    "numerical_labels = in_scope_label_series.map(label_to_int_map)\n",
    "\n",
    "encoded_labels = tf.one_hot(indices = numerical_labels.values, depth = len(unique_label_names))\n",
    "\n",
    "#put to list and reshape again \n",
    "#not needed in current implementation\n",
    "#encoded_labels_array = [label.reshape((unique_label_count,1)) for label in encoded_labels.numpy()]\n",
    "print(\"Unique label count: \", unique_label_count)\n",
    "print(\"label data count \" , len(encoded_labels))"
   ]
  },
  {
   "cell_type": "code",
   "execution_count": 7,
   "metadata": {},
   "outputs": [
    {
     "data": {
      "text/plain": [
       "label\n",
       "rock          7184\n",
       "electronic    3899\n",
       "hiphop        3316\n",
       "classical      869\n",
       "jazz           549\n",
       "country        194\n",
       "Name: count, dtype: int64"
      ]
     },
     "execution_count": 7,
     "metadata": {},
     "output_type": "execute_result"
    }
   ],
   "source": [
    "in_scope_label_series.value_counts()"
   ]
  },
  {
   "cell_type": "markdown",
   "metadata": {},
   "source": [
    "### filter, truncate, reshape features\n",
    "iterate through the filtered features and build a vector representation appropriate for the CNN input"
   ]
  },
  {
   "cell_type": "code",
   "execution_count": 9,
   "metadata": {},
   "outputs": [],
   "source": [
    "#truncate to consistent length while reshaping \n",
    "reshaped_features = []\n",
    "feature_array = []\n",
    "for feature in features[in_scope_indexes]:\n",
    "    mfcc = [] \n",
    "    for vector in feature: \n",
    "        mfcc.append(vector[0:MFCC_LENGTH_CUTOFF])\n",
    "        mfcc_reshaped = np.array(mfcc)\n",
    "    feature_array.append(mfcc_reshaped)\n",
    "    reshaped_features.append(mfcc_reshaped.reshape((MFCC_LENGTH_CUTOFF,13,1)))"
   ]
  },
  {
   "cell_type": "markdown",
   "metadata": {},
   "source": [
    "### Train Test Split"
   ]
  },
  {
   "cell_type": "code",
   "execution_count": 10,
   "metadata": {},
   "outputs": [],
   "source": [
    "#smote implementation\n",
    "def get_train_test_data_with_smote(feature_array, numerical_labels, test_size, unique_label_names):\n",
    "    #instantiate initial split\n",
    "    X_train_, X_test_, y_train_, y_test_ = train_test_split(np.array(feature_array), np.array(numerical_labels), test_size=test_size, random_state=42, stratify =np.array(numerical_labels) )\n",
    "    smote = SMOTE(random_state=42)\n",
    "    \n",
    "    X_train_balance_index, y_train_balanced = smote.fit_resample(np.array(list(range(0,len(X_train_)))).reshape(-1, 1), y_train_)\n",
    "    #apply smote to the training data\n",
    "    X_train = X_train_[np.array(X_train_balance_index.reshape(X_train_balance_index.shape[0]))]\n",
    "    #rshape\n",
    "    X_train =X_train.reshape((len(X_train),MFCC_LENGTH_CUTOFF,13,1))\n",
    "\n",
    "    #encoded training data post smote  post smote\n",
    "    y_train = np.array(tf.one_hot(indices = y_train_balanced, depth = len(unique_label_names)))\n",
    "\n",
    "    #to adjust shapes for smote \n",
    "    #this should be test \n",
    "    X_test = X_test_.reshape(X_test_.shape[0], X_test_.shape[2],X_test_.shape[1],1)\n",
    "\n",
    "    y_test = np.array(tf.one_hot(indices = y_test_, depth = len(unique_label_names)))\n",
    "    return X_train, X_test, y_train, y_test\n",
    "  "
   ]
  },
  {
   "cell_type": "code",
   "execution_count": 10,
   "metadata": {},
   "outputs": [],
   "source": [
    "#generate train and test with stratification for equal label distribution across train and test \n",
    "TEST_SIZE = .2\n",
    "\n",
    "X_train, X_test, y_train, y_test = train_test_split(np.array(reshaped_features), encoded_labels.numpy(), test_size=TEST_SIZE, random_state=42, stratify =encoded_labels.numpy() )\n",
    " \n",
    "#X_train, X_test, y_train, y_test = get_train_test_data_with_smote(feature_array, numerical_labels, TEST_SIZE,  unique_label_names)\n",
    "\n"
   ]
  },
  {
   "cell_type": "code",
   "execution_count": 12,
   "metadata": {},
   "outputs": [
    {
     "data": {
      "text/plain": [
       "(10, 2582, 13, 1)"
      ]
     },
     "execution_count": 12,
     "metadata": {},
     "output_type": "execute_result"
    }
   ],
   "source": [
    "X_train[0:10].shape"
   ]
  },
  {
   "cell_type": "code",
   "execution_count": 23,
   "metadata": {},
   "outputs": [
    {
     "data": {
      "text/plain": [
       "(10, 2582)"
      ]
     },
     "execution_count": 23,
     "metadata": {},
     "output_type": "execute_result"
    }
   ],
   "source": [
    "X_train[0:10][:,:,0,0].shape"
   ]
  },
  {
   "cell_type": "code",
   "execution_count": 46,
   "metadata": {},
   "outputs": [],
   "source": [
    "from imblearn.over_sampling import RandomOverSampler \n",
    "import numpy as np \n",
    "oversample = RandomOverSampler(sampling_strategy='not majority', random_state = 42)\n",
    "_ = oversample.fit_resample(X_train[0:1000][:,:,0,0], np.argmax(y_train,axis=1)[0:1000])"
   ]
  },
  {
   "cell_type": "code",
   "execution_count": null,
   "metadata": {},
   "outputs": [],
   "source": [
    "#show y dispersions\n",
    "#np.argmax(y_train,axis=1)[0:100], np.argmax(y_train,axis=1)[0:100][oversample.sample_indices_]"
   ]
  },
  {
   "cell_type": "code",
   "execution_count": 47,
   "metadata": {},
   "outputs": [
    {
     "data": {
      "text/plain": [
       "((array([0, 1, 2, 3, 4, 5]), array([203, 458, 243,  31,  12,  53])),)"
      ]
     },
     "execution_count": 47,
     "metadata": {},
     "output_type": "execute_result"
    }
   ],
   "source": [
    "#unique summary on the lables\n",
    "np.unique(np.argmax(y_train,axis=1)[0:1000], return_counts=True),\n"
   ]
  },
  {
   "cell_type": "code",
   "execution_count": 51,
   "metadata": {},
   "outputs": [],
   "source": [
    "uniques, counts = np.unique(np.argmax(y_train,axis=1)[0:1000],return_counts=True)"
   ]
  },
  {
   "cell_type": "code",
   "execution_count": null,
   "metadata": {},
   "outputs": [
    {
     "data": {
      "text/plain": [
       "array([0.203, 0.458, 0.243, 0.031, 0.012, 0.053])"
      ]
     },
     "execution_count": 56,
     "metadata": {},
     "output_type": "execute_result"
    }
   ],
   "source": [
    "#can we get additional segments to equivalize minority class\n",
    "counts/np.sum(counts)"
   ]
  },
  {
   "cell_type": "code",
   "execution_count": 48,
   "metadata": {},
   "outputs": [
    {
     "data": {
      "text/plain": [
       "(array([0, 1, 2, 3, 4, 5]), array([458, 458, 458, 458, 458, 458]))"
      ]
     },
     "execution_count": 48,
     "metadata": {},
     "output_type": "execute_result"
    }
   ],
   "source": [
    "np.unique(np.argmax(y_train,axis=1)[0:1000][oversample.sample_indices_], return_counts=True)"
   ]
  },
  {
   "cell_type": "code",
   "execution_count": null,
   "metadata": {},
   "outputs": [
    {
     "data": {
      "text/plain": [
       "array([1, 0, 2, ..., 1, 1, 2])"
      ]
     },
     "execution_count": 33,
     "metadata": {},
     "output_type": "execute_result"
    }
   ],
   "source": [
    "oversample"
   ]
  },
  {
   "cell_type": "code",
   "execution_count": 31,
   "metadata": {},
   "outputs": [
    {
     "data": {
      "text/plain": [
       "array([[[[-5.54019348e+02],\n",
       "         [-3.30050293e+02],\n",
       "         [-1.94032639e+02],\n",
       "         ...,\n",
       "         [-2.71220276e+02],\n",
       "         [-2.81696472e+02],\n",
       "         [-2.88056030e+02]],\n",
       "\n",
       "        [[-2.87539124e+02],\n",
       "         [-2.86828217e+02],\n",
       "         [-2.68709167e+02],\n",
       "         ...,\n",
       "         [-2.72951813e+02],\n",
       "         [-2.76644165e+02],\n",
       "         [-2.90808746e+02]],\n",
       "\n",
       "        [[-2.95921234e+02],\n",
       "         [-3.00123383e+02],\n",
       "         [-2.99455963e+02],\n",
       "         ...,\n",
       "         [-9.47229919e+01],\n",
       "         [-1.10252182e+02],\n",
       "         [-1.19924538e+02]],\n",
       "\n",
       "        ...,\n",
       "\n",
       "        [[ 1.21130886e+01],\n",
       "         [ 7.72169399e+00],\n",
       "         [ 3.50044084e+00],\n",
       "         ...,\n",
       "         [ 3.81861067e+00],\n",
       "         [ 3.98255301e+00],\n",
       "         [ 5.77033043e+00]],\n",
       "\n",
       "        [[ 7.05148220e+00],\n",
       "         [ 1.11268520e+01],\n",
       "         [ 1.61440582e+01],\n",
       "         ...,\n",
       "         [ 1.59639969e+01],\n",
       "         [ 1.17321167e+01],\n",
       "         [ 1.15658474e+01]],\n",
       "\n",
       "        [[ 1.41698799e+01],\n",
       "         [ 1.41284847e+01],\n",
       "         [ 1.21362991e+01],\n",
       "         ...,\n",
       "         [ 6.18676853e+00],\n",
       "         [ 1.67932343e+00],\n",
       "         [ 1.99007261e+00]]],\n",
       "\n",
       "\n",
       "       [[[-5.00395569e+02],\n",
       "         [-2.28959290e+02],\n",
       "         [-9.82098465e+01],\n",
       "         ...,\n",
       "         [-1.28380219e+02],\n",
       "         [-1.38712402e+02],\n",
       "         [-1.40810547e+02]],\n",
       "\n",
       "        [[-1.35731766e+02],\n",
       "         [-1.33071457e+02],\n",
       "         [-1.51732071e+02],\n",
       "         ...,\n",
       "         [-1.04901917e+02],\n",
       "         [-9.61727982e+01],\n",
       "         [-9.80394897e+01]],\n",
       "\n",
       "        [[-9.80236816e+01],\n",
       "         [-1.05544632e+02],\n",
       "         [-1.15056984e+02],\n",
       "         ...,\n",
       "         [-1.88155197e+02],\n",
       "         [-1.89471466e+02],\n",
       "         [-1.96664719e+02]],\n",
       "\n",
       "        ...,\n",
       "\n",
       "        [[-6.69997025e+00],\n",
       "         [-1.09342651e+01],\n",
       "         [-5.66763401e+00],\n",
       "         ...,\n",
       "         [-2.17119753e-02],\n",
       "         [ 5.49416840e-02],\n",
       "         [ 6.65240824e-01]],\n",
       "\n",
       "        [[ 2.69382286e+00],\n",
       "         [-3.64428091e+00],\n",
       "         [-4.75274611e+00],\n",
       "         ...,\n",
       "         [-1.48763485e+01],\n",
       "         [-1.72688637e+01],\n",
       "         [-1.67709255e+01]],\n",
       "\n",
       "        [[-1.31546974e+01],\n",
       "         [-1.53791599e+01],\n",
       "         [-1.66727505e+01],\n",
       "         ...,\n",
       "         [-1.00595493e+01],\n",
       "         [-1.45277710e+01],\n",
       "         [-1.17182770e+01]]],\n",
       "\n",
       "\n",
       "       [[[-5.81508545e+02],\n",
       "         [-4.92958252e+02],\n",
       "         [-3.54025787e+02],\n",
       "         ...,\n",
       "         [-2.74625641e+02],\n",
       "         [-2.90398285e+02],\n",
       "         [-3.05624084e+02]],\n",
       "\n",
       "        [[-3.14009888e+02],\n",
       "         [-3.23581757e+02],\n",
       "         [-3.33226257e+02],\n",
       "         ...,\n",
       "         [-2.04463959e+02],\n",
       "         [-2.23673447e+02],\n",
       "         [-2.44130905e+02]],\n",
       "\n",
       "        [[-2.52625885e+02],\n",
       "         [-2.62338501e+02],\n",
       "         [-2.70620789e+02],\n",
       "         ...,\n",
       "         [-2.74264465e+02],\n",
       "         [-2.56943420e+02],\n",
       "         [-2.60388428e+02]],\n",
       "\n",
       "        ...,\n",
       "\n",
       "        [[-8.91741848e+00],\n",
       "         [-1.04364777e+01],\n",
       "         [-8.75813186e-01],\n",
       "         ...,\n",
       "         [ 6.64881706e+00],\n",
       "         [ 7.52627468e+00],\n",
       "         [ 6.13899517e+00]],\n",
       "\n",
       "        [[ 6.25285339e+00],\n",
       "         [ 5.43707514e+00],\n",
       "         [ 4.66890240e+00],\n",
       "         ...,\n",
       "         [ 1.02851629e+01],\n",
       "         [ 1.07173815e+01],\n",
       "         [ 9.23497009e+00]],\n",
       "\n",
       "        [[ 1.11742592e+01],\n",
       "         [ 1.36066113e+01],\n",
       "         [ 4.53190422e+00],\n",
       "         ...,\n",
       "         [ 1.26651897e+01],\n",
       "         [ 1.41918440e+01],\n",
       "         [ 9.25329590e+00]]],\n",
       "\n",
       "\n",
       "       ...,\n",
       "\n",
       "\n",
       "       [[[-1.24441513e+02],\n",
       "         [-1.24094765e+02],\n",
       "         [-1.38604889e+02],\n",
       "         ...,\n",
       "         [-1.28496658e+02],\n",
       "         [-1.27772133e+02],\n",
       "         [-1.36505615e+02]],\n",
       "\n",
       "        [[-1.33124344e+02],\n",
       "         [-1.32721085e+02],\n",
       "         [-1.33061920e+02],\n",
       "         ...,\n",
       "         [-1.40560715e+02],\n",
       "         [-1.40438156e+02],\n",
       "         [-1.38514938e+02]],\n",
       "\n",
       "        [[-1.39472061e+02],\n",
       "         [-1.37845306e+02],\n",
       "         [-1.44050522e+02],\n",
       "         ...,\n",
       "         [-1.44003632e+02],\n",
       "         [-1.46960251e+02],\n",
       "         [-1.46634933e+02]],\n",
       "\n",
       "        ...,\n",
       "\n",
       "        [[-6.79403067e+00],\n",
       "         [-6.65965557e+00],\n",
       "         [-2.04188919e+00],\n",
       "         ...,\n",
       "         [-5.09457588e+00],\n",
       "         [-3.77622414e+00],\n",
       "         [ 2.32544208e+00]],\n",
       "\n",
       "        [[ 2.27456379e+00],\n",
       "         [ 4.72141933e+00],\n",
       "         [-3.31838131e-02],\n",
       "         ...,\n",
       "         [ 2.89901066e+00],\n",
       "         [ 3.77018976e+00],\n",
       "         [-6.23183489e-01]],\n",
       "\n",
       "        [[-8.12953758e+00],\n",
       "         [-7.37967968e+00],\n",
       "         [-5.07292461e+00],\n",
       "         ...,\n",
       "         [ 1.91526079e+00],\n",
       "         [ 3.66566062e+00],\n",
       "         [ 7.18111515e+00]]],\n",
       "\n",
       "\n",
       "       [[[-1.24441513e+02],\n",
       "         [-1.24094765e+02],\n",
       "         [-1.38604889e+02],\n",
       "         ...,\n",
       "         [-1.28496658e+02],\n",
       "         [-1.27772133e+02],\n",
       "         [-1.36505615e+02]],\n",
       "\n",
       "        [[-1.33124344e+02],\n",
       "         [-1.32721085e+02],\n",
       "         [-1.33061920e+02],\n",
       "         ...,\n",
       "         [-1.40560715e+02],\n",
       "         [-1.40438156e+02],\n",
       "         [-1.38514938e+02]],\n",
       "\n",
       "        [[-1.39472061e+02],\n",
       "         [-1.37845306e+02],\n",
       "         [-1.44050522e+02],\n",
       "         ...,\n",
       "         [-1.44003632e+02],\n",
       "         [-1.46960251e+02],\n",
       "         [-1.46634933e+02]],\n",
       "\n",
       "        ...,\n",
       "\n",
       "        [[-6.79403067e+00],\n",
       "         [-6.65965557e+00],\n",
       "         [-2.04188919e+00],\n",
       "         ...,\n",
       "         [-5.09457588e+00],\n",
       "         [-3.77622414e+00],\n",
       "         [ 2.32544208e+00]],\n",
       "\n",
       "        [[ 2.27456379e+00],\n",
       "         [ 4.72141933e+00],\n",
       "         [-3.31838131e-02],\n",
       "         ...,\n",
       "         [ 2.89901066e+00],\n",
       "         [ 3.77018976e+00],\n",
       "         [-6.23183489e-01]],\n",
       "\n",
       "        [[-8.12953758e+00],\n",
       "         [-7.37967968e+00],\n",
       "         [-5.07292461e+00],\n",
       "         ...,\n",
       "         [ 1.91526079e+00],\n",
       "         [ 3.66566062e+00],\n",
       "         [ 7.18111515e+00]]],\n",
       "\n",
       "\n",
       "       [[[-1.24441513e+02],\n",
       "         [-1.24094765e+02],\n",
       "         [-1.38604889e+02],\n",
       "         ...,\n",
       "         [-1.28496658e+02],\n",
       "         [-1.27772133e+02],\n",
       "         [-1.36505615e+02]],\n",
       "\n",
       "        [[-1.33124344e+02],\n",
       "         [-1.32721085e+02],\n",
       "         [-1.33061920e+02],\n",
       "         ...,\n",
       "         [-1.40560715e+02],\n",
       "         [-1.40438156e+02],\n",
       "         [-1.38514938e+02]],\n",
       "\n",
       "        [[-1.39472061e+02],\n",
       "         [-1.37845306e+02],\n",
       "         [-1.44050522e+02],\n",
       "         ...,\n",
       "         [-1.44003632e+02],\n",
       "         [-1.46960251e+02],\n",
       "         [-1.46634933e+02]],\n",
       "\n",
       "        ...,\n",
       "\n",
       "        [[-6.79403067e+00],\n",
       "         [-6.65965557e+00],\n",
       "         [-2.04188919e+00],\n",
       "         ...,\n",
       "         [-5.09457588e+00],\n",
       "         [-3.77622414e+00],\n",
       "         [ 2.32544208e+00]],\n",
       "\n",
       "        [[ 2.27456379e+00],\n",
       "         [ 4.72141933e+00],\n",
       "         [-3.31838131e-02],\n",
       "         ...,\n",
       "         [ 2.89901066e+00],\n",
       "         [ 3.77018976e+00],\n",
       "         [-6.23183489e-01]],\n",
       "\n",
       "        [[-8.12953758e+00],\n",
       "         [-7.37967968e+00],\n",
       "         [-5.07292461e+00],\n",
       "         ...,\n",
       "         [ 1.91526079e+00],\n",
       "         [ 3.66566062e+00],\n",
       "         [ 7.18111515e+00]]]], dtype=float32)"
      ]
     },
     "execution_count": 31,
     "metadata": {},
     "output_type": "execute_result"
    }
   ],
   "source": [
    "X_train[0:10][oversample.sample_indices_]"
   ]
  },
  {
   "cell_type": "code",
   "execution_count": 11,
   "metadata": {},
   "outputs": [
    {
     "data": {
      "text/plain": [
       "((12808, 2582, 13, 1), (12808, 6))"
      ]
     },
     "execution_count": 11,
     "metadata": {},
     "output_type": "execute_result"
    }
   ],
   "source": [
    "#original split\n",
    "X_train.shape, y_train.shape"
   ]
  },
  {
   "cell_type": "markdown",
   "metadata": {},
   "source": [
    "### Define CNN model"
   ]
  },
  {
   "cell_type": "code",
   "execution_count": 18,
   "metadata": {},
   "outputs": [],
   "source": [
    "model = keras.Sequential(layers=[\n",
    "    #https://www.youtube.com/watch?v=dOG-HxpbMSw\n",
    "    #convulution 1\n",
    "    keras.layers.Conv2D(32, (3,3), activation=keras.activations.relu),\n",
    "    keras.layers.MaxPooling2D((3,3), strides=(2,2), padding='same'),\n",
    "    keras.layers.BatchNormalization(),\n",
    "    #convolution 2\n",
    "    keras.layers.Conv2D(32, (3,3), activation=keras.activations.relu),\n",
    "    keras.layers.MaxPooling2D((3,3), strides=(2,2), padding='same'),\n",
    "    keras.layers.BatchNormalization(),\n",
    "    #convolution 3\n",
    "    keras.layers.Conv2D(32, (2,2), activation=keras.activations.relu),\n",
    "    keras.layers.MaxPooling2D((2,2), strides=(2,2), padding='same'),\n",
    "    keras.layers.BatchNormalization(),\n",
    "    #flatten and feed into dense layer with dropiut\n",
    "    keras.layers.Flatten(),\n",
    "    keras.layers.Dense(64, activation=keras.activations.relu),\n",
    "    keras.layers.Dropout(0.3),\n",
    "    #predictions\n",
    "    keras.layers.Dense(unique_label_count, activation=keras.activations.softmax)\n",
    "        \n",
    "    ])\n",
    "cce = keras.losses.categorical_crossentropy\n",
    "\n",
    "opt = keras.optimizers.Adam(learning_rate=0.0001)\n",
    "model.compile(optimizer=opt, loss=cce, metrics=['accuracy'])"
   ]
  },
  {
   "cell_type": "code",
   "execution_count": null,
   "metadata": {},
   "outputs": [],
   "source": []
  },
  {
   "cell_type": "code",
   "execution_count": 187,
   "metadata": {},
   "outputs": [
    {
     "name": "stdout",
     "output_type": "stream",
     "text": [
      "Model: \"sequential_6\"\n",
      "_________________________________________________________________\n",
      " Layer (type)                Output Shape              Param #   \n",
      "=================================================================\n",
      " conv2d_18 (Conv2D)          (None, 2580, 11, 32)      320       \n",
      "                                                                 \n",
      " max_pooling2d_18 (MaxPooli  (None, 1290, 6, 32)       0         \n",
      " ng2D)                                                           \n",
      "                                                                 \n",
      " batch_normalization_18 (Ba  (None, 1290, 6, 32)       128       \n",
      " tchNormalization)                                               \n",
      "                                                                 \n",
      " conv2d_19 (Conv2D)          (None, 1288, 4, 32)       9248      \n",
      "                                                                 \n",
      " max_pooling2d_19 (MaxPooli  (None, 644, 2, 32)        0         \n",
      " ng2D)                                                           \n",
      "                                                                 \n",
      " batch_normalization_19 (Ba  (None, 644, 2, 32)        128       \n",
      " tchNormalization)                                               \n",
      "                                                                 \n",
      " conv2d_20 (Conv2D)          (None, 643, 1, 32)        4128      \n",
      "                                                                 \n",
      " max_pooling2d_20 (MaxPooli  (None, 322, 1, 32)        0         \n",
      " ng2D)                                                           \n",
      "                                                                 \n",
      " batch_normalization_20 (Ba  (None, 322, 1, 32)        128       \n",
      " tchNormalization)                                               \n",
      "                                                                 \n",
      " flatten_6 (Flatten)         (None, 10304)             0         \n",
      "                                                                 \n",
      " dense_12 (Dense)            (None, 64)                659520    \n",
      "                                                                 \n",
      " dropout_6 (Dropout)         (None, 64)                0         \n",
      "                                                                 \n",
      " dense_13 (Dense)            (None, 6)                 390       \n",
      "                                                                 \n",
      "=================================================================\n",
      "Total params: 673990 (2.57 MB)\n",
      "Trainable params: 673798 (2.57 MB)\n",
      "Non-trainable params: 192 (768.00 Byte)\n",
      "_________________________________________________________________\n"
     ]
    }
   ],
   "source": [
    "#note this currently only works after training\n",
    "#To do figure out how to build model prior to training to inspect it's architectuer\n",
    "model.summary()"
   ]
  },
  {
   "cell_type": "markdown",
   "metadata": {},
   "source": [
    "### Train Model"
   ]
  },
  {
   "cell_type": "code",
   "execution_count": 19,
   "metadata": {},
   "outputs": [],
   "source": [
    "#configuration\n",
    "#BATCH_SIZE = 128\n",
    "BATCH_SIZE = 64\n",
    "#BATCH_SIZE = 32\n",
    "EPOCHS = 50\n",
    "#EPOCHS = 2\n",
    "#EPOCHS = 2"
   ]
  },
  {
   "cell_type": "markdown",
   "metadata": {},
   "source": [
    "consider stratified k-fold: https://www.kaggle.com/code/chayannaskar26/stratified-k-fold-cnn\n",
    "Or smote for imbalance"
   ]
  },
  {
   "cell_type": "code",
   "execution_count": 15,
   "metadata": {},
   "outputs": [
    {
     "name": "stdout",
     "output_type": "stream",
     "text": [
      "Epoch 1/50\n",
      "432/432 [==============================] - 537s 1s/step - loss: 1.5778 - accuracy: 0.3407 - val_loss: 3.7327 - val_accuracy: 0.0628\n",
      "Epoch 2/50\n",
      "432/432 [==============================] - 554s 1s/step - loss: 1.5059 - accuracy: 0.3890 - val_loss: 3.9696 - val_accuracy: 0.0677\n",
      "Epoch 3/50\n",
      "432/432 [==============================] - 406s 940ms/step - loss: 1.4712 - accuracy: 0.4052 - val_loss: 3.7337 - val_accuracy: 0.0345\n",
      "Epoch 4/50\n",
      "432/432 [==============================] - 360s 833ms/step - loss: 1.4655 - accuracy: 0.4091 - val_loss: 4.4279 - val_accuracy: 0.0174\n"
     ]
    },
    {
     "data": {
      "image/png": "[encoded data removed]",
      "text/plain": [
       "<Figure size 1200x800 with 2 Axes>"
      ]
     },
     "metadata": {},
     "output_type": "display_data"
    }
   ],
   "source": [
    "# Train the model\n",
    "#following reference: https://www.kaggle.com/code/nilshmeier/melspectrogram-based-cnn-classification/notebook\n",
    "early_stopping = keras.callbacks.EarlyStopping(\n",
    "    monitor='val_loss', \n",
    "    #monitor='val_accuracy',\n",
    "    min_delta = 0,\n",
    "    patience=3, \n",
    "    mode='auto',\n",
    "    restore_best_weights=True\n",
    "    )\n",
    "history = model.fit(x=X_train, y=y_train, validation_split=TEST_SIZE, epochs=EPOCHS, batch_size=BATCH_SIZE, callbacks=[early_stopping])\n",
    "\n",
    "# Plot the training history\n",
    "fig, axs = plt.subplots(2)\n",
    "fig.set_size_inches(12, 8)\n",
    "fig.suptitle('Training History', fontsize=16)\n",
    "axs[0].plot(history.epoch, history.history['loss'], history.history['val_loss'])\n",
    "axs[0].set(title='Loss', xlabel='Epoch', ylabel='Loss')\n",
    "axs[0].legend(['loss', 'val_loss'])\n",
    "axs[1].plot(history.epoch, history.history['accuracy'], history.history['val_accuracy'])\n",
    "axs[1].set(title='Accuracy', xlabel='Epoch', ylabel='Accuracy')\n",
    "axs[1].legend(['accuracy', 'val_accuracy'])\n",
    "plt.show()"
   ]
  },
  {
   "cell_type": "code",
   "execution_count": 16,
   "metadata": {},
   "outputs": [
    {
     "name": "stdout",
     "output_type": "stream",
     "text": [
      "101/101 [==============================] - 14s 136ms/step\n"
     ]
    },
    {
     "data": {
      "image/png": "[encoded data removed]",
      "text/plain": [
       "<Figure size 1200x800 with 2 Axes>"
      ]
     },
     "metadata": {},
     "output_type": "display_data"
    }
   ],
   "source": [
    "#validation \n",
    "y_predicted = np.argmax(model.predict(x=X_test), axis=1)\n",
    "y_true = np.argmax(y_test, axis=1)\n",
    "#remap the ints to string names \n",
    "label_names = [int_to_label_map[int_label] for int_label in np.unique(numerical_labels)]\n",
    "confusion_matrix = tf.math.confusion_matrix(labels=y_true, predictions=y_predicted)\n",
    "fig = plt.figure()\n",
    "fig.set_size_inches(12, 8)\n",
    "sns.heatmap(confusion_matrix, xticklabels=label_names, yticklabels=label_names, annot=True, fmt='g')\n",
    "plt.xlabel('Prediction')\n",
    "plt.ylabel('Actual')\n",
    "plt.show()"
   ]
  },
  {
   "cell_type": "code",
   "execution_count": null,
   "metadata": {},
   "outputs": [],
   "source": []
  }
 ],
 "metadata": {
  "kernelspec": {
   "display_name": ".venv",
   "language": "python",
   "name": "python3"
  },
  "language_info": {
   "codemirror_mode": {
    "name": "ipython",
    "version": 3
   },
   "file_extension": ".py",
   "mimetype": "text/x-python",
   "name": "python",
   "nbconvert_exporter": "python",
   "pygments_lexer": "ipython3",
   "version": "3.10.15"
  }
 },
 "nbformat": 4,
 "nbformat_minor": 2
}
