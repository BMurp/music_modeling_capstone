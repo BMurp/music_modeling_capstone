{
 "cells": [
  {
   "cell_type": "markdown",
   "metadata": {},
   "source": [
    "## Exploring Audio Features"
   ]
  },
  {
   "cell_type": "code",
   "execution_count": 1,
   "metadata": {},
   "outputs": [],
   "source": [
    "import sys\n",
    "import os\n",
    "import numpy as np\n",
    "import pandas as pd\n",
    "sys.path.insert(0, '../../')\n",
    "from library.notebook_api.data_loader import  ModelDataLoader,CombinedDataLoader\n",
    "from library.source_data.feature_extractor import AudioFeatureExtractor\n",
    "from library.source_data.parallel_processor import AudioParallelProcessor\n",
    "import librosa\n"
   ]
  },
  {
   "cell_type": "code",
   "execution_count": 2,
   "metadata": {},
   "outputs": [
    {
     "name": "stdout",
     "output_type": "stream",
     "text": [
      "tracks in meta 107574\n",
      "tracks with files available in project_data_path:  9000\n",
      "tracks with top level genres available 50598\n",
      "tracks with genres and files (df_filtered) 9000\n"
     ]
    },
    {
     "name": "stderr",
     "output_type": "stream",
     "text": [
      "/Users/murphybre/Desktop/UMichigan/Fall2024/siads699_capstone/music_modeling_capstone/notebooks/exploratory/../../library/notebook_api/data_loader.py:28: UserWarning: Boolean Series key will be reindexed to match DataFrame index.\n",
      "  self.df_filtered = self.df_files_available[self.df.label.isnull() ==False ]\n"
     ]
    }
   ],
   "source": [
    "#instantate data_loader and the dataframes it makes available \n",
    "data_loader = CombinedDataLoader('small')\n",
    "df = data_loader.df\n",
    "df_files_available = data_loader.df_files_available\n",
    "df_genres_available = data_loader.df_genres_available\n",
    "df_filtered = data_loader.df_filtered"
   ]
  },
  {
   "cell_type": "code",
   "execution_count": 3,
   "metadata": {},
   "outputs": [
    {
     "name": "stderr",
     "output_type": "stream",
     "text": [
      "/Users/murphybre/Desktop/UMichigan/Fall2024/siads699_capstone/music_modeling_capstone/notebooks/exploratory/../../library/source_data/feature_extractor.py:118: FutureWarning: librosa.beat.tempo\n",
      "\tThis function was moved to 'librosa.feature.rhythm.tempo' in librosa version 0.10.0.\n",
      "\tThis alias will be removed in librosa version 1.0.\n",
      "  tempo = librosa.beat.tempo(onset_envelope=onset_env, sr=sr)[0]\n"
     ]
    }
   ],
   "source": [
    "audio = AudioFeatureExtractor(df_filtered.head(5))\n",
    "audio.add_audio_data_to_df()\n",
    "audio.add_numerical_features_to_df()\n",
    "audio.add_mfcc_to_df()"
   ]
  },
  {
   "cell_type": "code",
   "execution_count": 6,
   "metadata": {},
   "outputs": [
    {
     "data": {
      "text/plain": [
       "0     (13, 2582)\n",
       "2     (13, 2585)\n",
       "3     (13, 2582)\n",
       "15    (13, 2582)\n",
       "16    (13, 2582)\n",
       "Name: mfcc, dtype: object"
      ]
     },
     "execution_count": 6,
     "metadata": {},
     "output_type": "execute_result"
    }
   ],
   "source": [
    "audio.df['mfcc'].apply(lambda vector: vector.shape)"
   ]
  },
  {
   "cell_type": "code",
   "execution_count": null,
   "metadata": {},
   "outputs": [],
   "source": []
  }
 ],
 "metadata": {
  "kernelspec": {
   "display_name": ".venv",
   "language": "python",
   "name": "python3"
  },
  "language_info": {
   "codemirror_mode": {
    "name": "ipython",
    "version": 3
   },
   "file_extension": ".py",
   "mimetype": "text/x-python",
   "name": "python",
   "nbconvert_exporter": "python",
   "pygments_lexer": "ipython3",
   "version": "3.10.15"
  }
 },
 "nbformat": 4,
 "nbformat_minor": 2
}
