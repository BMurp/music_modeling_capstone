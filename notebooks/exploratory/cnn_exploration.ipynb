{
 "cells": [
  {
   "cell_type": "markdown",
   "metadata": {},
   "source": [
    "## Keras CNN Exploration"
   ]
  },
  {
   "cell_type": "markdown",
   "metadata": {},
   "source": [
    "### Load Libraries"
   ]
  },
  {
   "cell_type": "code",
   "execution_count": 53,
   "metadata": {},
   "outputs": [],
   "source": [
    "import sys\n",
    "import os\n",
    "import numpy as np\n",
    "import pandas as pd\n",
    "from tensorflow import keras\n",
    "import tensorflow as tf\n",
    "from sklearn.model_selection import train_test_split\n",
    "from imblearn.over_sampling import SMOTE\n",
    "import matplotlib.pyplot as plt\n",
    "import seaborn as sns\n",
    "from tqdm import tqdm \n",
    "import warnings \n",
    "warnings.filterwarnings('ignore', category=UserWarning)\n",
    "sys.path.insert(0, '../../')\n",
    "from library.notebook_api.data_loader import  ModelDataLoader,CombinedDataLoader\n",
    "from library.notebook_api.model_loader import ModelScenario"
   ]
  },
  {
   "cell_type": "markdown",
   "metadata": {},
   "source": [
    "### Load Data\n",
    "load data from data loader and inspect the shape of the features which appears to be variable"
   ]
  },
  {
   "cell_type": "code",
   "execution_count": 36,
   "metadata": {},
   "outputs": [
    {
     "name": "stdout",
     "output_type": "stream",
     "text": [
      "features shape distribution\n",
      "2582    13510\n",
      "2585    10580\n",
      "2812      583\n",
      "1         460\n",
      "1293      357\n",
      "        ...  \n",
      "2587        1\n",
      "2024        1\n",
      "2455        1\n",
      "1206        1\n",
      "1253        1\n",
      "Name: count, Length: 132, dtype: int64\n",
      "total records:  25947\n"
     ]
    }
   ],
   "source": [
    "model_data_loader = ModelDataLoader('005')\n",
    "model_data_loader_df = model_data_loader.df\n",
    "features = model_data_loader.get_mfcc()\n",
    "labels_series = model_data_loader.df['label']\n",
    "#array of feature shapes\n",
    "feature_shapes = [feature.shape[1] for feature in features]\n",
    "print(\"features shape distribution\")\n",
    "print(pd.Series(feature_shapes).value_counts())\n",
    "print(\"total records: \", len(features))"
   ]
  },
  {
   "cell_type": "code",
   "execution_count": 37,
   "metadata": {},
   "outputs": [
    {
     "data": {
      "text/plain": [
       "(25947, 25947)"
      ]
     },
     "execution_count": 37,
     "metadata": {},
     "output_type": "execute_result"
    }
   ],
   "source": [
    "#verify matching length\n",
    "len(labels_series) , len(features)"
   ]
  },
  {
   "cell_type": "markdown",
   "metadata": {},
   "source": [
    "### Define Filter Based on features"
   ]
  },
  {
   "cell_type": "code",
   "execution_count": 38,
   "metadata": {},
   "outputs": [
    {
     "name": "stdout",
     "output_type": "stream",
     "text": [
      "normalized length:  24679\n"
     ]
    }
   ],
   "source": [
    "# currently filtered to just the most common shapes, as we'll need to normalize shapes prior to training \n",
    "MFCC_LENGTH_CUTOFF = 2582\n",
    "#array of indexes matching a predicate \n",
    "in_scope_feature_indexes = np.where(np.array(feature_shapes) >= MFCC_LENGTH_CUTOFF)[0]\n",
    "print(\"normalized length: \",len(in_scope_feature_indexes))"
   ]
  },
  {
   "cell_type": "markdown",
   "metadata": {},
   "source": [
    "### Encode Labels\n",
    "assign a numerical index to each string label, then one hot encode the label dataset "
   ]
  },
  {
   "cell_type": "code",
   "execution_count": 39,
   "metadata": {},
   "outputs": [
    {
     "data": {
      "text/plain": [
       "label\n",
       "rock                  7305\n",
       "experimental          4848\n",
       "electronic            4114\n",
       "hiphop                3488\n",
       "folk                  1286\n",
       "pop                   1038\n",
       "classical              997\n",
       "jazz                   653\n",
       "international          629\n",
       "instrumental           483\n",
       "oldtime / historic     373\n",
       "country                294\n",
       "spoken                 270\n",
       "soulrnb                 82\n",
       "blues                   79\n",
       "easy listening           8\n",
       "Name: count, dtype: int64"
      ]
     },
     "execution_count": 39,
     "metadata": {},
     "output_type": "execute_result"
    }
   ],
   "source": [
    "labels_series.value_counts()"
   ]
  },
  {
   "cell_type": "code",
   "execution_count": 42,
   "metadata": {},
   "outputs": [
    {
     "name": "stdout",
     "output_type": "stream",
     "text": [
      "Row Count after label based filter:  16851\n",
      "Final Row count after label and feature filter:  16019\n"
     ]
    }
   ],
   "source": [
    "#pick subset of labels that are more intuitively representative of genre \n",
    "#genres like pop which are ambiguous are removed \n",
    "in_scope_labels = ['rock', 'electronic', 'hiphop', 'classical', 'jazz','country']\n",
    "#optain the indexes of label series wher the label is in the list \n",
    "in_scope_label_indexes = np.array(\n",
    "    (labels_series[\n",
    "                    labels_series\n",
    "                        .apply(lambda x: True if x in  in_scope_labels else False)\n",
    "                ]\n",
    "                        .index\n",
    "    )\n",
    ")\n",
    "\n",
    "#combine filter for the in scope labels with the same for in scope features \n",
    "in_scope_indexes = [index for index in in_scope_label_indexes if index in in_scope_feature_indexes]\n",
    "\n",
    "print(\"Row Count after label based filter: \", len(in_scope_label_indexes))\n",
    "print(\"Final Row count after label and feature filter: \", len(in_scope_indexes))"
   ]
  },
  {
   "cell_type": "code",
   "execution_count": 43,
   "metadata": {},
   "outputs": [
    {
     "name": "stdout",
     "output_type": "stream",
     "text": [
      "Unique label count:  6\n",
      "label data count  16019\n"
     ]
    }
   ],
   "source": [
    "in_scope_label_series = labels_series.iloc[in_scope_indexes]\n",
    "unique_label_names = in_scope_label_series.unique()\n",
    "unique_label_count = len(in_scope_label_series.unique())\n",
    "label_to_int_map = {}\n",
    "for index, label in enumerate(unique_label_names):\n",
    "    label_to_int_map[label] = index  \n",
    "\n",
    "\n",
    "int_to_label_map = {v: k for k, v in label_to_int_map.items()}\n",
    "\n",
    "#numerical_labels = labels_series.map(label_to_int_map)\n",
    "numerical_labels = in_scope_label_series.map(label_to_int_map)\n",
    "\n",
    "encoded_labels = tf.one_hot(indices = numerical_labels.values, depth = len(unique_label_names))\n",
    "\n",
    "#put to list and reshape again \n",
    "#not needed in current implementation\n",
    "#encoded_labels_array = [label.reshape((unique_label_count,1)) for label in encoded_labels.numpy()]\n",
    "print(\"Unique label count: \", unique_label_count)\n",
    "print(\"label data count \" , len(encoded_labels))"
   ]
  },
  {
   "cell_type": "code",
   "execution_count": 44,
   "metadata": {},
   "outputs": [
    {
     "data": {
      "text/plain": [
       "label\n",
       "rock          7053\n",
       "electronic    3745\n",
       "hiphop        3351\n",
       "classical      960\n",
       "jazz           623\n",
       "country        287\n",
       "Name: count, dtype: int64"
      ]
     },
     "execution_count": 44,
     "metadata": {},
     "output_type": "execute_result"
    }
   ],
   "source": [
    "in_scope_label_series.value_counts()"
   ]
  },
  {
   "cell_type": "markdown",
   "metadata": {},
   "source": [
    "### filter, truncate, reshape features\n",
    "iterate through the filtered features and build a vector representation appropriate for the CNN input"
   ]
  },
  {
   "cell_type": "code",
   "execution_count": 60,
   "metadata": {},
   "outputs": [],
   "source": [
    "#truncate to consistent length while reshaping \n",
    "reshaped_features = []\n",
    "feature_array = []\n",
    "for feature in features[in_scope_indexes]:\n",
    "    mfcc = [] \n",
    "    for vector in feature: \n",
    "        mfcc.append(vector[0:MFCC_LENGTH_CUTOFF])\n",
    "        mfcc_reshaped = np.array(mfcc)\n",
    "    feature_array.append(mfcc_reshaped)\n",
    "    reshaped_features.append(mfcc_reshaped.reshape((MFCC_LENGTH_CUTOFF,13,1)))"
   ]
  },
  {
   "cell_type": "markdown",
   "metadata": {},
   "source": [
    "### Train Test Split"
   ]
  },
  {
   "cell_type": "code",
   "execution_count": 116,
   "metadata": {},
   "outputs": [],
   "source": [
    "#generate train and test with stratification for equal label distribution across train and test \n",
    "TEST_SIZE = .2\n",
    "X_train, X_test, y_train, y_test = train_test_split(np.array(reshaped_features), encoded_labels.numpy(), test_size=TEST_SIZE, random_state=42, stratify =encoded_labels.numpy() )\n",
    "\n",
    "#variant with numerical enables, to allow smote f\n",
    "X_train_, X_test, y_train_, y_test = train_test_split(np.array(feature_array), np.array(numerical_labels), test_size=TEST_SIZE, random_state=42, stratify =np.array(numerical_labels) )\n",
    "\n"
   ]
  },
  {
   "cell_type": "code",
   "execution_count": 117,
   "metadata": {},
   "outputs": [
    {
     "data": {
      "text/plain": [
       "((12815, 13, 2582), (12815,))"
      ]
     },
     "execution_count": 117,
     "metadata": {},
     "output_type": "execute_result"
    }
   ],
   "source": [
    "#revised split to use smote\n",
    "X_train_.shape, y_train_.shape"
   ]
  },
  {
   "cell_type": "code",
   "execution_count": 118,
   "metadata": {},
   "outputs": [
    {
     "data": {
      "text/plain": [
       "((12815, 2582, 13, 1), (12815, 6))"
      ]
     },
     "execution_count": 118,
     "metadata": {},
     "output_type": "execute_result"
    }
   ],
   "source": [
    "#original split\n",
    "X_train.shape, y_train.shape"
   ]
  },
  {
   "cell_type": "code",
   "execution_count": 119,
   "metadata": {},
   "outputs": [],
   "source": [
    "# optionally apply SMOTE for more balance on training \n",
    "smote = SMOTE(random_state=42)\n",
    "X_train_balance_index, y_train_balanced = smote.fit_resample(np.array(list(range(0,len(X_train_)))).reshape(-1, 1), y_train_)"
   ]
  },
  {
   "cell_type": "code",
   "execution_count": 114,
   "metadata": {},
   "outputs": [
    {
     "data": {
      "text/plain": [
       "(33852, 1)"
      ]
     },
     "execution_count": 114,
     "metadata": {},
     "output_type": "execute_result"
    }
   ],
   "source": [
    "X_train_balance_index.shape"
   ]
  },
  {
   "cell_type": "code",
   "execution_count": 139,
   "metadata": {},
   "outputs": [
    {
     "data": {
      "text/plain": [
       "(33852, 13, 2582)"
      ]
     },
     "execution_count": 139,
     "metadata": {},
     "output_type": "execute_result"
    }
   ],
   "source": [
    "X_train = X_train_[np.array(X_train_balance_index.reshape(X_train_balance_index.shape[0]))]\n",
    "X_train.shape"
   ]
  },
  {
   "cell_type": "code",
   "execution_count": 140,
   "metadata": {},
   "outputs": [],
   "source": [
    "X_train =X_train.reshape((len(X_train),MFCC_LENGTH_CUTOFF,13,1))"
   ]
  },
  {
   "cell_type": "code",
   "execution_count": 141,
   "metadata": {},
   "outputs": [
    {
     "data": {
      "text/plain": [
       "(33852, 2582, 13, 1)"
      ]
     },
     "execution_count": 141,
     "metadata": {},
     "output_type": "execute_result"
    }
   ],
   "source": [
    "X_train.shape"
   ]
  },
  {
   "cell_type": "code",
   "execution_count": 142,
   "metadata": {},
   "outputs": [
    {
     "data": {
      "text/plain": [
       "(12815,)"
      ]
     },
     "execution_count": 142,
     "metadata": {},
     "output_type": "execute_result"
    }
   ],
   "source": [
    "y_train_.shape"
   ]
  },
  {
   "cell_type": "code",
   "execution_count": 148,
   "metadata": {},
   "outputs": [],
   "source": [
    "y_train = np.array(tf.one_hot(indices = y_train_balanced, depth = len(unique_label_names)))"
   ]
  },
  {
   "cell_type": "code",
   "execution_count": 149,
   "metadata": {},
   "outputs": [
    {
     "data": {
      "text/plain": [
       "(33852, 6)"
      ]
     },
     "execution_count": 149,
     "metadata": {},
     "output_type": "execute_result"
    }
   ],
   "source": [
    "y_train.shape"
   ]
  },
  {
   "cell_type": "code",
   "execution_count": 107,
   "metadata": {},
   "outputs": [
    {
     "data": {
      "text/plain": [
       "numpy.ndarray"
      ]
     },
     "execution_count": 107,
     "metadata": {},
     "output_type": "execute_result"
    }
   ],
   "source": [
    "type(y_train)"
   ]
  },
  {
   "cell_type": "markdown",
   "metadata": {},
   "source": [
    "### Define CNN model"
   ]
  },
  {
   "cell_type": "code",
   "execution_count": 150,
   "metadata": {},
   "outputs": [],
   "source": [
    "model = keras.Sequential(layers=[\n",
    "    #https://www.youtube.com/watch?v=dOG-HxpbMSw\n",
    "    #convulution 1\n",
    "    keras.layers.Conv2D(32, (3,3), activation=keras.activations.relu),\n",
    "    keras.layers.MaxPooling2D((3,3), strides=(2,2), padding='same'),\n",
    "    keras.layers.BatchNormalization(),\n",
    "    #convolution 2\n",
    "    keras.layers.Conv2D(32, (3,3), activation=keras.activations.relu),\n",
    "    keras.layers.MaxPooling2D((3,3), strides=(2,2), padding='same'),\n",
    "    keras.layers.BatchNormalization(),\n",
    "    #convolution 3\n",
    "    keras.layers.Conv2D(32, (2,2), activation=keras.activations.relu),\n",
    "    keras.layers.MaxPooling2D((2,2), strides=(2,2), padding='same'),\n",
    "    keras.layers.BatchNormalization(),\n",
    "    #flatten and feed into dense layer with dropiut\n",
    "    keras.layers.Flatten(),\n",
    "    keras.layers.Dense(64, activation=keras.activations.relu),\n",
    "    keras.layers.Dropout(0.3),\n",
    "    #predictions\n",
    "    keras.layers.Dense(unique_label_count, activation=keras.activations.softmax)\n",
    "        \n",
    "    ])\n",
    "cce = keras.losses.categorical_crossentropy\n",
    "\n",
    "opt = keras.optimizers.Adam(learning_rate=0.0001)\n",
    "model.compile(optimizer=opt, loss=cce, metrics=['accuracy'])"
   ]
  },
  {
   "cell_type": "code",
   "execution_count": null,
   "metadata": {},
   "outputs": [],
   "source": []
  },
  {
   "cell_type": "code",
   "execution_count": 22,
   "metadata": {},
   "outputs": [
    {
     "name": "stdout",
     "output_type": "stream",
     "text": [
      "Model: \"sequential\"\n",
      "_________________________________________________________________\n",
      " Layer (type)                Output Shape              Param #   \n",
      "=================================================================\n",
      " conv2d (Conv2D)             (None, 2580, 11, 32)      320       \n",
      "                                                                 \n",
      " max_pooling2d (MaxPooling2  (None, 1290, 6, 32)       0         \n",
      " D)                                                              \n",
      "                                                                 \n",
      " batch_normalization (Batch  (None, 1290, 6, 32)       128       \n",
      " Normalization)                                                  \n",
      "                                                                 \n",
      " conv2d_1 (Conv2D)           (None, 1288, 4, 32)       9248      \n",
      "                                                                 \n",
      " max_pooling2d_1 (MaxPoolin  (None, 644, 2, 32)        0         \n",
      " g2D)                                                            \n",
      "                                                                 \n",
      " batch_normalization_1 (Bat  (None, 644, 2, 32)        128       \n",
      " chNormalization)                                                \n",
      "                                                                 \n",
      " conv2d_2 (Conv2D)           (None, 643, 1, 32)        4128      \n",
      "                                                                 \n",
      " max_pooling2d_2 (MaxPoolin  (None, 322, 1, 32)        0         \n",
      " g2D)                                                            \n",
      "                                                                 \n",
      " batch_normalization_2 (Bat  (None, 322, 1, 32)        128       \n",
      " chNormalization)                                                \n",
      "                                                                 \n",
      " flatten (Flatten)           (None, 10304)             0         \n",
      "                                                                 \n",
      " dense (Dense)               (None, 64)                659520    \n",
      "                                                                 \n",
      " dropout (Dropout)           (None, 64)                0         \n",
      "                                                                 \n",
      " dense_1 (Dense)             (None, 6)                 390       \n",
      "                                                                 \n",
      "=================================================================\n",
      "Total params: 673990 (2.57 MB)\n",
      "Trainable params: 673798 (2.57 MB)\n",
      "Non-trainable params: 192 (768.00 Byte)\n",
      "_________________________________________________________________\n"
     ]
    }
   ],
   "source": [
    "#note this currently only works after training\n",
    "#To do figure out how to build model prior to training to inspect it's architectuer\n",
    "model.summary()"
   ]
  },
  {
   "cell_type": "markdown",
   "metadata": {},
   "source": [
    "### Train Model"
   ]
  },
  {
   "cell_type": "code",
   "execution_count": 151,
   "metadata": {},
   "outputs": [],
   "source": [
    "#configuration\n",
    "BATCH_SIZE = 128\n",
    "#BATCH_SIZE = 64\n",
    "#BATCH_SIZE = 32\n",
    "#EPOCHS = 50\n",
    "EPOCHS = 2\n",
    "EPOCHS = 2"
   ]
  },
  {
   "cell_type": "markdown",
   "metadata": {},
   "source": [
    "consider stratified k-fold: https://www.kaggle.com/code/chayannaskar26/stratified-k-fold-cnn\n",
    "Or smote for imbalance"
   ]
  },
  {
   "cell_type": "code",
   "execution_count": 152,
   "metadata": {},
   "outputs": [
    {
     "name": "stdout",
     "output_type": "stream",
     "text": [
      "Epoch 1/2\n",
      "212/212 [==============================] - 434s 2s/step - loss: 1.7583 - accuracy: 0.2083 - val_loss: 2.3779 - val_accuracy: 0.0012\n",
      "Epoch 2/2\n",
      "212/212 [==============================] - 512s 2s/step - loss: 1.7161 - accuracy: 0.2190 - val_loss: 2.8760 - val_accuracy: 5.9075e-04\n"
     ]
    },
    {
     "data": {
      "image/png": "[encoded data removed]",
      "text/plain": [
       "<Figure size 1200x800 with 2 Axes>"
      ]
     },
     "metadata": {},
     "output_type": "display_data"
    }
   ],
   "source": [
    "# Train the model\n",
    "#following reference: https://www.kaggle.com/code/nilshmeier/melspectrogram-based-cnn-classification/notebook\n",
    "early_stopping = keras.callbacks.EarlyStopping(\n",
    "    monitor='val_loss', \n",
    "    #monitor='val_accuracy',\n",
    "    min_delta = 0,\n",
    "    patience=5, \n",
    "    mode='auto',\n",
    "    restore_best_weights=True\n",
    "    )\n",
    "history = model.fit(x=X_train, y=y_train, validation_split=TEST_SIZE, epochs=EPOCHS, batch_size=BATCH_SIZE, callbacks=[early_stopping])\n",
    "\n",
    "# Plot the training history\n",
    "fig, axs = plt.subplots(2)\n",
    "fig.set_size_inches(12, 8)\n",
    "fig.suptitle('Training History', fontsize=16)\n",
    "axs[0].plot(history.epoch, history.history['loss'], history.history['val_loss'])\n",
    "axs[0].set(title='Loss', xlabel='Epoch', ylabel='Loss')\n",
    "axs[0].legend(['loss', 'val_loss'])\n",
    "axs[1].plot(history.epoch, history.history['accuracy'], history.history['val_accuracy'])\n",
    "axs[1].set(title='Accuracy', xlabel='Epoch', ylabel='Accuracy')\n",
    "axs[1].legend(['accuracy', 'val_accuracy'])\n",
    "plt.show()"
   ]
  },
  {
   "cell_type": "code",
   "execution_count": 157,
   "metadata": {},
   "outputs": [
    {
     "data": {
      "text/plain": [
       "(33852, 2582, 13, 1)"
      ]
     },
     "execution_count": 157,
     "metadata": {},
     "output_type": "execute_result"
    }
   ],
   "source": [
    "X_train.shape"
   ]
  },
  {
   "cell_type": "code",
   "execution_count": null,
   "metadata": {},
   "outputs": [
    {
     "data": {
      "text/plain": [
       "(3204, 2582, 13, 1)"
      ]
     },
     "execution_count": 160,
     "metadata": {},
     "output_type": "execute_result"
    }
   ],
   "source": [
    "#to adjust shapes for smote \n",
    "#this should be test \n",
    "X_test.reshape(X_test.shape[0], X_test.shape[2],X_test.shape[1],1).shape"
   ]
  },
  {
   "cell_type": "code",
   "execution_count": 158,
   "metadata": {},
   "outputs": [
    {
     "data": {
      "text/plain": [
       "3204"
      ]
     },
     "execution_count": 158,
     "metadata": {},
     "output_type": "execute_result"
    }
   ],
   "source": [
    "len(X_test)"
   ]
  },
  {
   "cell_type": "code",
   "execution_count": null,
   "metadata": {},
   "outputs": [
    {
     "data": {
      "text/plain": [
       "(3204,)"
      ]
     },
     "execution_count": 154,
     "metadata": {},
     "output_type": "execute_result"
    }
   ],
   "source": [
    "#why needs to be one hot encoded \n",
    "y_test.shape"
   ]
  },
  {
   "cell_type": "code",
   "execution_count": 130,
   "metadata": {},
   "outputs": [
    {
     "name": "stdout",
     "output_type": "stream",
     "text": [
      "101/101 [==============================] - 14s 137ms/step\n"
     ]
    },
    {
     "ename": "AxisError",
     "evalue": "axis 1 is out of bounds for array of dimension 1",
     "output_type": "error",
     "traceback": [
      "\u001b[0;31m---------------------------------------------------------------------------\u001b[0m",
      "\u001b[0;31mAxisError\u001b[0m                                 Traceback (most recent call last)",
      "Cell \u001b[0;32mIn[130], line 3\u001b[0m\n\u001b[1;32m      1\u001b[0m \u001b[38;5;66;03m#validation \u001b[39;00m\n\u001b[1;32m      2\u001b[0m y_predicted \u001b[38;5;241m=\u001b[39m np\u001b[38;5;241m.\u001b[39margmax(model\u001b[38;5;241m.\u001b[39mpredict(x\u001b[38;5;241m=\u001b[39mX_test), axis\u001b[38;5;241m=\u001b[39m\u001b[38;5;241m1\u001b[39m)\n\u001b[0;32m----> 3\u001b[0m y_true \u001b[38;5;241m=\u001b[39m \u001b[43mnp\u001b[49m\u001b[38;5;241;43m.\u001b[39;49m\u001b[43margmax\u001b[49m\u001b[43m(\u001b[49m\u001b[43my_test\u001b[49m\u001b[43m,\u001b[49m\u001b[43m \u001b[49m\u001b[43maxis\u001b[49m\u001b[38;5;241;43m=\u001b[39;49m\u001b[38;5;241;43m1\u001b[39;49m\u001b[43m)\u001b[49m\n\u001b[1;32m      4\u001b[0m \u001b[38;5;66;03m#remap the ints to string names \u001b[39;00m\n\u001b[1;32m      5\u001b[0m label_names \u001b[38;5;241m=\u001b[39m [int_to_label_map[int_label] \u001b[38;5;28;01mfor\u001b[39;00m int_label \u001b[38;5;129;01min\u001b[39;00m np\u001b[38;5;241m.\u001b[39munique(numerical_labels)]\n",
      "File \u001b[0;32m~/Desktop/UMichigan/Fall2024/siads699_capstone/music_modeling_capstone/.venv/lib/python3.10/site-packages/numpy/core/fromnumeric.py:1229\u001b[0m, in \u001b[0;36margmax\u001b[0;34m(a, axis, out, keepdims)\u001b[0m\n\u001b[1;32m   1142\u001b[0m \u001b[38;5;250m\u001b[39m\u001b[38;5;124;03m\"\"\"\u001b[39;00m\n\u001b[1;32m   1143\u001b[0m \u001b[38;5;124;03mReturns the indices of the maximum values along an axis.\u001b[39;00m\n\u001b[1;32m   1144\u001b[0m \n\u001b[0;32m   (...)\u001b[0m\n\u001b[1;32m   1226\u001b[0m \u001b[38;5;124;03m(2, 1, 4)\u001b[39;00m\n\u001b[1;32m   1227\u001b[0m \u001b[38;5;124;03m\"\"\"\u001b[39;00m\n\u001b[1;32m   1228\u001b[0m kwds \u001b[38;5;241m=\u001b[39m {\u001b[38;5;124m'\u001b[39m\u001b[38;5;124mkeepdims\u001b[39m\u001b[38;5;124m'\u001b[39m: keepdims} \u001b[38;5;28;01mif\u001b[39;00m keepdims \u001b[38;5;129;01mis\u001b[39;00m \u001b[38;5;129;01mnot\u001b[39;00m np\u001b[38;5;241m.\u001b[39m_NoValue \u001b[38;5;28;01melse\u001b[39;00m {}\n\u001b[0;32m-> 1229\u001b[0m \u001b[38;5;28;01mreturn\u001b[39;00m \u001b[43m_wrapfunc\u001b[49m\u001b[43m(\u001b[49m\u001b[43ma\u001b[49m\u001b[43m,\u001b[49m\u001b[43m \u001b[49m\u001b[38;5;124;43m'\u001b[39;49m\u001b[38;5;124;43margmax\u001b[39;49m\u001b[38;5;124;43m'\u001b[39;49m\u001b[43m,\u001b[49m\u001b[43m \u001b[49m\u001b[43maxis\u001b[49m\u001b[38;5;241;43m=\u001b[39;49m\u001b[43maxis\u001b[49m\u001b[43m,\u001b[49m\u001b[43m \u001b[49m\u001b[43mout\u001b[49m\u001b[38;5;241;43m=\u001b[39;49m\u001b[43mout\u001b[49m\u001b[43m,\u001b[49m\u001b[43m \u001b[49m\u001b[38;5;241;43m*\u001b[39;49m\u001b[38;5;241;43m*\u001b[39;49m\u001b[43mkwds\u001b[49m\u001b[43m)\u001b[49m\n",
      "File \u001b[0;32m~/Desktop/UMichigan/Fall2024/siads699_capstone/music_modeling_capstone/.venv/lib/python3.10/site-packages/numpy/core/fromnumeric.py:59\u001b[0m, in \u001b[0;36m_wrapfunc\u001b[0;34m(obj, method, *args, **kwds)\u001b[0m\n\u001b[1;32m     56\u001b[0m     \u001b[38;5;28;01mreturn\u001b[39;00m _wrapit(obj, method, \u001b[38;5;241m*\u001b[39margs, \u001b[38;5;241m*\u001b[39m\u001b[38;5;241m*\u001b[39mkwds)\n\u001b[1;32m     58\u001b[0m \u001b[38;5;28;01mtry\u001b[39;00m:\n\u001b[0;32m---> 59\u001b[0m     \u001b[38;5;28;01mreturn\u001b[39;00m \u001b[43mbound\u001b[49m\u001b[43m(\u001b[49m\u001b[38;5;241;43m*\u001b[39;49m\u001b[43margs\u001b[49m\u001b[43m,\u001b[49m\u001b[43m \u001b[49m\u001b[38;5;241;43m*\u001b[39;49m\u001b[38;5;241;43m*\u001b[39;49m\u001b[43mkwds\u001b[49m\u001b[43m)\u001b[49m\n\u001b[1;32m     60\u001b[0m \u001b[38;5;28;01mexcept\u001b[39;00m \u001b[38;5;167;01mTypeError\u001b[39;00m:\n\u001b[1;32m     61\u001b[0m     \u001b[38;5;66;03m# A TypeError occurs if the object does have such a method in its\u001b[39;00m\n\u001b[1;32m     62\u001b[0m     \u001b[38;5;66;03m# class, but its signature is not identical to that of NumPy's. This\u001b[39;00m\n\u001b[0;32m   (...)\u001b[0m\n\u001b[1;32m     66\u001b[0m     \u001b[38;5;66;03m# Call _wrapit from within the except clause to ensure a potential\u001b[39;00m\n\u001b[1;32m     67\u001b[0m     \u001b[38;5;66;03m# exception has a traceback chain.\u001b[39;00m\n\u001b[1;32m     68\u001b[0m     \u001b[38;5;28;01mreturn\u001b[39;00m _wrapit(obj, method, \u001b[38;5;241m*\u001b[39margs, \u001b[38;5;241m*\u001b[39m\u001b[38;5;241m*\u001b[39mkwds)\n",
      "\u001b[0;31mAxisError\u001b[0m: axis 1 is out of bounds for array of dimension 1"
     ]
    }
   ],
   "source": [
    "#validation \n",
    "y_predicted = np.argmax(model.predict(x=X_test), axis=1)\n",
    "y_true = np.argmax(y_test, axis=1)\n",
    "#remap the ints to string names \n",
    "label_names = [int_to_label_map[int_label] for int_label in np.unique(numerical_labels)]\n",
    "confusion_matrix = tf.math.confusion_matrix(labels=y_true, predictions=y_predicted)\n",
    "fig = plt.figure()\n",
    "fig.set_size_inches(12, 8)\n",
    "sns.heatmap(confusion_matrix, xticklabels=label_names, yticklabels=label_names, annot=True, fmt='g')\n",
    "plt.xlabel('Prediction')\n",
    "plt.ylabel('Actual')\n",
    "plt.show()"
   ]
  },
  {
   "cell_type": "code",
   "execution_count": 33,
   "metadata": {},
   "outputs": [
    {
     "data": {
      "text/plain": [
       "['hiphop', 'rock', 'electronic', 'jazz', 'country', 'classical']"
      ]
     },
     "execution_count": 33,
     "metadata": {},
     "output_type": "execute_result"
    }
   ],
   "source": [
    "[int_to_label_map[int_label] for int_label in label_names]"
   ]
  },
  {
   "cell_type": "code",
   "execution_count": 31,
   "metadata": {},
   "outputs": [
    {
     "data": {
      "text/plain": [
       "{0: 'hiphop',\n",
       " 1: 'rock',\n",
       " 2: 'electronic',\n",
       " 3: 'jazz',\n",
       " 4: 'country',\n",
       " 5: 'classical'}"
      ]
     },
     "execution_count": 31,
     "metadata": {},
     "output_type": "execute_result"
    }
   ],
   "source": [
    "int_to_label_map"
   ]
  },
  {
   "cell_type": "code",
   "execution_count": null,
   "metadata": {},
   "outputs": [],
   "source": []
  }
 ],
 "metadata": {
  "kernelspec": {
   "display_name": ".venv",
   "language": "python",
   "name": "python3"
  },
  "language_info": {
   "codemirror_mode": {
    "name": "ipython",
    "version": 3
   },
   "file_extension": ".py",
   "mimetype": "text/x-python",
   "name": "python",
   "nbconvert_exporter": "python",
   "pygments_lexer": "ipython3",
   "version": "3.10.15"
  }
 },
 "nbformat": 4,
 "nbformat_minor": 2
}
