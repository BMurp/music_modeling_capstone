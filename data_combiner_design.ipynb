{
 "cells": [
  {
   "cell_type": "markdown",
   "metadata": {},
   "source": [
    "# Design How to Combine the data sources\n",
    "we should have a data source with harmonized ids and meta for each audio file as well as labels "
   ]
  },
  {
   "cell_type": "code",
   "execution_count": 83,
   "metadata": {},
   "outputs": [],
   "source": [
    "import pandas as pd\n",
    "import fma_modules.utils as fma_utils\n",
    "import librosa\n"
   ]
  },
  {
   "cell_type": "code",
   "execution_count": 70,
   "metadata": {},
   "outputs": [],
   "source": [
    "class DataSource():\n",
    "    def __init__(self,metadata_path, audio_path):\n",
    "        self.metadata_path = metadata_path \n",
    "        self.audio_path = audio_path\n",
    "        self.columns = ['dataset',\n",
    "                        'audio_path',\n",
    "                        'label',\n",
    "                        'fma_genre_top',\n",
    "                        'fma_genres',\n",
    "                        'fma_genres_all']\n",
    "        return \n",
    "    \n",
    "    def get_file_meta(self):\n",
    "        return \n",
    "    \n",
    "    def get_audio_paths(self):\n",
    "        return\n",
    "\n",
    "        \n",
    "class FreeMusicArchive(DataSource):\n",
    "    def __init__(self, metadata_path, audio_path):\n",
    "        DataSource.__init__(self, metadata_path, audio_path)\n",
    "        self.tracks = tracks =fma_utils.load(self.metadata_path + 'tracks.csv')\n",
    "\n",
    "    def get_file_meta(self):\n",
    "        track_meta = self.tracks['track']\n",
    "        id_and_labels = (track_meta[['genre_top','genres','genres_all']]\n",
    "                         .rename(columns={'genre_top': 'fma_genre_top',\n",
    "                                          'genres': 'fma_genres',\n",
    "                                          'genres_all': 'fma_genres_all'\n",
    "                                          \n",
    "                                          })\n",
    "                         )\n",
    "        id_and_labels['dataset']= 'fma'\n",
    "        id_and_labels['audio_path'] = self.get_audio_paths()\n",
    "        id_and_labels['label'] = id_and_labels['fma_genre_top']\n",
    "\n",
    "        \n",
    "        return id_and_labels[self.columns]\n",
    "    \n",
    "    def get_audio_paths(self):\n",
    "        return (self.tracks.index\n",
    "                    .to_series()\n",
    "                    .map(lambda index: fma_utils.get_audio_path(self.audio_path, index))\n",
    "                )\n",
    "\n",
    "\n",
    "class GTZAN(DataSource):\n",
    "    def __init__(self, metadata_path, audio_path):\n",
    "        DataSource.__init__(self, metadata_path, audio_path)\n",
    "        self.features_30_sec = pd.read_csv(metadata_path+ 'features_30_sec.csv')\n",
    "        return\n",
    "    def get_file_meta(self):      \n",
    "        id_and_labels = self.features_30_sec[['filename','label']].reset_index()\n",
    "        id_and_labels['track_id'] = id_and_labels['filename']\n",
    "\n",
    "        id_and_labels['dataset']= 'gtzan'\n",
    "\n",
    "        id_and_labels['audio_path'] = self.audio_path +'/'+ id_and_labels.label + '/' + id_and_labels.filename\n",
    "\n",
    "        harmonized = id_and_labels.set_index('track_id')\n",
    "        harmonized['fma_genre_top'] = 'n/a'\n",
    "        harmonized['fma_genres'] = 'n/a'\n",
    "        harmonized['fma_genres_all'] = 'n/a'\n",
    "\n",
    "        return harmonized[self.columns]\n",
    "    \n",
    "\n",
    "class CombinedDataLoader():\n",
    "    def __init__(self):\n",
    "        self.FMA_MEATADATA_PATH =\"project_data_source/free_music_archive/fma_metadata/\"\n",
    "        self.FMA_AUDIO_PATH = \"project_data_source/free_music_archive/fma_small/\"\n",
    "        self.fma = FreeMusicArchive(self.FMA_MEATADATA_PATH,self.FMA_AUDIO_PATH)\n",
    "        self.GTZAN_MEATADATA_PATH = \"project_data_source/gtzan_dataset/Data/\"\n",
    "        self.GTZAN_AUDIO_PATH = \"project_data_source/gtzan_dataset/Data/genres_original\"\n",
    "        self.gtzan = GTZAN(self.GTZAN_MEATADATA_PATH,self.GTZAN_AUDIO_PATH)\n",
    "        return \n",
    "    def get_combined_df(self):\n",
    "        \n",
    "        return pd.concat([data.get_file_meta() for data in [self.fma,self.gtzan]])\n",
    "    \n",
    "\n",
    "\n",
    "    "
   ]
  },
  {
   "cell_type": "code",
   "execution_count": 155,
   "metadata": {},
   "outputs": [],
   "source": [
    "class AudioFeatureExtractor():\n",
    "    def __init__(self,source_data):\n",
    "        self.df = source_data.copy()\n",
    "        return\n",
    "    \n",
    "    def get_audio_data(self,file_name):\n",
    "        try:\n",
    "            y, sr = librosa.load(file_name)\n",
    "        except:\n",
    "            return 0\n",
    "        return y, sr\n",
    "    \n",
    "    def add_audio_data_to_df(self):\n",
    "        self.df['audio_data'] = self.df['audio_path'].apply(self.get_audio_data)\n",
    "\n",
    "        return \n",
    "    \n",
    "    "
   ]
  },
  {
   "cell_type": "code",
   "execution_count": 71,
   "metadata": {},
   "outputs": [],
   "source": [
    "data = CombinedDataLoader()"
   ]
  },
  {
   "cell_type": "code",
   "execution_count": 73,
   "metadata": {},
   "outputs": [],
   "source": [
    "combined = data.get_combined_df()"
   ]
  },
  {
   "cell_type": "code",
   "execution_count": 78,
   "metadata": {},
   "outputs": [
    {
     "data": {
      "text/plain": [
       "dataset\n",
       "fma      106574\n",
       "gtzan      1000\n",
       "Name: audio_path, dtype: int64"
      ]
     },
     "execution_count": 78,
     "metadata": {},
     "output_type": "execute_result"
    }
   ],
   "source": [
    "combined.groupby('dataset')['audio_path'].count()"
   ]
  },
  {
   "cell_type": "code",
   "execution_count": 165,
   "metadata": {},
   "outputs": [],
   "source": [
    "test_data = combined.iloc[0:10000]\n"
   ]
  },
  {
   "cell_type": "code",
   "execution_count": 166,
   "metadata": {},
   "outputs": [],
   "source": [
    "afe = AudioFeatureExtractor(test_data)"
   ]
  },
  {
   "cell_type": "code",
   "execution_count": 141,
   "metadata": {},
   "outputs": [
    {
     "data": {
      "text/html": [
       "<div>\n",
       "<style scoped>\n",
       "    .dataframe tbody tr th:only-of-type {\n",
       "        vertical-align: middle;\n",
       "    }\n",
       "\n",
       "    .dataframe tbody tr th {\n",
       "        vertical-align: top;\n",
       "    }\n",
       "\n",
       "    .dataframe thead th {\n",
       "        text-align: right;\n",
       "    }\n",
       "</style>\n",
       "<table border=\"1\" class=\"dataframe\">\n",
       "  <thead>\n",
       "    <tr style=\"text-align: right;\">\n",
       "      <th></th>\n",
       "      <th>dataset</th>\n",
       "      <th>audio_path</th>\n",
       "      <th>label</th>\n",
       "      <th>fma_genre_top</th>\n",
       "      <th>fma_genres</th>\n",
       "      <th>fma_genres_all</th>\n",
       "    </tr>\n",
       "    <tr>\n",
       "      <th>track_id</th>\n",
       "      <th></th>\n",
       "      <th></th>\n",
       "      <th></th>\n",
       "      <th></th>\n",
       "      <th></th>\n",
       "      <th></th>\n",
       "    </tr>\n",
       "  </thead>\n",
       "  <tbody>\n",
       "    <tr>\n",
       "      <th>2</th>\n",
       "      <td>fma</td>\n",
       "      <td>project_data_source/free_music_archive/fma_sma...</td>\n",
       "      <td>Hip-Hop</td>\n",
       "      <td>Hip-Hop</td>\n",
       "      <td>[21]</td>\n",
       "      <td>[21]</td>\n",
       "    </tr>\n",
       "    <tr>\n",
       "      <th>3</th>\n",
       "      <td>fma</td>\n",
       "      <td>project_data_source/free_music_archive/fma_sma...</td>\n",
       "      <td>Hip-Hop</td>\n",
       "      <td>Hip-Hop</td>\n",
       "      <td>[21]</td>\n",
       "      <td>[21]</td>\n",
       "    </tr>\n",
       "    <tr>\n",
       "      <th>5</th>\n",
       "      <td>fma</td>\n",
       "      <td>project_data_source/free_music_archive/fma_sma...</td>\n",
       "      <td>Hip-Hop</td>\n",
       "      <td>Hip-Hop</td>\n",
       "      <td>[21]</td>\n",
       "      <td>[21]</td>\n",
       "    </tr>\n",
       "    <tr>\n",
       "      <th>10</th>\n",
       "      <td>fma</td>\n",
       "      <td>project_data_source/free_music_archive/fma_sma...</td>\n",
       "      <td>Pop</td>\n",
       "      <td>Pop</td>\n",
       "      <td>[10]</td>\n",
       "      <td>[10]</td>\n",
       "    </tr>\n",
       "    <tr>\n",
       "      <th>20</th>\n",
       "      <td>fma</td>\n",
       "      <td>project_data_source/free_music_archive/fma_sma...</td>\n",
       "      <td>NaN</td>\n",
       "      <td>NaN</td>\n",
       "      <td>[76, 103]</td>\n",
       "      <td>[17, 10, 76, 103]</td>\n",
       "    </tr>\n",
       "    <tr>\n",
       "      <th>...</th>\n",
       "      <td>...</td>\n",
       "      <td>...</td>\n",
       "      <td>...</td>\n",
       "      <td>...</td>\n",
       "      <td>...</td>\n",
       "      <td>...</td>\n",
       "    </tr>\n",
       "    <tr>\n",
       "      <th>1270</th>\n",
       "      <td>fma</td>\n",
       "      <td>project_data_source/free_music_archive/fma_sma...</td>\n",
       "      <td>Rock</td>\n",
       "      <td>Rock</td>\n",
       "      <td>[25]</td>\n",
       "      <td>[25, 12]</td>\n",
       "    </tr>\n",
       "    <tr>\n",
       "      <th>1271</th>\n",
       "      <td>fma</td>\n",
       "      <td>project_data_source/free_music_archive/fma_sma...</td>\n",
       "      <td>Rock</td>\n",
       "      <td>Rock</td>\n",
       "      <td>[25]</td>\n",
       "      <td>[25, 12]</td>\n",
       "    </tr>\n",
       "    <tr>\n",
       "      <th>1272</th>\n",
       "      <td>fma</td>\n",
       "      <td>project_data_source/free_music_archive/fma_sma...</td>\n",
       "      <td>Rock</td>\n",
       "      <td>Rock</td>\n",
       "      <td>[25]</td>\n",
       "      <td>[25, 12]</td>\n",
       "    </tr>\n",
       "    <tr>\n",
       "      <th>1273</th>\n",
       "      <td>fma</td>\n",
       "      <td>project_data_source/free_music_archive/fma_sma...</td>\n",
       "      <td>Rock</td>\n",
       "      <td>Rock</td>\n",
       "      <td>[25]</td>\n",
       "      <td>[25, 12]</td>\n",
       "    </tr>\n",
       "    <tr>\n",
       "      <th>1274</th>\n",
       "      <td>fma</td>\n",
       "      <td>project_data_source/free_music_archive/fma_sma...</td>\n",
       "      <td>Rock</td>\n",
       "      <td>Rock</td>\n",
       "      <td>[25]</td>\n",
       "      <td>[25, 12]</td>\n",
       "    </tr>\n",
       "  </tbody>\n",
       "</table>\n",
       "<p>1000 rows × 6 columns</p>\n",
       "</div>"
      ],
      "text/plain": [
       "         dataset                                         audio_path    label  \\\n",
       "track_id                                                                       \n",
       "2            fma  project_data_source/free_music_archive/fma_sma...  Hip-Hop   \n",
       "3            fma  project_data_source/free_music_archive/fma_sma...  Hip-Hop   \n",
       "5            fma  project_data_source/free_music_archive/fma_sma...  Hip-Hop   \n",
       "10           fma  project_data_source/free_music_archive/fma_sma...      Pop   \n",
       "20           fma  project_data_source/free_music_archive/fma_sma...      NaN   \n",
       "...          ...                                                ...      ...   \n",
       "1270         fma  project_data_source/free_music_archive/fma_sma...     Rock   \n",
       "1271         fma  project_data_source/free_music_archive/fma_sma...     Rock   \n",
       "1272         fma  project_data_source/free_music_archive/fma_sma...     Rock   \n",
       "1273         fma  project_data_source/free_music_archive/fma_sma...     Rock   \n",
       "1274         fma  project_data_source/free_music_archive/fma_sma...     Rock   \n",
       "\n",
       "         fma_genre_top fma_genres     fma_genres_all  \n",
       "track_id                                              \n",
       "2              Hip-Hop       [21]               [21]  \n",
       "3              Hip-Hop       [21]               [21]  \n",
       "5              Hip-Hop       [21]               [21]  \n",
       "10                 Pop       [10]               [10]  \n",
       "20                 NaN  [76, 103]  [17, 10, 76, 103]  \n",
       "...                ...        ...                ...  \n",
       "1270              Rock       [25]           [25, 12]  \n",
       "1271              Rock       [25]           [25, 12]  \n",
       "1272              Rock       [25]           [25, 12]  \n",
       "1273              Rock       [25]           [25, 12]  \n",
       "1274              Rock       [25]           [25, 12]  \n",
       "\n",
       "[1000 rows x 6 columns]"
      ]
     },
     "execution_count": 141,
     "metadata": {},
     "output_type": "execute_result"
    }
   ],
   "source": [
    "afe.df"
   ]
  },
  {
   "cell_type": "code",
   "execution_count": 167,
   "metadata": {},
   "outputs": [
    {
     "name": "stderr",
     "output_type": "stream",
     "text": [
      "/var/folders/rt/w6xs9fcn3snbp_cdthc_kjww0000gq/T/ipykernel_5031/209834038.py:8: UserWarning: PySoundFile failed. Trying audioread instead.\n",
      "  y, sr = librosa.load(file_name)\n",
      "/Users/murphybre/Desktop/UMichigan/Fall2024/siads699_capstone/music_modeling_capstone/.venv/lib/python3.10/site-packages/librosa/core/audio.py:184: FutureWarning: librosa.core.audio.__audioread_load\n",
      "\tDeprecated as of librosa version 0.10.0.\n",
      "\tIt will be removed in librosa version 1.0.\n",
      "  y, sr_native = __audioread_load(path, offset, duration, dtype)\n",
      "[src/libmpg123/layer3.c:INT123_do_layer3():1841] error: dequantization failed!\n"
     ]
    }
   ],
   "source": [
    "afe.add_audio_data_to_df()"
   ]
  },
  {
   "cell_type": "code",
   "execution_count": 168,
   "metadata": {},
   "outputs": [
    {
     "data": {
      "text/html": [
       "<div>\n",
       "<style scoped>\n",
       "    .dataframe tbody tr th:only-of-type {\n",
       "        vertical-align: middle;\n",
       "    }\n",
       "\n",
       "    .dataframe tbody tr th {\n",
       "        vertical-align: top;\n",
       "    }\n",
       "\n",
       "    .dataframe thead th {\n",
       "        text-align: right;\n",
       "    }\n",
       "</style>\n",
       "<table border=\"1\" class=\"dataframe\">\n",
       "  <thead>\n",
       "    <tr style=\"text-align: right;\">\n",
       "      <th></th>\n",
       "      <th>dataset</th>\n",
       "      <th>audio_path</th>\n",
       "      <th>label</th>\n",
       "      <th>fma_genre_top</th>\n",
       "      <th>fma_genres</th>\n",
       "      <th>fma_genres_all</th>\n",
       "      <th>audio_data</th>\n",
       "    </tr>\n",
       "    <tr>\n",
       "      <th>audio_data</th>\n",
       "      <th></th>\n",
       "      <th></th>\n",
       "      <th></th>\n",
       "      <th></th>\n",
       "      <th></th>\n",
       "      <th></th>\n",
       "      <th></th>\n",
       "    </tr>\n",
       "  </thead>\n",
       "  <tbody>\n",
       "    <tr>\n",
       "      <th>False</th>\n",
       "      <td>9234</td>\n",
       "      <td>9234</td>\n",
       "      <td>6024</td>\n",
       "      <td>6024</td>\n",
       "      <td>9234</td>\n",
       "      <td>9234</td>\n",
       "      <td>9234</td>\n",
       "    </tr>\n",
       "    <tr>\n",
       "      <th>True</th>\n",
       "      <td>766</td>\n",
       "      <td>766</td>\n",
       "      <td>766</td>\n",
       "      <td>766</td>\n",
       "      <td>766</td>\n",
       "      <td>766</td>\n",
       "      <td>766</td>\n",
       "    </tr>\n",
       "  </tbody>\n",
       "</table>\n",
       "</div>"
      ],
      "text/plain": [
       "            dataset  audio_path  label  fma_genre_top  fma_genres  \\\n",
       "audio_data                                                          \n",
       "False          9234        9234   6024           6024        9234   \n",
       "True            766         766    766            766         766   \n",
       "\n",
       "            fma_genres_all  audio_data  \n",
       "audio_data                              \n",
       "False                 9234        9234  \n",
       "True                   766         766  "
      ]
     },
     "execution_count": 168,
     "metadata": {},
     "output_type": "execute_result"
    }
   ],
   "source": [
    "afe.df.groupby(afe.df['audio_data'] != 0).count()"
   ]
  },
  {
   "cell_type": "code",
   "execution_count": 154,
   "metadata": {},
   "outputs": [
    {
     "data": {
      "text/plain": [
       "track_id\n",
       "2       ([9.313226e-09, 2.7939677e-09, -3.7252903e-09,...\n",
       "3                                                ([0], 0)\n",
       "5       ([-2.561137e-09, 5.5879354e-09, -5.5879354e-09...\n",
       "10      ([-2.2351742e-08, 7.450581e-09, -7.450581e-09,...\n",
       "20                                               ([0], 0)\n",
       "                              ...                        \n",
       "1270    ([-4.6185278e-14, 2.842171e-13, 6.465939e-13, ...\n",
       "1271                                             ([0], 0)\n",
       "1272                                             ([0], 0)\n",
       "1273                                             ([0], 0)\n",
       "1274                                             ([0], 0)\n",
       "Name: audio_data, Length: 1000, dtype: object"
      ]
     },
     "execution_count": 154,
     "metadata": {},
     "output_type": "execute_result"
    }
   ],
   "source": [
    "afe.df['audio_data']"
   ]
  },
  {
   "cell_type": "code",
   "execution_count": 131,
   "metadata": {},
   "outputs": [
    {
     "data": {
      "text/plain": [
       "'project_data_source/free_music_archive/fma_small/000/000003.mp3'"
      ]
     },
     "execution_count": 131,
     "metadata": {},
     "output_type": "execute_result"
    }
   ],
   "source": [
    "afe.df['audio_path'].iloc[1]"
   ]
  },
  {
   "cell_type": "code",
   "execution_count": 133,
   "metadata": {},
   "outputs": [
    {
     "data": {
      "text/plain": [
       "'000/000003'"
      ]
     },
     "execution_count": 133,
     "metadata": {},
     "output_type": "execute_result"
    }
   ],
   "source": [
    "tid_str = '{:06d}'.format(3)\n",
    "\n",
    "tid_str[:3]+'/'+tid_str"
   ]
  },
  {
   "cell_type": "code",
   "execution_count": null,
   "metadata": {},
   "outputs": [],
   "source": []
  }
 ],
 "metadata": {
  "language_info": {
   "name": "python"
  }
 },
 "nbformat": 4,
 "nbformat_minor": 2
}
